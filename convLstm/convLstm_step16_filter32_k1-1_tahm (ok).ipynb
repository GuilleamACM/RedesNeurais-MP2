{
 "cells": [
  {
   "cell_type": "markdown",
   "metadata": {},
   "source": [
    "__________________________________________________________________________________\n",
    "                             |Predicting BTC with LSTM|\n",
    "                                   |ConvLSTM|\n",
    "                                   \n",
    "Gabriel Lyra      - glgs2  \n",
    "Guilherme Melo    - gacm  \n",
    "Henrique Mariz    - ham2  \n",
    "Matheus Belfort   - mbmt  \n",
    "Matheus Lima      - mlbp  \n",
    "__________________________________________________________________________________"
   ]
  },
  {
   "cell_type": "markdown",
   "metadata": {},
   "source": [
    "Importando as bibliotecas necessárias"
   ]
  },
  {
   "cell_type": "code",
   "execution_count": 1,
   "metadata": {
    "colab": {
     "base_uri": "https://localhost:8080/"
    },
    "id": "vDolIykGxUYR",
    "outputId": "193c0579-83e2-4263-e84c-20f71d2eb1c9"
   },
   "outputs": [],
   "source": [
    "import warnings\n",
    "warnings.filterwarnings('ignore')\n",
    "\n",
    "#importing the libraries\n",
    "import io\n",
    "import numpy as np\n",
    "import pandas as pd\n",
    "import seaborn as sns\n",
    "import tensorflow as tf\n",
    "import matplotlib.pyplot as plt\n",
    "import math\n",
    "\n",
    "from sklearn.model_selection import GridSearchCV\n",
    "from sklearn.preprocessing import MinMaxScaler\n",
    "from sklearn.model_selection import train_test_split\n",
    "from sklearn.metrics import mean_squared_error, mean_absolute_error\n",
    "\n",
    "from keras.wrappers.scikit_learn import KerasClassifier\n",
    "from keras.models import Sequential\n",
    "from keras.layers import LSTM\n",
    "from keras.layers import Dense\n",
    "\n",
    "%matplotlib inline"
   ]
  },
  {
   "cell_type": "markdown",
   "metadata": {},
   "source": [
    "Carregando dataset"
   ]
  },
  {
   "cell_type": "code",
   "execution_count": 2,
   "metadata": {
    "colab": {
     "base_uri": "https://localhost:8080/",
     "height": 72,
     "resources": {
      "http://localhost:8080/nbextensions/google.colab/files.js": {
       "data": "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",
       "headers": [
        [
         "content-type",
         "application/javascript"
        ]
       ],
       "ok": true,
       "status": 200,
       "status_text": ""
      }
     }
    },
    "id": "cbxmtkAqymn9",
    "outputId": "adc0c3b7-0e76-4c1b-c2f8-918d113e2007"
   },
   "outputs": [],
   "source": [
    "#loading the dataset\n",
    "file = 'btc.csv'"
   ]
  },
  {
   "cell_type": "code",
   "execution_count": 3,
   "metadata": {
    "colab": {
     "base_uri": "https://localhost:8080/",
     "height": 204
    },
    "id": "isB9VtHSypEU",
    "outputId": "5b0b8219-c328-4f37-aa62-d259a7452710"
   },
   "outputs": [
    {
     "data": {
      "text/html": [
       "<div>\n",
       "<style scoped>\n",
       "    .dataframe tbody tr th:only-of-type {\n",
       "        vertical-align: middle;\n",
       "    }\n",
       "\n",
       "    .dataframe tbody tr th {\n",
       "        vertical-align: top;\n",
       "    }\n",
       "\n",
       "    .dataframe thead th {\n",
       "        text-align: right;\n",
       "    }\n",
       "</style>\n",
       "<table border=\"1\" class=\"dataframe\">\n",
       "  <thead>\n",
       "    <tr style=\"text-align: right;\">\n",
       "      <th></th>\n",
       "      <th>Date</th>\n",
       "      <th>Symbol</th>\n",
       "      <th>Open</th>\n",
       "      <th>High</th>\n",
       "      <th>Low</th>\n",
       "      <th>Close</th>\n",
       "      <th>Volume From</th>\n",
       "      <th>Volume To</th>\n",
       "    </tr>\n",
       "  </thead>\n",
       "  <tbody>\n",
       "    <tr>\n",
       "      <th>0</th>\n",
       "      <td>5/26/2018</td>\n",
       "      <td>BTCUSD</td>\n",
       "      <td>7459.11</td>\n",
       "      <td>7640.46</td>\n",
       "      <td>7380.00</td>\n",
       "      <td>7520.00</td>\n",
       "      <td>2722.80</td>\n",
       "      <td>2.042265e+07</td>\n",
       "    </tr>\n",
       "    <tr>\n",
       "      <th>1</th>\n",
       "      <td>5/25/2018</td>\n",
       "      <td>BTCUSD</td>\n",
       "      <td>7584.15</td>\n",
       "      <td>7661.85</td>\n",
       "      <td>7326.94</td>\n",
       "      <td>7459.11</td>\n",
       "      <td>8491.93</td>\n",
       "      <td>6.342069e+07</td>\n",
       "    </tr>\n",
       "    <tr>\n",
       "      <th>2</th>\n",
       "      <td>5/24/2018</td>\n",
       "      <td>BTCUSD</td>\n",
       "      <td>7505.00</td>\n",
       "      <td>7734.99</td>\n",
       "      <td>7269.00</td>\n",
       "      <td>7584.15</td>\n",
       "      <td>11033.72</td>\n",
       "      <td>8.293137e+07</td>\n",
       "    </tr>\n",
       "    <tr>\n",
       "      <th>3</th>\n",
       "      <td>5/23/2018</td>\n",
       "      <td>BTCUSD</td>\n",
       "      <td>7987.70</td>\n",
       "      <td>8030.00</td>\n",
       "      <td>7433.19</td>\n",
       "      <td>7505.00</td>\n",
       "      <td>14905.99</td>\n",
       "      <td>1.148104e+08</td>\n",
       "    </tr>\n",
       "    <tr>\n",
       "      <th>4</th>\n",
       "      <td>5/22/2018</td>\n",
       "      <td>BTCUSD</td>\n",
       "      <td>8393.44</td>\n",
       "      <td>8400.00</td>\n",
       "      <td>7950.00</td>\n",
       "      <td>7987.70</td>\n",
       "      <td>6589.43</td>\n",
       "      <td>5.389753e+07</td>\n",
       "    </tr>\n",
       "  </tbody>\n",
       "</table>\n",
       "</div>"
      ],
      "text/plain": [
       "        Date  Symbol     Open     High      Low    Close  Volume From  \\\n",
       "0  5/26/2018  BTCUSD  7459.11  7640.46  7380.00  7520.00      2722.80   \n",
       "1  5/25/2018  BTCUSD  7584.15  7661.85  7326.94  7459.11      8491.93   \n",
       "2  5/24/2018  BTCUSD  7505.00  7734.99  7269.00  7584.15     11033.72   \n",
       "3  5/23/2018  BTCUSD  7987.70  8030.00  7433.19  7505.00     14905.99   \n",
       "4  5/22/2018  BTCUSD  8393.44  8400.00  7950.00  7987.70      6589.43   \n",
       "\n",
       "      Volume To  \n",
       "0  2.042265e+07  \n",
       "1  6.342069e+07  \n",
       "2  8.293137e+07  \n",
       "3  1.148104e+08  \n",
       "4  5.389753e+07  "
      ]
     },
     "execution_count": 3,
     "metadata": {},
     "output_type": "execute_result"
    }
   ],
   "source": [
    "#decoding the files as dataframe will be a dictionary of keys (the file names) and values (the encoded file objects)\n",
    "btc = pd.read_csv(file)\n",
    "btc.head()"
   ]
  },
  {
   "cell_type": "markdown",
   "metadata": {},
   "source": [
    "Removendo colunas que não devem ser utilizadas no treinamento"
   ]
  },
  {
   "cell_type": "code",
   "execution_count": 4,
   "metadata": {
    "id": "PjjXllQR_pje"
   },
   "outputs": [],
   "source": [
    "btc = btc.drop(['Date', 'Symbol'], axis=1)"
   ]
  },
  {
   "cell_type": "code",
   "execution_count": 5,
   "metadata": {
    "id": "MkKzlyIG5ryt"
   },
   "outputs": [],
   "source": [
    "features = btc['Close']\n",
    "outcome = btc.drop(['Close'], axis=1)"
   ]
  },
  {
   "cell_type": "code",
   "execution_count": 6,
   "metadata": {
    "colab": {
     "base_uri": "https://localhost:8080/",
     "height": 419
    },
    "id": "NEwnNxiNAqt0",
    "outputId": "6b9827de-8468-4b98-b624-347f41a73933"
   },
   "outputs": [
    {
     "data": {
      "text/html": [
       "<div>\n",
       "<style scoped>\n",
       "    .dataframe tbody tr th:only-of-type {\n",
       "        vertical-align: middle;\n",
       "    }\n",
       "\n",
       "    .dataframe tbody tr th {\n",
       "        vertical-align: top;\n",
       "    }\n",
       "\n",
       "    .dataframe thead th {\n",
       "        text-align: right;\n",
       "    }\n",
       "</style>\n",
       "<table border=\"1\" class=\"dataframe\">\n",
       "  <thead>\n",
       "    <tr style=\"text-align: right;\">\n",
       "      <th></th>\n",
       "      <th>Open</th>\n",
       "      <th>High</th>\n",
       "      <th>Low</th>\n",
       "      <th>Volume From</th>\n",
       "      <th>Volume To</th>\n",
       "    </tr>\n",
       "  </thead>\n",
       "  <tbody>\n",
       "    <tr>\n",
       "      <th>0</th>\n",
       "      <td>7459.11</td>\n",
       "      <td>7640.46</td>\n",
       "      <td>7380.00</td>\n",
       "      <td>2722.80000</td>\n",
       "      <td>2.042265e+07</td>\n",
       "    </tr>\n",
       "    <tr>\n",
       "      <th>1</th>\n",
       "      <td>7584.15</td>\n",
       "      <td>7661.85</td>\n",
       "      <td>7326.94</td>\n",
       "      <td>8491.93000</td>\n",
       "      <td>6.342069e+07</td>\n",
       "    </tr>\n",
       "    <tr>\n",
       "      <th>2</th>\n",
       "      <td>7505.00</td>\n",
       "      <td>7734.99</td>\n",
       "      <td>7269.00</td>\n",
       "      <td>11033.72000</td>\n",
       "      <td>8.293137e+07</td>\n",
       "    </tr>\n",
       "    <tr>\n",
       "      <th>3</th>\n",
       "      <td>7987.70</td>\n",
       "      <td>8030.00</td>\n",
       "      <td>7433.19</td>\n",
       "      <td>14905.99000</td>\n",
       "      <td>1.148104e+08</td>\n",
       "    </tr>\n",
       "    <tr>\n",
       "      <th>4</th>\n",
       "      <td>8393.44</td>\n",
       "      <td>8400.00</td>\n",
       "      <td>7950.00</td>\n",
       "      <td>6589.43000</td>\n",
       "      <td>5.389753e+07</td>\n",
       "    </tr>\n",
       "    <tr>\n",
       "      <th>...</th>\n",
       "      <td>...</td>\n",
       "      <td>...</td>\n",
       "      <td>...</td>\n",
       "      <td>...</td>\n",
       "      <td>...</td>\n",
       "    </tr>\n",
       "    <tr>\n",
       "      <th>1268</th>\n",
       "      <td>377.10</td>\n",
       "      <td>377.10</td>\n",
       "      <td>377.10</td>\n",
       "      <td>0.00000</td>\n",
       "      <td>0.000000e+00</td>\n",
       "    </tr>\n",
       "    <tr>\n",
       "      <th>1269</th>\n",
       "      <td>378.00</td>\n",
       "      <td>378.00</td>\n",
       "      <td>377.10</td>\n",
       "      <td>0.01000</td>\n",
       "      <td>3.770000e+00</td>\n",
       "    </tr>\n",
       "    <tr>\n",
       "      <th>1270</th>\n",
       "      <td>378.00</td>\n",
       "      <td>378.00</td>\n",
       "      <td>377.01</td>\n",
       "      <td>0.54660</td>\n",
       "      <td>2.065200e+02</td>\n",
       "    </tr>\n",
       "    <tr>\n",
       "      <th>1271</th>\n",
       "      <td>370.00</td>\n",
       "      <td>378.00</td>\n",
       "      <td>370.00</td>\n",
       "      <td>15.01000</td>\n",
       "      <td>5.675070e+03</td>\n",
       "    </tr>\n",
       "    <tr>\n",
       "      <th>1272</th>\n",
       "      <td>300.00</td>\n",
       "      <td>370.00</td>\n",
       "      <td>300.00</td>\n",
       "      <td>0.05656</td>\n",
       "      <td>1.953000e+01</td>\n",
       "    </tr>\n",
       "  </tbody>\n",
       "</table>\n",
       "<p>1273 rows × 5 columns</p>\n",
       "</div>"
      ],
      "text/plain": [
       "         Open     High      Low  Volume From     Volume To\n",
       "0     7459.11  7640.46  7380.00   2722.80000  2.042265e+07\n",
       "1     7584.15  7661.85  7326.94   8491.93000  6.342069e+07\n",
       "2     7505.00  7734.99  7269.00  11033.72000  8.293137e+07\n",
       "3     7987.70  8030.00  7433.19  14905.99000  1.148104e+08\n",
       "4     8393.44  8400.00  7950.00   6589.43000  5.389753e+07\n",
       "...       ...      ...      ...          ...           ...\n",
       "1268   377.10   377.10   377.10      0.00000  0.000000e+00\n",
       "1269   378.00   378.00   377.10      0.01000  3.770000e+00\n",
       "1270   378.00   378.00   377.01      0.54660  2.065200e+02\n",
       "1271   370.00   378.00   370.00     15.01000  5.675070e+03\n",
       "1272   300.00   370.00   300.00      0.05656  1.953000e+01\n",
       "\n",
       "[1273 rows x 5 columns]"
      ]
     },
     "execution_count": 6,
     "metadata": {},
     "output_type": "execute_result"
    }
   ],
   "source": [
    "outcome"
   ]
  },
  {
   "cell_type": "markdown",
   "metadata": {},
   "source": [
    "Invertendo dados"
   ]
  },
  {
   "cell_type": "code",
   "execution_count": 7,
   "metadata": {
    "colab": {
     "base_uri": "https://localhost:8080/",
     "height": 419
    },
    "id": "D0liJKJO6hkl",
    "outputId": "c0631f2b-0016-4502-ce2d-c3c8040fb2e1"
   },
   "outputs": [
    {
     "data": {
      "text/html": [
       "<div>\n",
       "<style scoped>\n",
       "    .dataframe tbody tr th:only-of-type {\n",
       "        vertical-align: middle;\n",
       "    }\n",
       "\n",
       "    .dataframe tbody tr th {\n",
       "        vertical-align: top;\n",
       "    }\n",
       "\n",
       "    .dataframe thead th {\n",
       "        text-align: right;\n",
       "    }\n",
       "</style>\n",
       "<table border=\"1\" class=\"dataframe\">\n",
       "  <thead>\n",
       "    <tr style=\"text-align: right;\">\n",
       "      <th></th>\n",
       "      <th>0</th>\n",
       "    </tr>\n",
       "  </thead>\n",
       "  <tbody>\n",
       "    <tr>\n",
       "      <th>0</th>\n",
       "      <td>370.00</td>\n",
       "    </tr>\n",
       "    <tr>\n",
       "      <th>1</th>\n",
       "      <td>378.00</td>\n",
       "    </tr>\n",
       "    <tr>\n",
       "      <th>2</th>\n",
       "      <td>378.00</td>\n",
       "    </tr>\n",
       "    <tr>\n",
       "      <th>3</th>\n",
       "      <td>377.10</td>\n",
       "    </tr>\n",
       "    <tr>\n",
       "      <th>4</th>\n",
       "      <td>377.10</td>\n",
       "    </tr>\n",
       "    <tr>\n",
       "      <th>...</th>\n",
       "      <td>...</td>\n",
       "    </tr>\n",
       "    <tr>\n",
       "      <th>1268</th>\n",
       "      <td>7987.70</td>\n",
       "    </tr>\n",
       "    <tr>\n",
       "      <th>1269</th>\n",
       "      <td>7505.00</td>\n",
       "    </tr>\n",
       "    <tr>\n",
       "      <th>1270</th>\n",
       "      <td>7584.15</td>\n",
       "    </tr>\n",
       "    <tr>\n",
       "      <th>1271</th>\n",
       "      <td>7459.11</td>\n",
       "    </tr>\n",
       "    <tr>\n",
       "      <th>1272</th>\n",
       "      <td>7520.00</td>\n",
       "    </tr>\n",
       "  </tbody>\n",
       "</table>\n",
       "<p>1273 rows × 1 columns</p>\n",
       "</div>"
      ],
      "text/plain": [
       "            0\n",
       "0      370.00\n",
       "1      378.00\n",
       "2      378.00\n",
       "3      377.10\n",
       "4      377.10\n",
       "...       ...\n",
       "1268  7987.70\n",
       "1269  7505.00\n",
       "1270  7584.15\n",
       "1271  7459.11\n",
       "1272  7520.00\n",
       "\n",
       "[1273 rows x 1 columns]"
      ]
     },
     "execution_count": 7,
     "metadata": {},
     "output_type": "execute_result"
    }
   ],
   "source": [
    "features = pd.DataFrame(features)\n",
    "features_flipped = features[\"Close\"].values[::-1]\n",
    "features_flipped = pd.DataFrame(features_flipped)\n",
    "features_flipped"
   ]
  },
  {
   "cell_type": "code",
   "execution_count": 8,
   "metadata": {
    "colab": {
     "base_uri": "https://localhost:8080/",
     "height": 419
    },
    "id": "Rf5pG-TT-BVt",
    "outputId": "b94de047-b9ba-45ae-af5d-905e99968623"
   },
   "outputs": [
    {
     "data": {
      "text/html": [
       "<div>\n",
       "<style scoped>\n",
       "    .dataframe tbody tr th:only-of-type {\n",
       "        vertical-align: middle;\n",
       "    }\n",
       "\n",
       "    .dataframe tbody tr th {\n",
       "        vertical-align: top;\n",
       "    }\n",
       "\n",
       "    .dataframe thead th {\n",
       "        text-align: right;\n",
       "    }\n",
       "</style>\n",
       "<table border=\"1\" class=\"dataframe\">\n",
       "  <thead>\n",
       "    <tr style=\"text-align: right;\">\n",
       "      <th></th>\n",
       "      <th>0</th>\n",
       "      <th>1</th>\n",
       "      <th>2</th>\n",
       "      <th>3</th>\n",
       "      <th>4</th>\n",
       "    </tr>\n",
       "  </thead>\n",
       "  <tbody>\n",
       "    <tr>\n",
       "      <th>0</th>\n",
       "      <td>300.00</td>\n",
       "      <td>370.00</td>\n",
       "      <td>300.00</td>\n",
       "      <td>0.05656</td>\n",
       "      <td>1.953000e+01</td>\n",
       "    </tr>\n",
       "    <tr>\n",
       "      <th>1</th>\n",
       "      <td>370.00</td>\n",
       "      <td>378.00</td>\n",
       "      <td>370.00</td>\n",
       "      <td>15.01000</td>\n",
       "      <td>5.675070e+03</td>\n",
       "    </tr>\n",
       "    <tr>\n",
       "      <th>2</th>\n",
       "      <td>378.00</td>\n",
       "      <td>378.00</td>\n",
       "      <td>377.01</td>\n",
       "      <td>0.54660</td>\n",
       "      <td>2.065200e+02</td>\n",
       "    </tr>\n",
       "    <tr>\n",
       "      <th>3</th>\n",
       "      <td>378.00</td>\n",
       "      <td>378.00</td>\n",
       "      <td>377.10</td>\n",
       "      <td>0.01000</td>\n",
       "      <td>3.770000e+00</td>\n",
       "    </tr>\n",
       "    <tr>\n",
       "      <th>4</th>\n",
       "      <td>377.10</td>\n",
       "      <td>377.10</td>\n",
       "      <td>377.10</td>\n",
       "      <td>0.00000</td>\n",
       "      <td>0.000000e+00</td>\n",
       "    </tr>\n",
       "    <tr>\n",
       "      <th>...</th>\n",
       "      <td>...</td>\n",
       "      <td>...</td>\n",
       "      <td>...</td>\n",
       "      <td>...</td>\n",
       "      <td>...</td>\n",
       "    </tr>\n",
       "    <tr>\n",
       "      <th>1268</th>\n",
       "      <td>8393.44</td>\n",
       "      <td>8400.00</td>\n",
       "      <td>7950.00</td>\n",
       "      <td>6589.43000</td>\n",
       "      <td>5.389753e+07</td>\n",
       "    </tr>\n",
       "    <tr>\n",
       "      <th>1269</th>\n",
       "      <td>7987.70</td>\n",
       "      <td>8030.00</td>\n",
       "      <td>7433.19</td>\n",
       "      <td>14905.99000</td>\n",
       "      <td>1.148104e+08</td>\n",
       "    </tr>\n",
       "    <tr>\n",
       "      <th>1270</th>\n",
       "      <td>7505.00</td>\n",
       "      <td>7734.99</td>\n",
       "      <td>7269.00</td>\n",
       "      <td>11033.72000</td>\n",
       "      <td>8.293137e+07</td>\n",
       "    </tr>\n",
       "    <tr>\n",
       "      <th>1271</th>\n",
       "      <td>7584.15</td>\n",
       "      <td>7661.85</td>\n",
       "      <td>7326.94</td>\n",
       "      <td>8491.93000</td>\n",
       "      <td>6.342069e+07</td>\n",
       "    </tr>\n",
       "    <tr>\n",
       "      <th>1272</th>\n",
       "      <td>7459.11</td>\n",
       "      <td>7640.46</td>\n",
       "      <td>7380.00</td>\n",
       "      <td>2722.80000</td>\n",
       "      <td>2.042265e+07</td>\n",
       "    </tr>\n",
       "  </tbody>\n",
       "</table>\n",
       "<p>1273 rows × 5 columns</p>\n",
       "</div>"
      ],
      "text/plain": [
       "            0        1        2            3             4\n",
       "0      300.00   370.00   300.00      0.05656  1.953000e+01\n",
       "1      370.00   378.00   370.00     15.01000  5.675070e+03\n",
       "2      378.00   378.00   377.01      0.54660  2.065200e+02\n",
       "3      378.00   378.00   377.10      0.01000  3.770000e+00\n",
       "4      377.10   377.10   377.10      0.00000  0.000000e+00\n",
       "...       ...      ...      ...          ...           ...\n",
       "1268  8393.44  8400.00  7950.00   6589.43000  5.389753e+07\n",
       "1269  7987.70  8030.00  7433.19  14905.99000  1.148104e+08\n",
       "1270  7505.00  7734.99  7269.00  11033.72000  8.293137e+07\n",
       "1271  7584.15  7661.85  7326.94   8491.93000  6.342069e+07\n",
       "1272  7459.11  7640.46  7380.00   2722.80000  2.042265e+07\n",
       "\n",
       "[1273 rows x 5 columns]"
      ]
     },
     "execution_count": 8,
     "metadata": {},
     "output_type": "execute_result"
    }
   ],
   "source": [
    "outcome_flipped = outcome.values[::-1]\n",
    "outcome_flipped = pd.DataFrame(outcome_flipped)\n",
    "outcome_flipped"
   ]
  },
  {
   "cell_type": "markdown",
   "metadata": {},
   "source": [
    "Grafico do dataset completo"
   ]
  },
  {
   "cell_type": "code",
   "execution_count": 9,
   "metadata": {
    "colab": {
     "base_uri": "https://localhost:8080/",
     "height": 458
    },
    "id": "pYzQVlxD6Sn9",
    "outputId": "58d20e15-5e93-4769-b7e1-bd3a9a0ea9ec"
   },
   "outputs": [
    {
     "data": {
      "image/png": "[encoded data removed]",
      "text/plain": [
       "<Figure size 864x504 with 1 Axes>"
      ]
     },
     "metadata": {},
     "output_type": "display_data"
    }
   ],
   "source": [
    "plt.figure(figsize=(12,7), frameon=False, facecolor='brown', edgecolor='blue')\n",
    "plt.title('Bitcoin prices from December 2014 to May 2018')\n",
    "plt.xlabel('Days')\n",
    "plt.ylabel('Scaled price of Bitcoin')\n",
    "plt.plot(features_flipped, label='Price')\n",
    "plt.legend()\n",
    "plt.show()"
   ]
  },
  {
   "cell_type": "markdown",
   "metadata": {},
   "source": [
    "Separando partes do dataset"
   ]
  },
  {
   "cell_type": "code",
   "execution_count": 10,
   "metadata": {
    "id": "-dagwh9o-8ac"
   },
   "outputs": [],
   "source": [
    "close_price = np.array(features_flipped).reshape(-1,1)"
   ]
  },
  {
   "cell_type": "code",
   "execution_count": 11,
   "metadata": {
    "id": "2wdlTOr3_LEd"
   },
   "outputs": [],
   "source": [
    "scaler=MinMaxScaler(feature_range=(0,1))\n",
    "\n",
    "close_priceSC = scaler.fit_transform(np.array(close_price).reshape(-1,1))"
   ]
  },
  {
   "cell_type": "code",
   "execution_count": 12,
   "metadata": {
    "colab": {
     "base_uri": "https://localhost:8080/",
     "height": 419
    },
    "id": "Hqrc0_-JBE1G",
    "outputId": "56747e21-ca3a-4fe7-edfb-d96cd5670acd"
   },
   "outputs": [
    {
     "name": "stdout",
     "output_type": "stream",
     "text": [
      "(1257, 16, 1) (1257, 1)\n"
     ]
    }
   ],
   "source": [
    "from numpy import array\n",
    "# split a univariate sequence into samples\n",
    "def split_sequence(sequence, n_steps):\n",
    "\tX, y = list(), list()\n",
    "\tfor i in range(len(sequence)):\n",
    "\t\t# find the end of this pattern\n",
    "\t\tend_ix = i + n_steps\n",
    "\t\t# check if we are beyond the sequence\n",
    "\t\tif end_ix > len(sequence)-1:\n",
    "\t\t\tbreak\n",
    "\t\t# gather input and output parts of the pattern\n",
    "\t\tseq_x, seq_y = sequence[i:end_ix], sequence[end_ix]\n",
    "\t\tX.append(seq_x)\n",
    "\t\ty.append(seq_y)\n",
    "\treturn array(X), array(y)\n",
    "\n",
    "stepsize = 16\n",
    "X, y = split_sequence(close_priceSC, stepsize)\n",
    "\n",
    "print(X.shape, y.shape)"
   ]
  },
  {
   "cell_type": "code",
   "execution_count": 13,
   "metadata": {},
   "outputs": [],
   "source": [
    "X_train = X[:1018 ,:]\n",
    "X_test = X[1018 :,:]\n",
    "\n",
    "y_train = y[:1018 ]\n",
    "y_test = y[1018 :]"
   ]
  },
  {
   "cell_type": "code",
   "execution_count": 14,
   "metadata": {},
   "outputs": [
    {
     "name": "stdout",
     "output_type": "stream",
     "text": [
      "X_train size: (1018, 16, 1)\n",
      "y_train size: (1018, 1)\n",
      "X_test size: (239, 16, 1)\n",
      "y_test size: (239, 1)\n"
     ]
    }
   ],
   "source": [
    "print(\"X_train size: {}\".format(X_train.shape))\n",
    "print(\"y_train size: {}\".format(y_train.shape))\n",
    "print(\"X_test size: {}\".format(X_test.shape))\n",
    "print(\"y_test size: {}\".format(y_test.shape))"
   ]
  },
  {
   "cell_type": "code",
   "execution_count": 15,
   "metadata": {},
   "outputs": [
    {
     "data": {
      "image/png": "[encoded data removed]",
      "text/plain": [
       "<Figure size 1008x288 with 1 Axes>"
      ]
     },
     "metadata": {
      "needs_background": "light"
     },
     "output_type": "display_data"
    }
   ],
   "source": [
    "plt.figure(figsize=(14,4))\n",
    "plt.plot(range(1018),y_train)\n",
    "plt.plot(range(1018, len(y)), y_test)\n",
    "plt.legend([\"Training\", \"Test\"])\n",
    "plt.grid()"
   ]
  },
  {
   "cell_type": "code",
   "execution_count": 16,
   "metadata": {},
   "outputs": [
    {
     "name": "stdout",
     "output_type": "stream",
     "text": [
      "(1018, 16, 1)\n",
      "X_train size: (1018, 1, 1, 16, 1)\n",
      "y_train size: (1018, 1)\n",
      "X_test size: (239, 1, 1, 16, 1)\n",
      "y_test size: (239, 1)\n"
     ]
    }
   ],
   "source": [
    "# reshape from [samples, timesteps] into [samples, timesteps, rows, columns, features]\n",
    "print(X_train.shape)\n",
    "rows = 1;\n",
    "n_features = 1\n",
    "n_seq = 1\n",
    "X_train = X_train.reshape(-1,n_seq,rows,stepsize,n_features)\n",
    "X_test = X_test.reshape(-1,n_seq,rows,stepsize,n_features)\n",
    "\n",
    "print(\"X_train size: {}\".format(X_train.shape))\n",
    "print(\"y_train size: {}\".format(y_train.shape))\n",
    "print(\"X_test size: {}\".format(X_test.shape))\n",
    "print(\"y_test size: {}\".format(y_test.shape))"
   ]
  },
  {
   "cell_type": "code",
   "execution_count": 17,
   "metadata": {},
   "outputs": [],
   "source": [
    "#define model\n",
    "from keras.layers import Flatten\n",
    "from keras.layers import TimeDistributed\n",
    "from keras.layers.convolutional import Conv1D\n",
    "from keras.layers.convolutional import MaxPooling1D\n",
    "from keras.layers import ConvLSTM2D\n",
    "\n",
    "model = Sequential()\n",
    "model.add(ConvLSTM2D(filters=32, kernel_size=(1,1), input_shape=(n_seq, rows, stepsize, n_features)))\n",
    "model.add(Flatten())\n",
    "model.add(Dense(1))\n",
    "model.compile(optimizer='adam', loss='mse')\n"
   ]
  },
  {
   "cell_type": "code",
   "execution_count": 18,
   "metadata": {},
   "outputs": [
    {
     "name": "stdout",
     "output_type": "stream",
     "text": [
      "Model: \"sequential\"\n",
      "_________________________________________________________________\n",
      "Layer (type)                 Output Shape              Param #   \n",
      "=================================================================\n",
      "conv_lst_m2d (ConvLSTM2D)    (None, 1, 16, 32)         4352      \n",
      "_________________________________________________________________\n",
      "flatten (Flatten)            (None, 512)               0         \n",
      "_________________________________________________________________\n",
      "dense (Dense)                (None, 1)                 513       \n",
      "=================================================================\n",
      "Total params: 4,865\n",
      "Trainable params: 4,865\n",
      "Non-trainable params: 0\n",
      "_________________________________________________________________\n"
     ]
    }
   ],
   "source": [
    "model.summary()"
   ]
  },
  {
   "cell_type": "code",
   "execution_count": 19,
   "metadata": {},
   "outputs": [
    {
     "name": "stdout",
     "output_type": "stream",
     "text": [
      "Epoch 1/100\n",
      "32/32 [==============================] - 25s 2ms/step - loss: 0.0023\n",
      "Epoch 2/100\n",
      "32/32 [==============================] - 0s 2ms/step - loss: 6.5797e-04\n",
      "Epoch 3/100\n",
      "32/32 [==============================] - 0s 2ms/step - loss: 7.2585e-05\n",
      "Epoch 4/100\n",
      "32/32 [==============================] - 0s 2ms/step - loss: 5.2773e-05\n",
      "Epoch 5/100\n",
      "32/32 [==============================] - 0s 2ms/step - loss: 5.6100e-05\n",
      "Epoch 6/100\n",
      "32/32 [==============================] - 0s 2ms/step - loss: 4.9047e-05\n",
      "Epoch 7/100\n",
      "32/32 [==============================] - 0s 2ms/step - loss: 5.3177e-05\n",
      "Epoch 8/100\n",
      "32/32 [==============================] - 0s 2ms/step - loss: 5.3738e-05\n",
      "Epoch 9/100\n",
      "32/32 [==============================] - 0s 2ms/step - loss: 4.9963e-05\n",
      "Epoch 10/100\n",
      "32/32 [==============================] - 0s 2ms/step - loss: 4.9348e-05\n",
      "Epoch 11/100\n",
      "32/32 [==============================] - ETA: 0s - loss: 5.0037e-0 - 0s 2ms/step - loss: 4.9569e-05\n",
      "Epoch 12/100\n",
      "32/32 [==============================] - 0s 2ms/step - loss: 4.3208e-05\n",
      "Epoch 13/100\n",
      "32/32 [==============================] - 0s 2ms/step - loss: 6.7697e-05\n",
      "Epoch 14/100\n",
      "32/32 [==============================] - 0s 2ms/step - loss: 4.9331e-05\n",
      "Epoch 15/100\n",
      "32/32 [==============================] - 0s 2ms/step - loss: 6.1868e-05\n",
      "Epoch 16/100\n",
      "32/32 [==============================] - 0s 2ms/step - loss: 4.0196e-05\n",
      "Epoch 17/100\n",
      "32/32 [==============================] - 0s 2ms/step - loss: 5.1375e-05\n",
      "Epoch 18/100\n",
      "32/32 [==============================] - 0s 2ms/step - loss: 3.6785e-05\n",
      "Epoch 19/100\n",
      "32/32 [==============================] - 0s 2ms/step - loss: 4.3933e-05\n",
      "Epoch 20/100\n",
      "32/32 [==============================] - 0s 2ms/step - loss: 3.2284e-05\n",
      "Epoch 21/100\n",
      "32/32 [==============================] - 0s 2ms/step - loss: 3.4625e-05\n",
      "Epoch 22/100\n",
      "32/32 [==============================] - 0s 2ms/step - loss: 3.2129e-05\n",
      "Epoch 23/100\n",
      "32/32 [==============================] - 0s 2ms/step - loss: 3.4538e-05\n",
      "Epoch 24/100\n",
      "32/32 [==============================] - 0s 2ms/step - loss: 3.9723e-05\n",
      "Epoch 25/100\n",
      "32/32 [==============================] - 0s 2ms/step - loss: 4.0625e-05\n",
      "Epoch 26/100\n",
      "32/32 [==============================] - 0s 2ms/step - loss: 4.0165e-05\n",
      "Epoch 27/100\n",
      "32/32 [==============================] - 0s 2ms/step - loss: 3.2838e-05\n",
      "Epoch 28/100\n",
      "32/32 [==============================] - 0s 2ms/step - loss: 2.7597e-05\n",
      "Epoch 29/100\n",
      "32/32 [==============================] - 0s 2ms/step - loss: 3.0368e-05\n",
      "Epoch 30/100\n",
      "32/32 [==============================] - 0s 2ms/step - loss: 2.9394e-05\n",
      "Epoch 31/100\n",
      "32/32 [==============================] - 0s 2ms/step - loss: 2.6643e-05\n",
      "Epoch 32/100\n",
      "32/32 [==============================] - 0s 2ms/step - loss: 3.3120e-05\n",
      "Epoch 33/100\n",
      "32/32 [==============================] - 0s 2ms/step - loss: 3.0023e-05\n",
      "Epoch 34/100\n",
      "32/32 [==============================] - 0s 2ms/step - loss: 3.1159e-05\n",
      "Epoch 35/100\n",
      "32/32 [==============================] - 0s 2ms/step - loss: 2.7268e-05\n",
      "Epoch 36/100\n",
      "32/32 [==============================] - 0s 2ms/step - loss: 2.8694e-05\n",
      "Epoch 37/100\n",
      "32/32 [==============================] - 0s 2ms/step - loss: 2.9648e-05\n",
      "Epoch 38/100\n",
      "32/32 [==============================] - 0s 2ms/step - loss: 3.1884e-05\n",
      "Epoch 39/100\n",
      "32/32 [==============================] - 0s 2ms/step - loss: 1.8838e-05\n",
      "Epoch 40/100\n",
      "32/32 [==============================] - 0s 2ms/step - loss: 2.3815e-05\n",
      "Epoch 41/100\n",
      "32/32 [==============================] - 0s 2ms/step - loss: 3.1739e-05\n",
      "Epoch 42/100\n",
      "32/32 [==============================] - 0s 2ms/step - loss: 1.9120e-05\n",
      "Epoch 43/100\n",
      "32/32 [==============================] - 0s 2ms/step - loss: 2.9742e-05\n",
      "Epoch 44/100\n",
      "32/32 [==============================] - 0s 2ms/step - loss: 2.1742e-05\n",
      "Epoch 45/100\n",
      "32/32 [==============================] - 0s 2ms/step - loss: 2.6541e-05\n",
      "Epoch 46/100\n",
      "32/32 [==============================] - 0s 2ms/step - loss: 2.3324e-05\n",
      "Epoch 47/100\n",
      "32/32 [==============================] - 0s 2ms/step - loss: 1.6956e-05\n",
      "Epoch 48/100\n",
      "32/32 [==============================] - 0s 2ms/step - loss: 1.4850e-05\n",
      "Epoch 49/100\n",
      "32/32 [==============================] - 0s 2ms/step - loss: 1.8663e-05\n",
      "Epoch 50/100\n",
      "32/32 [==============================] - 0s 2ms/step - loss: 2.2019e-05\n",
      "Epoch 51/100\n",
      "32/32 [==============================] - 0s 2ms/step - loss: 2.0928e-05\n",
      "Epoch 52/100\n",
      "32/32 [==============================] - 0s 2ms/step - loss: 2.2903e-05\n",
      "Epoch 53/100\n",
      "32/32 [==============================] - 0s 2ms/step - loss: 1.8962e-05\n",
      "Epoch 54/100\n",
      "32/32 [==============================] - 0s 2ms/step - loss: 2.2589e-05\n",
      "Epoch 55/100\n",
      "32/32 [==============================] - 0s 2ms/step - loss: 1.8150e-05\n",
      "Epoch 56/100\n",
      "32/32 [==============================] - 0s 2ms/step - loss: 1.8074e-05\n",
      "Epoch 57/100\n",
      "32/32 [==============================] - 0s 2ms/step - loss: 2.2277e-05\n",
      "Epoch 58/100\n",
      "32/32 [==============================] - 0s 2ms/step - loss: 1.8498e-05\n",
      "Epoch 59/100\n",
      "32/32 [==============================] - 0s 2ms/step - loss: 2.7566e-05\n",
      "Epoch 60/100\n",
      "32/32 [==============================] - 0s 2ms/step - loss: 1.6971e-05\n",
      "Epoch 61/100\n",
      "32/32 [==============================] - 0s 2ms/step - loss: 1.8201e-05\n",
      "Epoch 62/100\n",
      "32/32 [==============================] - 0s 2ms/step - loss: 1.8072e-05\n",
      "Epoch 63/100\n",
      "32/32 [==============================] - 0s 2ms/step - loss: 1.5604e-05\n",
      "Epoch 64/100\n",
      "32/32 [==============================] - 0s 2ms/step - loss: 1.8597e-05\n",
      "Epoch 65/100\n",
      "32/32 [==============================] - 0s 2ms/step - loss: 1.3551e-05\n",
      "Epoch 66/100\n",
      "32/32 [==============================] - 0s 2ms/step - loss: 1.9244e-05\n",
      "Epoch 67/100\n",
      "32/32 [==============================] - 0s 2ms/step - loss: 1.3449e-05\n",
      "Epoch 68/100\n",
      "32/32 [==============================] - 0s 3ms/step - loss: 1.2643e-05\n",
      "Epoch 69/100\n",
      "32/32 [==============================] - 0s 2ms/step - loss: 1.4433e-05\n",
      "Epoch 70/100\n",
      "32/32 [==============================] - 0s 2ms/step - loss: 1.6474e-05\n",
      "Epoch 71/100\n",
      "32/32 [==============================] - 0s 2ms/step - loss: 1.6928e-05\n",
      "Epoch 72/100\n",
      "32/32 [==============================] - 0s 2ms/step - loss: 1.6901e-05\n",
      "Epoch 73/100\n",
      "32/32 [==============================] - 0s 2ms/step - loss: 1.5230e-05\n",
      "Epoch 74/100\n",
      "32/32 [==============================] - 0s 2ms/step - loss: 1.6249e-05\n",
      "Epoch 75/100\n",
      "32/32 [==============================] - 0s 2ms/step - loss: 2.0915e-05\n",
      "Epoch 76/100\n",
      "32/32 [==============================] - 0s 2ms/step - loss: 2.1357e-05\n",
      "Epoch 77/100\n",
      "32/32 [==============================] - 0s 2ms/step - loss: 1.5562e-05\n",
      "Epoch 78/100\n",
      "32/32 [==============================] - 0s 2ms/step - loss: 1.4862e-05\n",
      "Epoch 79/100\n",
      "32/32 [==============================] - 0s 2ms/step - loss: 1.4530e-05\n",
      "Epoch 80/100\n",
      "32/32 [==============================] - 0s 2ms/step - loss: 1.7201e-05\n",
      "Epoch 81/100\n",
      "32/32 [==============================] - 0s 2ms/step - loss: 1.1501e-05\n",
      "Epoch 82/100\n",
      "32/32 [==============================] - 0s 2ms/step - loss: 1.8651e-05\n",
      "Epoch 83/100\n",
      "32/32 [==============================] - 0s 2ms/step - loss: 1.3244e-05\n",
      "Epoch 84/100\n",
      "32/32 [==============================] - 0s 2ms/step - loss: 1.9804e-05\n",
      "Epoch 85/100\n",
      "32/32 [==============================] - 0s 2ms/step - loss: 1.8539e-05\n",
      "Epoch 86/100\n",
      "32/32 [==============================] - 0s 2ms/step - loss: 1.1986e-05\n",
      "Epoch 87/100\n",
      "32/32 [==============================] - 0s 2ms/step - loss: 1.3816e-05\n",
      "Epoch 88/100\n",
      "32/32 [==============================] - 0s 2ms/step - loss: 1.9654e-05\n",
      "Epoch 89/100\n",
      "32/32 [==============================] - 0s 2ms/step - loss: 1.3662e-05\n",
      "Epoch 90/100\n",
      "32/32 [==============================] - 0s 2ms/step - loss: 1.3130e-05\n",
      "Epoch 91/100\n",
      "32/32 [==============================] - 0s 2ms/step - loss: 1.0360e-05\n",
      "Epoch 92/100\n",
      "32/32 [==============================] - 0s 2ms/step - loss: 1.6420e-05\n",
      "Epoch 93/100\n",
      "32/32 [==============================] - 0s 2ms/step - loss: 1.3250e-05\n",
      "Epoch 94/100\n",
      "32/32 [==============================] - 0s 2ms/step - loss: 2.4015e-05\n",
      "Epoch 95/100\n",
      "32/32 [==============================] - 0s 2ms/step - loss: 1.5593e-05\n",
      "Epoch 96/100\n",
      "32/32 [==============================] - 0s 2ms/step - loss: 1.3138e-05\n",
      "Epoch 97/100\n",
      "32/32 [==============================] - 0s 2ms/step - loss: 1.5781e-05\n",
      "Epoch 98/100\n",
      "32/32 [==============================] - 0s 2ms/step - loss: 1.6011e-05\n",
      "Epoch 99/100\n",
      "32/32 [==============================] - 0s 2ms/step - loss: 1.6114e-05\n",
      "Epoch 100/100\n",
      "32/32 [==============================] - 0s 2ms/step - loss: 1.7026e-05\n"
     ]
    },
    {
     "data": {
      "text/plain": [
       "<keras.callbacks.History at 0x2007edb52b0>"
      ]
     },
     "execution_count": 19,
     "metadata": {},
     "output_type": "execute_result"
    }
   ],
   "source": [
    "model.fit(X_train, y_train, epochs=100, batch_size=32)"
   ]
  },
  {
   "cell_type": "markdown",
   "metadata": {},
   "source": [
    "____________________________________________________  \n",
    "\n",
    " --- Hiperparâmetros do Modelo ---  \n",
    "stepsize  = 16\n",
    "filters = 32\n",
    "ativação = tahm  \n",
    "otimização = adam  \n",
    "batchsize = 32  \n",
    "(todos os modelos foram treinados com 100 epocas)  \n",
    "____________________________________________________"
   ]
  },
  {
   "cell_type": "code",
   "execution_count": 20,
   "metadata": {},
   "outputs": [],
   "source": [
    "train_predict=model.predict(X_train)\n",
    "test_predict=model.predict(X_test)"
   ]
  },
  {
   "cell_type": "code",
   "execution_count": 21,
   "metadata": {},
   "outputs": [],
   "source": [
    "MSE = mean_absolute_error(y_test, test_predict)"
   ]
  },
  {
   "cell_type": "code",
   "execution_count": 22,
   "metadata": {
    "scrolled": true
   },
   "outputs": [
    {
     "data": {
      "text/plain": [
       "Text(0, 0.5, 'Price')"
      ]
     },
     "execution_count": 22,
     "metadata": {},
     "output_type": "execute_result"
    },
    {
     "data": {
      "image/png": "[encoded data removed]",
      "text/plain": [
       "<Figure size 1008x432 with 1 Axes>"
      ]
     },
     "metadata": {
      "needs_background": "light"
     },
     "output_type": "display_data"
    }
   ],
   "source": [
    "plt.figure(figsize=(14,6))\n",
    "plt.plot(scaler.inverse_transform(y_test.reshape(-1,1)))\n",
    "plt.plot(scaler.inverse_transform(test_predict.reshape(-1,1)))\n",
    "plt.title(\"Comparison with MAE {0:0.10f}\".format(MSE))\n",
    "plt.legend([\"Y\", \"Prediction\"])\n",
    "plt.xlabel(\"Timeframe\")\n",
    "plt.ylabel(\"Price\")"
   ]
  },
  {
   "cell_type": "code",
   "execution_count": null,
   "metadata": {},
   "outputs": [],
   "source": []
  }
 ],
 "metadata": {
  "colab": {
   "collapsed_sections": [],
   "name": "Predicting_BTC_with_LSTM.ipynb",
   "provenance": []
  },
  "kernelspec": {
   "display_name": "Python 3",
   "language": "python",
   "name": "python3"
  },
  "language_info": {
   "codemirror_mode": {
    "name": "ipython",
    "version": 3
   },
   "file_extension": ".py",
   "mimetype": "text/x-python",
   "name": "python",
   "nbconvert_exporter": "python",
   "pygments_lexer": "ipython3",
   "version": "3.8.8"
  }
 },
 "nbformat": 4,
 "nbformat_minor": 1
}
