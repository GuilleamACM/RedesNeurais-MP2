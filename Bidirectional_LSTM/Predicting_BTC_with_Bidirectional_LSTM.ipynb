{
  "nbformat": 4,
  "nbformat_minor": 0,
  "metadata": {
    "colab": {
      "name": "Predicting_BTC_with_LSTM.ipynb",
      "provenance": [],
      "collapsed_sections": []
    },
    "kernelspec": {
      "display_name": "Python 3",
      "name": "python3"
    },
    "language_info": {
      "name": "python"
    }
  },
  "cells": [
    {
      "cell_type": "code",
      "metadata": {
        "colab": {
          "base_uri": "https://localhost:8080/"
        },
        "id": "vDolIykGxUYR",
        "outputId": "7b49b612-fe3f-4f8a-c2c1-def10001ab0a"
      },
      "source": [
        "# Install libraries\n",
        "!pip install tensorflow\n",
        "!pip install numpy\n",
        "!pip install pandas\n",
        "!pip install matplotlib\n",
        "!pip install scikit-learn\n",
        "\n",
        "import warnings\n",
        "warnings.filterwarnings('ignore')\n",
        "\n",
        "# Importing libraries\n",
        "import io\n",
        "import numpy as np\n",
        "import pandas as pd\n",
        "import seaborn as sns\n",
        "from time import time\n",
        "import tensorflow as tf\n",
        "import matplotlib.pyplot as plt\n",
        "\n",
        "from sklearn.preprocessing import StandardScaler\n",
        "from sklearn.model_selection import GridSearchCV\n",
        "from sklearn.model_selection import train_test_split\n",
        "from sklearn.metrics import mean_squared_error, mean_absolute_error\n",
        "\n",
        "from keras.wrappers.scikit_learn import KerasClassifier\n",
        "from keras.layers import Bidirectional\n",
        "from keras.models import Sequential\n",
        "from keras.layers import LSTM\n",
        "from keras.layers import Dense\n",
        "\n",
        "%matplotlib inline"
      ],
      "execution_count": null,
      "outputs": [
        {
          "output_type": "stream",
          "text": [
            "Requirement already satisfied: tensorflow in /usr/local/lib/python3.7/dist-packages (2.5.0)\n",
            "Requirement already satisfied: absl-py~=0.10 in /usr/local/lib/python3.7/dist-packages (from tensorflow) (0.12.0)\n",
            "Requirement already satisfied: h5py~=3.1.0 in /usr/local/lib/python3.7/dist-packages (from tensorflow) (3.1.0)\n",
            "Requirement already satisfied: six~=1.15.0 in /usr/local/lib/python3.7/dist-packages (from tensorflow) (1.15.0)\n",
            "Requirement already satisfied: gast==0.4.0 in /usr/local/lib/python3.7/dist-packages (from tensorflow) (0.4.0)\n",
            "Requirement already satisfied: tensorflow-estimator<2.6.0,>=2.5.0rc0 in /usr/local/lib/python3.7/dist-packages (from tensorflow) (2.5.0)\n",
            "Requirement already satisfied: protobuf>=3.9.2 in /usr/local/lib/python3.7/dist-packages (from tensorflow) (3.17.3)\n",
            "Requirement already satisfied: keras-nightly~=2.5.0.dev in /usr/local/lib/python3.7/dist-packages (from tensorflow) (2.5.0.dev2021032900)\n",
            "Requirement already satisfied: keras-preprocessing~=1.1.2 in /usr/local/lib/python3.7/dist-packages (from tensorflow) (1.1.2)\n",
            "Requirement already satisfied: grpcio~=1.34.0 in /usr/local/lib/python3.7/dist-packages (from tensorflow) (1.34.1)\n",
            "Requirement already satisfied: wheel~=0.35 in /usr/local/lib/python3.7/dist-packages (from tensorflow) (0.36.2)\n",
            "Requirement already satisfied: google-pasta~=0.2 in /usr/local/lib/python3.7/dist-packages (from tensorflow) (0.2.0)\n",
            "Requirement already satisfied: typing-extensions~=3.7.4 in /usr/local/lib/python3.7/dist-packages (from tensorflow) (3.7.4.3)\n",
            "Requirement already satisfied: wrapt~=1.12.1 in /usr/local/lib/python3.7/dist-packages (from tensorflow) (1.12.1)\n",
            "Requirement already satisfied: numpy~=1.19.2 in /usr/local/lib/python3.7/dist-packages (from tensorflow) (1.19.5)\n",
            "Requirement already satisfied: astunparse~=1.6.3 in /usr/local/lib/python3.7/dist-packages (from tensorflow) (1.6.3)\n",
            "Requirement already satisfied: flatbuffers~=1.12.0 in /usr/local/lib/python3.7/dist-packages (from tensorflow) (1.12)\n",
            "Requirement already satisfied: opt-einsum~=3.3.0 in /usr/local/lib/python3.7/dist-packages (from tensorflow) (3.3.0)\n",
            "Requirement already satisfied: termcolor~=1.1.0 in /usr/local/lib/python3.7/dist-packages (from tensorflow) (1.1.0)\n",
            "Requirement already satisfied: tensorboard~=2.5 in /usr/local/lib/python3.7/dist-packages (from tensorflow) (2.5.0)\n",
            "Requirement already satisfied: cached-property in /usr/local/lib/python3.7/dist-packages (from h5py~=3.1.0->tensorflow) (1.5.2)\n",
            "Requirement already satisfied: werkzeug>=0.11.15 in /usr/local/lib/python3.7/dist-packages (from tensorboard~=2.5->tensorflow) (1.0.1)\n",
            "Requirement already satisfied: google-auth-oauthlib<0.5,>=0.4.1 in /usr/local/lib/python3.7/dist-packages (from tensorboard~=2.5->tensorflow) (0.4.4)\n",
            "Requirement already satisfied: google-auth<2,>=1.6.3 in /usr/local/lib/python3.7/dist-packages (from tensorboard~=2.5->tensorflow) (1.32.1)\n",
            "Requirement already satisfied: requests<3,>=2.21.0 in /usr/local/lib/python3.7/dist-packages (from tensorboard~=2.5->tensorflow) (2.23.0)\n",
            "Requirement already satisfied: setuptools>=41.0.0 in /usr/local/lib/python3.7/dist-packages (from tensorboard~=2.5->tensorflow) (57.2.0)\n",
            "Requirement already satisfied: tensorboard-data-server<0.7.0,>=0.6.0 in /usr/local/lib/python3.7/dist-packages (from tensorboard~=2.5->tensorflow) (0.6.1)\n",
            "Requirement already satisfied: tensorboard-plugin-wit>=1.6.0 in /usr/local/lib/python3.7/dist-packages (from tensorboard~=2.5->tensorflow) (1.8.0)\n",
            "Requirement already satisfied: markdown>=2.6.8 in /usr/local/lib/python3.7/dist-packages (from tensorboard~=2.5->tensorflow) (3.3.4)\n",
            "Requirement already satisfied: rsa<5,>=3.1.4 in /usr/local/lib/python3.7/dist-packages (from google-auth<2,>=1.6.3->tensorboard~=2.5->tensorflow) (4.7.2)\n",
            "Requirement already satisfied: pyasn1-modules>=0.2.1 in /usr/local/lib/python3.7/dist-packages (from google-auth<2,>=1.6.3->tensorboard~=2.5->tensorflow) (0.2.8)\n",
            "Requirement already satisfied: cachetools<5.0,>=2.0.0 in /usr/local/lib/python3.7/dist-packages (from google-auth<2,>=1.6.3->tensorboard~=2.5->tensorflow) (4.2.2)\n",
            "Requirement already satisfied: requests-oauthlib>=0.7.0 in /usr/local/lib/python3.7/dist-packages (from google-auth-oauthlib<0.5,>=0.4.1->tensorboard~=2.5->tensorflow) (1.3.0)\n",
            "Requirement already satisfied: importlib-metadata in /usr/local/lib/python3.7/dist-packages (from markdown>=2.6.8->tensorboard~=2.5->tensorflow) (4.6.1)\n",
            "Requirement already satisfied: pyasn1<0.5.0,>=0.4.6 in /usr/local/lib/python3.7/dist-packages (from pyasn1-modules>=0.2.1->google-auth<2,>=1.6.3->tensorboard~=2.5->tensorflow) (0.4.8)\n",
            "Requirement already satisfied: certifi>=2017.4.17 in /usr/local/lib/python3.7/dist-packages (from requests<3,>=2.21.0->tensorboard~=2.5->tensorflow) (2021.5.30)\n",
            "Requirement already satisfied: idna<3,>=2.5 in /usr/local/lib/python3.7/dist-packages (from requests<3,>=2.21.0->tensorboard~=2.5->tensorflow) (2.10)\n",
            "Requirement already satisfied: urllib3!=1.25.0,!=1.25.1,<1.26,>=1.21.1 in /usr/local/lib/python3.7/dist-packages (from requests<3,>=2.21.0->tensorboard~=2.5->tensorflow) (1.24.3)\n",
            "Requirement already satisfied: chardet<4,>=3.0.2 in /usr/local/lib/python3.7/dist-packages (from requests<3,>=2.21.0->tensorboard~=2.5->tensorflow) (3.0.4)\n",
            "Requirement already satisfied: oauthlib>=3.0.0 in /usr/local/lib/python3.7/dist-packages (from requests-oauthlib>=0.7.0->google-auth-oauthlib<0.5,>=0.4.1->tensorboard~=2.5->tensorflow) (3.1.1)\n",
            "Requirement already satisfied: zipp>=0.5 in /usr/local/lib/python3.7/dist-packages (from importlib-metadata->markdown>=2.6.8->tensorboard~=2.5->tensorflow) (3.5.0)\n",
            "Requirement already satisfied: numpy in /usr/local/lib/python3.7/dist-packages (1.19.5)\n",
            "Requirement already satisfied: pandas in /usr/local/lib/python3.7/dist-packages (1.1.5)\n",
            "Requirement already satisfied: python-dateutil>=2.7.3 in /usr/local/lib/python3.7/dist-packages (from pandas) (2.8.1)\n",
            "Requirement already satisfied: numpy>=1.15.4 in /usr/local/lib/python3.7/dist-packages (from pandas) (1.19.5)\n",
            "Requirement already satisfied: pytz>=2017.2 in /usr/local/lib/python3.7/dist-packages (from pandas) (2018.9)\n",
            "Requirement already satisfied: six>=1.5 in /usr/local/lib/python3.7/dist-packages (from python-dateutil>=2.7.3->pandas) (1.15.0)\n",
            "Requirement already satisfied: matplotlib in /usr/local/lib/python3.7/dist-packages (3.2.2)\n",
            "Requirement already satisfied: kiwisolver>=1.0.1 in /usr/local/lib/python3.7/dist-packages (from matplotlib) (1.3.1)\n",
            "Requirement already satisfied: python-dateutil>=2.1 in /usr/local/lib/python3.7/dist-packages (from matplotlib) (2.8.1)\n",
            "Requirement already satisfied: pyparsing!=2.0.4,!=2.1.2,!=2.1.6,>=2.0.1 in /usr/local/lib/python3.7/dist-packages (from matplotlib) (2.4.7)\n",
            "Requirement already satisfied: numpy>=1.11 in /usr/local/lib/python3.7/dist-packages (from matplotlib) (1.19.5)\n",
            "Requirement already satisfied: cycler>=0.10 in /usr/local/lib/python3.7/dist-packages (from matplotlib) (0.10.0)\n",
            "Requirement already satisfied: six in /usr/local/lib/python3.7/dist-packages (from cycler>=0.10->matplotlib) (1.15.0)\n",
            "Requirement already satisfied: scikit-learn in /usr/local/lib/python3.7/dist-packages (0.22.2.post1)\n",
            "Requirement already satisfied: joblib>=0.11 in /usr/local/lib/python3.7/dist-packages (from scikit-learn) (1.0.1)\n",
            "Requirement already satisfied: scipy>=0.17.0 in /usr/local/lib/python3.7/dist-packages (from scikit-learn) (1.4.1)\n",
            "Requirement already satisfied: numpy>=1.11.0 in /usr/local/lib/python3.7/dist-packages (from scikit-learn) (1.19.5)\n"
          ],
          "name": "stdout"
        }
      ]
    },
    {
      "cell_type": "markdown",
      "metadata": {
        "id": "7KG4egWiBtEx"
      },
      "source": [
        "# Nova seção"
      ]
    },
    {
      "cell_type": "code",
      "metadata": {
        "colab": {
          "resources": {
            "http://localhost:8080/nbextensions/google.colab/files.js": {
              "data": "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",
              "ok": true,
              "headers": [
                [
                  "content-type",
                  "application/javascript"
                ]
              ],
              "status": 200,
              "status_text": ""
            }
          },
          "base_uri": "https://localhost:8080/",
          "height": 72
        },
        "id": "cbxmtkAqymn9",
        "outputId": "165281af-8de5-45fc-e0c4-e6137f4e7659"
      },
      "source": [
        "# Uploading dataset\n",
        "from google.colab import files\n",
        "uploaded = files.upload()"
      ],
      "execution_count": null,
      "outputs": [
        {
          "output_type": "display_data",
          "data": {
            "text/html": [
              "\n",
              "     <input type=\"file\" id=\"files-c90188e2-f901-4898-a516-2aa18acfe502\" name=\"files[]\" multiple disabled\n",
              "        style=\"border:none\" />\n",
              "     <output id=\"result-c90188e2-f901-4898-a516-2aa18acfe502\">\n",
              "      Upload widget is only available when the cell has been executed in the\n",
              "      current browser session. Please rerun this cell to enable.\n",
              "      </output>\n",
              "      <script src=\"/nbextensions/google.colab/files.js\"></script> "
            ],
            "text/plain": [
              "<IPython.core.display.HTML object>"
            ]
          },
          "metadata": {
            "tags": []
          }
        },
        {
          "output_type": "stream",
          "text": [
            "Saving btc.csv to btc.csv\n"
          ],
          "name": "stdout"
        }
      ]
    },
    {
      "cell_type": "code",
      "metadata": {
        "colab": {
          "base_uri": "https://localhost:8080/",
          "height": 204
        },
        "id": "isB9VtHSypEU",
        "outputId": "2a7a21bd-ed42-4902-e330-c82037b5d76e"
      },
      "source": [
        "# Peeking at data\n",
        "btc = pd.read_csv(io.StringIO(uploaded['btc.csv'].decode('utf-8')))\n",
        "btc.head()"
      ],
      "execution_count": null,
      "outputs": [
        {
          "output_type": "execute_result",
          "data": {
            "text/html": [
              "<div>\n",
              "<style scoped>\n",
              "    .dataframe tbody tr th:only-of-type {\n",
              "        vertical-align: middle;\n",
              "    }\n",
              "\n",
              "    .dataframe tbody tr th {\n",
              "        vertical-align: top;\n",
              "    }\n",
              "\n",
              "    .dataframe thead th {\n",
              "        text-align: right;\n",
              "    }\n",
              "</style>\n",
              "<table border=\"1\" class=\"dataframe\">\n",
              "  <thead>\n",
              "    <tr style=\"text-align: right;\">\n",
              "      <th></th>\n",
              "      <th>Date</th>\n",
              "      <th>Symbol</th>\n",
              "      <th>Open</th>\n",
              "      <th>High</th>\n",
              "      <th>Low</th>\n",
              "      <th>Close</th>\n",
              "      <th>Volume From</th>\n",
              "      <th>Volume To</th>\n",
              "    </tr>\n",
              "  </thead>\n",
              "  <tbody>\n",
              "    <tr>\n",
              "      <th>0</th>\n",
              "      <td>5/26/2018</td>\n",
              "      <td>BTCUSD</td>\n",
              "      <td>7459.11</td>\n",
              "      <td>7640.46</td>\n",
              "      <td>7380.00</td>\n",
              "      <td>7520.00</td>\n",
              "      <td>2722.80</td>\n",
              "      <td>2.042265e+07</td>\n",
              "    </tr>\n",
              "    <tr>\n",
              "      <th>1</th>\n",
              "      <td>5/25/2018</td>\n",
              "      <td>BTCUSD</td>\n",
              "      <td>7584.15</td>\n",
              "      <td>7661.85</td>\n",
              "      <td>7326.94</td>\n",
              "      <td>7459.11</td>\n",
              "      <td>8491.93</td>\n",
              "      <td>6.342069e+07</td>\n",
              "    </tr>\n",
              "    <tr>\n",
              "      <th>2</th>\n",
              "      <td>5/24/2018</td>\n",
              "      <td>BTCUSD</td>\n",
              "      <td>7505.00</td>\n",
              "      <td>7734.99</td>\n",
              "      <td>7269.00</td>\n",
              "      <td>7584.15</td>\n",
              "      <td>11033.72</td>\n",
              "      <td>8.293137e+07</td>\n",
              "    </tr>\n",
              "    <tr>\n",
              "      <th>3</th>\n",
              "      <td>5/23/2018</td>\n",
              "      <td>BTCUSD</td>\n",
              "      <td>7987.70</td>\n",
              "      <td>8030.00</td>\n",
              "      <td>7433.19</td>\n",
              "      <td>7505.00</td>\n",
              "      <td>14905.99</td>\n",
              "      <td>1.148104e+08</td>\n",
              "    </tr>\n",
              "    <tr>\n",
              "      <th>4</th>\n",
              "      <td>5/22/2018</td>\n",
              "      <td>BTCUSD</td>\n",
              "      <td>8393.44</td>\n",
              "      <td>8400.00</td>\n",
              "      <td>7950.00</td>\n",
              "      <td>7987.70</td>\n",
              "      <td>6589.43</td>\n",
              "      <td>5.389753e+07</td>\n",
              "    </tr>\n",
              "  </tbody>\n",
              "</table>\n",
              "</div>"
            ],
            "text/plain": [
              "        Date  Symbol     Open  ...    Close  Volume From     Volume To\n",
              "0  5/26/2018  BTCUSD  7459.11  ...  7520.00      2722.80  2.042265e+07\n",
              "1  5/25/2018  BTCUSD  7584.15  ...  7459.11      8491.93  6.342069e+07\n",
              "2  5/24/2018  BTCUSD  7505.00  ...  7584.15     11033.72  8.293137e+07\n",
              "3  5/23/2018  BTCUSD  7987.70  ...  7505.00     14905.99  1.148104e+08\n",
              "4  5/22/2018  BTCUSD  8393.44  ...  7987.70      6589.43  5.389753e+07\n",
              "\n",
              "[5 rows x 8 columns]"
            ]
          },
          "metadata": {
            "tags": []
          },
          "execution_count": 72
        }
      ]
    },
    {
      "cell_type": "code",
      "metadata": {
        "id": "PjjXllQR_pje"
      },
      "source": [
        "# Dropping unimportant columns\n",
        "btc = btc.drop(['Date', 'Symbol'], axis=1)"
      ],
      "execution_count": null,
      "outputs": []
    },
    {
      "cell_type": "code",
      "metadata": {
        "id": "MkKzlyIG5ryt"
      },
      "source": [
        "# Selecting feature for prediction\n",
        "features = btc['Close']\n",
        "outcome = btc.drop(['Close'], axis=1)"
      ],
      "execution_count": null,
      "outputs": []
    },
    {
      "cell_type": "code",
      "metadata": {
        "colab": {
          "base_uri": "https://localhost:8080/",
          "height": 419
        },
        "id": "NEwnNxiNAqt0",
        "outputId": "bac19926-c87f-49ed-d27a-5c3ea13f29cd"
      },
      "source": [
        "outcome"
      ],
      "execution_count": null,
      "outputs": [
        {
          "output_type": "execute_result",
          "data": {
            "text/html": [
              "<div>\n",
              "<style scoped>\n",
              "    .dataframe tbody tr th:only-of-type {\n",
              "        vertical-align: middle;\n",
              "    }\n",
              "\n",
              "    .dataframe tbody tr th {\n",
              "        vertical-align: top;\n",
              "    }\n",
              "\n",
              "    .dataframe thead th {\n",
              "        text-align: right;\n",
              "    }\n",
              "</style>\n",
              "<table border=\"1\" class=\"dataframe\">\n",
              "  <thead>\n",
              "    <tr style=\"text-align: right;\">\n",
              "      <th></th>\n",
              "      <th>Open</th>\n",
              "      <th>High</th>\n",
              "      <th>Low</th>\n",
              "      <th>Volume From</th>\n",
              "      <th>Volume To</th>\n",
              "    </tr>\n",
              "  </thead>\n",
              "  <tbody>\n",
              "    <tr>\n",
              "      <th>0</th>\n",
              "      <td>7459.11</td>\n",
              "      <td>7640.46</td>\n",
              "      <td>7380.00</td>\n",
              "      <td>2722.80000</td>\n",
              "      <td>2.042265e+07</td>\n",
              "    </tr>\n",
              "    <tr>\n",
              "      <th>1</th>\n",
              "      <td>7584.15</td>\n",
              "      <td>7661.85</td>\n",
              "      <td>7326.94</td>\n",
              "      <td>8491.93000</td>\n",
              "      <td>6.342069e+07</td>\n",
              "    </tr>\n",
              "    <tr>\n",
              "      <th>2</th>\n",
              "      <td>7505.00</td>\n",
              "      <td>7734.99</td>\n",
              "      <td>7269.00</td>\n",
              "      <td>11033.72000</td>\n",
              "      <td>8.293137e+07</td>\n",
              "    </tr>\n",
              "    <tr>\n",
              "      <th>3</th>\n",
              "      <td>7987.70</td>\n",
              "      <td>8030.00</td>\n",
              "      <td>7433.19</td>\n",
              "      <td>14905.99000</td>\n",
              "      <td>1.148104e+08</td>\n",
              "    </tr>\n",
              "    <tr>\n",
              "      <th>4</th>\n",
              "      <td>8393.44</td>\n",
              "      <td>8400.00</td>\n",
              "      <td>7950.00</td>\n",
              "      <td>6589.43000</td>\n",
              "      <td>5.389753e+07</td>\n",
              "    </tr>\n",
              "    <tr>\n",
              "      <th>...</th>\n",
              "      <td>...</td>\n",
              "      <td>...</td>\n",
              "      <td>...</td>\n",
              "      <td>...</td>\n",
              "      <td>...</td>\n",
              "    </tr>\n",
              "    <tr>\n",
              "      <th>1268</th>\n",
              "      <td>377.10</td>\n",
              "      <td>377.10</td>\n",
              "      <td>377.10</td>\n",
              "      <td>0.00000</td>\n",
              "      <td>0.000000e+00</td>\n",
              "    </tr>\n",
              "    <tr>\n",
              "      <th>1269</th>\n",
              "      <td>378.00</td>\n",
              "      <td>378.00</td>\n",
              "      <td>377.10</td>\n",
              "      <td>0.01000</td>\n",
              "      <td>3.770000e+00</td>\n",
              "    </tr>\n",
              "    <tr>\n",
              "      <th>1270</th>\n",
              "      <td>378.00</td>\n",
              "      <td>378.00</td>\n",
              "      <td>377.01</td>\n",
              "      <td>0.54660</td>\n",
              "      <td>2.065200e+02</td>\n",
              "    </tr>\n",
              "    <tr>\n",
              "      <th>1271</th>\n",
              "      <td>370.00</td>\n",
              "      <td>378.00</td>\n",
              "      <td>370.00</td>\n",
              "      <td>15.01000</td>\n",
              "      <td>5.675070e+03</td>\n",
              "    </tr>\n",
              "    <tr>\n",
              "      <th>1272</th>\n",
              "      <td>300.00</td>\n",
              "      <td>370.00</td>\n",
              "      <td>300.00</td>\n",
              "      <td>0.05656</td>\n",
              "      <td>1.953000e+01</td>\n",
              "    </tr>\n",
              "  </tbody>\n",
              "</table>\n",
              "<p>1273 rows × 5 columns</p>\n",
              "</div>"
            ],
            "text/plain": [
              "         Open     High      Low  Volume From     Volume To\n",
              "0     7459.11  7640.46  7380.00   2722.80000  2.042265e+07\n",
              "1     7584.15  7661.85  7326.94   8491.93000  6.342069e+07\n",
              "2     7505.00  7734.99  7269.00  11033.72000  8.293137e+07\n",
              "3     7987.70  8030.00  7433.19  14905.99000  1.148104e+08\n",
              "4     8393.44  8400.00  7950.00   6589.43000  5.389753e+07\n",
              "...       ...      ...      ...          ...           ...\n",
              "1268   377.10   377.10   377.10      0.00000  0.000000e+00\n",
              "1269   378.00   378.00   377.10      0.01000  3.770000e+00\n",
              "1270   378.00   378.00   377.01      0.54660  2.065200e+02\n",
              "1271   370.00   378.00   370.00     15.01000  5.675070e+03\n",
              "1272   300.00   370.00   300.00      0.05656  1.953000e+01\n",
              "\n",
              "[1273 rows x 5 columns]"
            ]
          },
          "metadata": {
            "tags": []
          },
          "execution_count": 75
        }
      ]
    },
    {
      "cell_type": "code",
      "metadata": {
        "colab": {
          "base_uri": "https://localhost:8080/",
          "height": 419
        },
        "id": "D0liJKJO6hkl",
        "outputId": "995e9f08-8413-47e6-fff7-1acd9229e184"
      },
      "source": [
        "# Since the dataset is backwards, we flip the dataset\n",
        "features = pd.DataFrame(features)\n",
        "features_flipped = features[\"Close\"].values[::-1]\n",
        "features_flipped = pd.DataFrame(features_flipped)\n",
        "features_flipped"
      ],
      "execution_count": null,
      "outputs": [
        {
          "output_type": "execute_result",
          "data": {
            "text/html": [
              "<div>\n",
              "<style scoped>\n",
              "    .dataframe tbody tr th:only-of-type {\n",
              "        vertical-align: middle;\n",
              "    }\n",
              "\n",
              "    .dataframe tbody tr th {\n",
              "        vertical-align: top;\n",
              "    }\n",
              "\n",
              "    .dataframe thead th {\n",
              "        text-align: right;\n",
              "    }\n",
              "</style>\n",
              "<table border=\"1\" class=\"dataframe\">\n",
              "  <thead>\n",
              "    <tr style=\"text-align: right;\">\n",
              "      <th></th>\n",
              "      <th>0</th>\n",
              "    </tr>\n",
              "  </thead>\n",
              "  <tbody>\n",
              "    <tr>\n",
              "      <th>0</th>\n",
              "      <td>370.00</td>\n",
              "    </tr>\n",
              "    <tr>\n",
              "      <th>1</th>\n",
              "      <td>378.00</td>\n",
              "    </tr>\n",
              "    <tr>\n",
              "      <th>2</th>\n",
              "      <td>378.00</td>\n",
              "    </tr>\n",
              "    <tr>\n",
              "      <th>3</th>\n",
              "      <td>377.10</td>\n",
              "    </tr>\n",
              "    <tr>\n",
              "      <th>4</th>\n",
              "      <td>377.10</td>\n",
              "    </tr>\n",
              "    <tr>\n",
              "      <th>...</th>\n",
              "      <td>...</td>\n",
              "    </tr>\n",
              "    <tr>\n",
              "      <th>1268</th>\n",
              "      <td>7987.70</td>\n",
              "    </tr>\n",
              "    <tr>\n",
              "      <th>1269</th>\n",
              "      <td>7505.00</td>\n",
              "    </tr>\n",
              "    <tr>\n",
              "      <th>1270</th>\n",
              "      <td>7584.15</td>\n",
              "    </tr>\n",
              "    <tr>\n",
              "      <th>1271</th>\n",
              "      <td>7459.11</td>\n",
              "    </tr>\n",
              "    <tr>\n",
              "      <th>1272</th>\n",
              "      <td>7520.00</td>\n",
              "    </tr>\n",
              "  </tbody>\n",
              "</table>\n",
              "<p>1273 rows × 1 columns</p>\n",
              "</div>"
            ],
            "text/plain": [
              "            0\n",
              "0      370.00\n",
              "1      378.00\n",
              "2      378.00\n",
              "3      377.10\n",
              "4      377.10\n",
              "...       ...\n",
              "1268  7987.70\n",
              "1269  7505.00\n",
              "1270  7584.15\n",
              "1271  7459.11\n",
              "1272  7520.00\n",
              "\n",
              "[1273 rows x 1 columns]"
            ]
          },
          "metadata": {
            "tags": []
          },
          "execution_count": 76
        }
      ]
    },
    {
      "cell_type": "code",
      "metadata": {
        "colab": {
          "base_uri": "https://localhost:8080/",
          "height": 419
        },
        "id": "Rf5pG-TT-BVt",
        "outputId": "651fce67-ed95-489e-c460-2a18fd3deac3"
      },
      "source": [
        "outcome_flipped = outcome.values[::-1]\n",
        "outcome_flipped = pd.DataFrame(outcome_flipped)\n",
        "outcome_flipped.columns = [\"Open\", \"High\", \"Low\", \"Volume From\", \"Volume To\"]\n",
        "outcome_flipped"
      ],
      "execution_count": null,
      "outputs": [
        {
          "output_type": "execute_result",
          "data": {
            "text/html": [
              "<div>\n",
              "<style scoped>\n",
              "    .dataframe tbody tr th:only-of-type {\n",
              "        vertical-align: middle;\n",
              "    }\n",
              "\n",
              "    .dataframe tbody tr th {\n",
              "        vertical-align: top;\n",
              "    }\n",
              "\n",
              "    .dataframe thead th {\n",
              "        text-align: right;\n",
              "    }\n",
              "</style>\n",
              "<table border=\"1\" class=\"dataframe\">\n",
              "  <thead>\n",
              "    <tr style=\"text-align: right;\">\n",
              "      <th></th>\n",
              "      <th>Open</th>\n",
              "      <th>High</th>\n",
              "      <th>Low</th>\n",
              "      <th>Volume From</th>\n",
              "      <th>Volume To</th>\n",
              "    </tr>\n",
              "  </thead>\n",
              "  <tbody>\n",
              "    <tr>\n",
              "      <th>0</th>\n",
              "      <td>300.00</td>\n",
              "      <td>370.00</td>\n",
              "      <td>300.00</td>\n",
              "      <td>0.05656</td>\n",
              "      <td>1.953000e+01</td>\n",
              "    </tr>\n",
              "    <tr>\n",
              "      <th>1</th>\n",
              "      <td>370.00</td>\n",
              "      <td>378.00</td>\n",
              "      <td>370.00</td>\n",
              "      <td>15.01000</td>\n",
              "      <td>5.675070e+03</td>\n",
              "    </tr>\n",
              "    <tr>\n",
              "      <th>2</th>\n",
              "      <td>378.00</td>\n",
              "      <td>378.00</td>\n",
              "      <td>377.01</td>\n",
              "      <td>0.54660</td>\n",
              "      <td>2.065200e+02</td>\n",
              "    </tr>\n",
              "    <tr>\n",
              "      <th>3</th>\n",
              "      <td>378.00</td>\n",
              "      <td>378.00</td>\n",
              "      <td>377.10</td>\n",
              "      <td>0.01000</td>\n",
              "      <td>3.770000e+00</td>\n",
              "    </tr>\n",
              "    <tr>\n",
              "      <th>4</th>\n",
              "      <td>377.10</td>\n",
              "      <td>377.10</td>\n",
              "      <td>377.10</td>\n",
              "      <td>0.00000</td>\n",
              "      <td>0.000000e+00</td>\n",
              "    </tr>\n",
              "    <tr>\n",
              "      <th>...</th>\n",
              "      <td>...</td>\n",
              "      <td>...</td>\n",
              "      <td>...</td>\n",
              "      <td>...</td>\n",
              "      <td>...</td>\n",
              "    </tr>\n",
              "    <tr>\n",
              "      <th>1268</th>\n",
              "      <td>8393.44</td>\n",
              "      <td>8400.00</td>\n",
              "      <td>7950.00</td>\n",
              "      <td>6589.43000</td>\n",
              "      <td>5.389753e+07</td>\n",
              "    </tr>\n",
              "    <tr>\n",
              "      <th>1269</th>\n",
              "      <td>7987.70</td>\n",
              "      <td>8030.00</td>\n",
              "      <td>7433.19</td>\n",
              "      <td>14905.99000</td>\n",
              "      <td>1.148104e+08</td>\n",
              "    </tr>\n",
              "    <tr>\n",
              "      <th>1270</th>\n",
              "      <td>7505.00</td>\n",
              "      <td>7734.99</td>\n",
              "      <td>7269.00</td>\n",
              "      <td>11033.72000</td>\n",
              "      <td>8.293137e+07</td>\n",
              "    </tr>\n",
              "    <tr>\n",
              "      <th>1271</th>\n",
              "      <td>7584.15</td>\n",
              "      <td>7661.85</td>\n",
              "      <td>7326.94</td>\n",
              "      <td>8491.93000</td>\n",
              "      <td>6.342069e+07</td>\n",
              "    </tr>\n",
              "    <tr>\n",
              "      <th>1272</th>\n",
              "      <td>7459.11</td>\n",
              "      <td>7640.46</td>\n",
              "      <td>7380.00</td>\n",
              "      <td>2722.80000</td>\n",
              "      <td>2.042265e+07</td>\n",
              "    </tr>\n",
              "  </tbody>\n",
              "</table>\n",
              "<p>1273 rows × 5 columns</p>\n",
              "</div>"
            ],
            "text/plain": [
              "         Open     High      Low  Volume From     Volume To\n",
              "0      300.00   370.00   300.00      0.05656  1.953000e+01\n",
              "1      370.00   378.00   370.00     15.01000  5.675070e+03\n",
              "2      378.00   378.00   377.01      0.54660  2.065200e+02\n",
              "3      378.00   378.00   377.10      0.01000  3.770000e+00\n",
              "4      377.10   377.10   377.10      0.00000  0.000000e+00\n",
              "...       ...      ...      ...          ...           ...\n",
              "1268  8393.44  8400.00  7950.00   6589.43000  5.389753e+07\n",
              "1269  7987.70  8030.00  7433.19  14905.99000  1.148104e+08\n",
              "1270  7505.00  7734.99  7269.00  11033.72000  8.293137e+07\n",
              "1271  7584.15  7661.85  7326.94   8491.93000  6.342069e+07\n",
              "1272  7459.11  7640.46  7380.00   2722.80000  2.042265e+07\n",
              "\n",
              "[1273 rows x 5 columns]"
            ]
          },
          "metadata": {
            "tags": []
          },
          "execution_count": 77
        }
      ]
    },
    {
      "cell_type": "code",
      "metadata": {
        "colab": {
          "base_uri": "https://localhost:8080/",
          "height": 458
        },
        "id": "pYzQVlxD6Sn9",
        "outputId": "6bd8e17b-f486-4311-8166-edb221d52eb9"
      },
      "source": [
        "# Plotting Close Prices\n",
        "plt.figure(figsize=(12,7), frameon=False, facecolor='brown', edgecolor='blue')\n",
        "plt.title('Bitcoin prices from December 2014 to May 2018')\n",
        "plt.xlabel('Days')\n",
        "plt.ylabel('Price of Bitcoin')\n",
        "plt.plot(features_flipped, label='Price')\n",
        "plt.legend()\n",
        "plt.show()"
      ],
      "execution_count": null,
      "outputs": [
        {
          "output_type": "display_data",
          "data": {
            "image/png": "[encoded data removed]",
            "text/plain": [
              "<Figure size 864x504 with 1 Axes>"
            ]
          },
          "metadata": {
            "tags": []
          }
        }
      ]
    },
    {
      "cell_type": "code",
      "metadata": {
        "id": "gA7D6sRhRkN1"
      },
      "source": [
        "# Reshaping features into array\n",
        "close_price = np.array(features_flipped).reshape(-1,1)"
      ],
      "execution_count": null,
      "outputs": []
    },
    {
      "cell_type": "code",
      "metadata": {
        "id": "z7ynqsVfRsg2"
      },
      "source": [
        "# Standardize features and scaling to unit variance with StandardScaler\n",
        "standard_scalar = StandardScaler()\n",
        "\n",
        "close_priceSC = standard_scalar.fit_transform(close_price)"
      ],
      "execution_count": null,
      "outputs": []
    },
    {
      "cell_type": "code",
      "metadata": {
        "colab": {
          "base_uri": "https://localhost:8080/"
        },
        "id": "834drLqgRVR4",
        "outputId": "866b261a-2a30-4705-b783-e648b63cb0d0"
      },
      "source": [
        "# Formatting data into ranges\n",
        "# Creating Features and Labels datasets by windowing the data.\n",
        "# stepsize - how many data points we are going to use to predict the next datapoint in the sequence \n",
        "\n",
        "stepsize = 32\n",
        "\n",
        "X = []\n",
        "y = []\n",
        "for i in range(stepsize, len(close_priceSC)):\n",
        "    X.append(close_priceSC[i-stepsize:i, 0])\n",
        "    y.append(close_priceSC[i,0])\n",
        "X, y = np.array(X), np.array(y)\n",
        "print(X.shape, y.shape)"
      ],
      "execution_count": null,
      "outputs": [
        {
          "output_type": "stream",
          "text": [
            "(1241, 32) (1241,)\n"
          ],
          "name": "stdout"
        }
      ]
    },
    {
      "cell_type": "code",
      "metadata": {
        "id": "xBQVJOUGSZ9X"
      },
      "source": [
        "# Splitting the data into 80% train and 20% test split\n",
        "X_train = X[:1018 ,:]\n",
        "X_test = X[1018 :,:]\n",
        "\n",
        "y_train = y[:1018 ]\n",
        "y_test = y[1018 :]"
      ],
      "execution_count": null,
      "outputs": []
    },
    {
      "cell_type": "code",
      "metadata": {
        "colab": {
          "base_uri": "https://localhost:8080/"
        },
        "id": "XsVOM6pyX9pF",
        "outputId": "43b33495-974b-4823-b732-7b96470c7ac9"
      },
      "source": [
        "print(\"X_train size: {}\".format(X_train.shape))\n",
        "print(\"y_train size: {}\".format(y_train.shape))\n",
        "print(\"X_test size: {}\".format(X_test.shape))\n",
        "print(\"y_test size: {}\".format(y_test.shape))"
      ],
      "execution_count": null,
      "outputs": [
        {
          "output_type": "stream",
          "text": [
            "X_train size: (1018, 32)\n",
            "y_train size: (1018,)\n",
            "X_test size: (223, 32)\n",
            "y_test size: (223,)\n"
          ],
          "name": "stdout"
        }
      ]
    },
    {
      "cell_type": "code",
      "metadata": {
        "colab": {
          "base_uri": "https://localhost:8080/",
          "height": 265
        },
        "id": "z9S7p87dSf2O",
        "outputId": "454ef7f4-e693-49b4-cc91-d7c5b6b88f87"
      },
      "source": [
        "# Plotting training and test data\n",
        "plt.figure(figsize=(14,4))\n",
        "plt.plot(range(1018),y_train)\n",
        "plt.plot(range(1018, len(y)), y_test)\n",
        "plt.legend([\"Training\", \"Test\"])\n",
        "plt.grid()"
      ],
      "execution_count": null,
      "outputs": [
        {
          "output_type": "display_data",
          "data": {
            "image/png": "[encoded data removed]",
            "text/plain": [
              "<Figure size 1008x288 with 1 Axes>"
            ]
          },
          "metadata": {
            "tags": [],
            "needs_background": "light"
          }
        }
      ]
    },
    {
      "cell_type": "code",
      "metadata": {
        "colab": {
          "base_uri": "https://localhost:8080/"
        },
        "id": "zVcoc_hnSidl",
        "outputId": "df12fe4b-c9e4-4eb5-c31a-d73d2959d928"
      },
      "source": [
        "# Reshaping data to feed the model\n",
        "X_train = X_train.reshape(-1,stepsize,1)\n",
        "X_test = X_test.reshape(-1,stepsize,1)\n",
        "\n",
        "print(\"X_train size: {}\".format(X_train.shape))\n",
        "print(\"y_train size: {}\".format(y_train.shape))\n",
        "print(\"X_test size: {}\".format(X_test.shape))\n",
        "print(\"y_test size: {}\".format(y_test.shape))"
      ],
      "execution_count": null,
      "outputs": [
        {
          "output_type": "stream",
          "text": [
            "X_train size: (1018, 32, 1)\n",
            "y_train size: (1018,)\n",
            "X_test size: (223, 32, 1)\n",
            "y_test size: (223,)\n"
          ],
          "name": "stdout"
        }
      ]
    },
    {
      "cell_type": "code",
      "metadata": {
        "id": "klsomna2PXwl"
      },
      "source": [
        "# Defining model\n",
        "model = Sequential()\n",
        "model.add(Bidirectional(LSTM(64, input_shape=(X_train.shape[1], 1))))\n",
        "model.add(Dense(1))\n",
        "model.compile(optimizer='adam', loss='mean_absolute_error', metrics=['acc'])\n",
        "\n"
      ],
      "execution_count": null,
      "outputs": []
    },
    {
      "cell_type": "code",
      "metadata": {
        "colab": {
          "base_uri": "https://localhost:8080/"
        },
        "id": "CnkshrOQPcY9",
        "outputId": "a3d0f043-3d3a-4954-a85c-7adb8976d10d"
      },
      "source": [
        "# Fitting model\n",
        "model.fit(X_train, y_train, epochs=100, batch_size=64)"
      ],
      "execution_count": null,
      "outputs": [
        {
          "output_type": "stream",
          "text": [
            "Epoch 1/100\n",
            "16/16 [==============================] - 5s 35ms/step - loss: 0.2603 - acc: 0.0000e+00\n",
            "Epoch 2/100\n",
            "16/16 [==============================] - 1s 35ms/step - loss: 0.0574 - acc: 0.0000e+00\n",
            "Epoch 3/100\n",
            "16/16 [==============================] - 1s 34ms/step - loss: 0.0325 - acc: 0.0000e+00\n",
            "Epoch 4/100\n",
            "16/16 [==============================] - 1s 33ms/step - loss: 0.0216 - acc: 0.0000e+00\n",
            "Epoch 5/100\n",
            "16/16 [==============================] - 1s 37ms/step - loss: 0.0211 - acc: 0.0000e+00\n",
            "Epoch 6/100\n",
            "16/16 [==============================] - 1s 34ms/step - loss: 0.0200 - acc: 0.0000e+00\n",
            "Epoch 7/100\n",
            "16/16 [==============================] - 1s 34ms/step - loss: 0.0175 - acc: 0.0000e+00\n",
            "Epoch 8/100\n",
            "16/16 [==============================] - 1s 35ms/step - loss: 0.0171 - acc: 0.0000e+00\n",
            "Epoch 9/100\n",
            "16/16 [==============================] - 1s 35ms/step - loss: 0.0156 - acc: 0.0000e+00\n",
            "Epoch 10/100\n",
            "16/16 [==============================] - 1s 34ms/step - loss: 0.0161 - acc: 0.0000e+00\n",
            "Epoch 11/100\n",
            "16/16 [==============================] - 1s 35ms/step - loss: 0.0186 - acc: 0.0000e+00\n",
            "Epoch 12/100\n",
            "16/16 [==============================] - 1s 34ms/step - loss: 0.0171 - acc: 0.0000e+00\n",
            "Epoch 13/100\n",
            "16/16 [==============================] - 1s 36ms/step - loss: 0.0157 - acc: 0.0000e+00\n",
            "Epoch 14/100\n",
            "16/16 [==============================] - 1s 35ms/step - loss: 0.0185 - acc: 0.0000e+00\n",
            "Epoch 15/100\n",
            "16/16 [==============================] - 1s 34ms/step - loss: 0.0163 - acc: 0.0000e+00\n",
            "Epoch 16/100\n",
            "16/16 [==============================] - 1s 41ms/step - loss: 0.0156 - acc: 0.0000e+00\n",
            "Epoch 17/100\n",
            "16/16 [==============================] - 1s 38ms/step - loss: 0.0133 - acc: 0.0000e+00\n",
            "Epoch 18/100\n",
            "16/16 [==============================] - 1s 37ms/step - loss: 0.0134 - acc: 0.0000e+00\n",
            "Epoch 19/100\n",
            "16/16 [==============================] - 1s 34ms/step - loss: 0.0136 - acc: 0.0000e+00\n",
            "Epoch 20/100\n",
            "16/16 [==============================] - 1s 36ms/step - loss: 0.0153 - acc: 0.0000e+00\n",
            "Epoch 21/100\n",
            "16/16 [==============================] - 1s 35ms/step - loss: 0.0146 - acc: 0.0000e+00\n",
            "Epoch 22/100\n",
            "16/16 [==============================] - 1s 34ms/step - loss: 0.0138 - acc: 0.0000e+00\n",
            "Epoch 23/100\n",
            "16/16 [==============================] - 1s 35ms/step - loss: 0.0144 - acc: 0.0000e+00\n",
            "Epoch 24/100\n",
            "16/16 [==============================] - 1s 35ms/step - loss: 0.0137 - acc: 0.0000e+00\n",
            "Epoch 25/100\n",
            "16/16 [==============================] - 1s 34ms/step - loss: 0.0128 - acc: 0.0000e+00\n",
            "Epoch 26/100\n",
            "16/16 [==============================] - 1s 35ms/step - loss: 0.0147 - acc: 0.0000e+00\n",
            "Epoch 27/100\n",
            "16/16 [==============================] - 1s 35ms/step - loss: 0.0163 - acc: 0.0000e+00\n",
            "Epoch 28/100\n",
            "16/16 [==============================] - 1s 35ms/step - loss: 0.0146 - acc: 0.0000e+00\n",
            "Epoch 29/100\n",
            "16/16 [==============================] - 1s 34ms/step - loss: 0.0132 - acc: 0.0000e+00\n",
            "Epoch 30/100\n",
            "16/16 [==============================] - 1s 39ms/step - loss: 0.0140 - acc: 0.0000e+00\n",
            "Epoch 31/100\n",
            "16/16 [==============================] - 1s 35ms/step - loss: 0.0134 - acc: 0.0000e+00\n",
            "Epoch 32/100\n",
            "16/16 [==============================] - 1s 34ms/step - loss: 0.0158 - acc: 0.0000e+00\n",
            "Epoch 33/100\n",
            "16/16 [==============================] - 1s 35ms/step - loss: 0.0135 - acc: 0.0000e+00\n",
            "Epoch 34/100\n",
            "16/16 [==============================] - 1s 35ms/step - loss: 0.0142 - acc: 0.0000e+00\n",
            "Epoch 35/100\n",
            "16/16 [==============================] - 1s 35ms/step - loss: 0.0125 - acc: 0.0000e+00\n",
            "Epoch 36/100\n",
            "16/16 [==============================] - 1s 36ms/step - loss: 0.0125 - acc: 0.0000e+00\n",
            "Epoch 37/100\n",
            "16/16 [==============================] - 1s 34ms/step - loss: 0.0117 - acc: 0.0000e+00\n",
            "Epoch 38/100\n",
            "16/16 [==============================] - 1s 35ms/step - loss: 0.0131 - acc: 0.0000e+00\n",
            "Epoch 39/100\n",
            "16/16 [==============================] - 1s 34ms/step - loss: 0.0120 - acc: 0.0000e+00\n",
            "Epoch 40/100\n",
            "16/16 [==============================] - 1s 35ms/step - loss: 0.0140 - acc: 0.0000e+00\n",
            "Epoch 41/100\n",
            "16/16 [==============================] - 1s 36ms/step - loss: 0.0139 - acc: 0.0000e+00\n",
            "Epoch 42/100\n",
            "16/16 [==============================] - 1s 35ms/step - loss: 0.0154 - acc: 0.0000e+00\n",
            "Epoch 43/100\n",
            "16/16 [==============================] - 1s 37ms/step - loss: 0.0129 - acc: 0.0000e+00\n",
            "Epoch 44/100\n",
            "16/16 [==============================] - 1s 38ms/step - loss: 0.0119 - acc: 0.0000e+00\n",
            "Epoch 45/100\n",
            "16/16 [==============================] - 1s 38ms/step - loss: 0.0124 - acc: 0.0000e+00\n",
            "Epoch 46/100\n",
            "16/16 [==============================] - 1s 37ms/step - loss: 0.0147 - acc: 0.0000e+00\n",
            "Epoch 47/100\n",
            "16/16 [==============================] - 1s 34ms/step - loss: 0.0120 - acc: 0.0000e+00\n",
            "Epoch 48/100\n",
            "16/16 [==============================] - 1s 35ms/step - loss: 0.0123 - acc: 0.0000e+00\n",
            "Epoch 49/100\n",
            "16/16 [==============================] - 1s 34ms/step - loss: 0.0121 - acc: 0.0000e+00\n",
            "Epoch 50/100\n",
            "16/16 [==============================] - 1s 36ms/step - loss: 0.0121 - acc: 0.0000e+00\n",
            "Epoch 51/100\n",
            "16/16 [==============================] - 1s 35ms/step - loss: 0.0121 - acc: 0.0000e+00\n",
            "Epoch 52/100\n",
            "16/16 [==============================] - 1s 35ms/step - loss: 0.0129 - acc: 0.0000e+00\n",
            "Epoch 53/100\n",
            "16/16 [==============================] - 1s 36ms/step - loss: 0.0112 - acc: 0.0000e+00\n",
            "Epoch 54/100\n",
            "16/16 [==============================] - 1s 35ms/step - loss: 0.0133 - acc: 0.0000e+00\n",
            "Epoch 55/100\n",
            "16/16 [==============================] - 1s 37ms/step - loss: 0.0109 - acc: 0.0000e+00\n",
            "Epoch 56/100\n",
            "16/16 [==============================] - 1s 34ms/step - loss: 0.0129 - acc: 0.0000e+00\n",
            "Epoch 57/100\n",
            "16/16 [==============================] - 1s 37ms/step - loss: 0.0119 - acc: 0.0000e+00\n",
            "Epoch 58/100\n",
            "16/16 [==============================] - 1s 34ms/step - loss: 0.0112 - acc: 0.0000e+00\n",
            "Epoch 59/100\n",
            "16/16 [==============================] - 1s 35ms/step - loss: 0.0133 - acc: 0.0000e+00\n",
            "Epoch 60/100\n",
            "16/16 [==============================] - 1s 34ms/step - loss: 0.0106 - acc: 0.0000e+00\n",
            "Epoch 61/100\n",
            "16/16 [==============================] - 1s 35ms/step - loss: 0.0125 - acc: 0.0000e+00\n",
            "Epoch 62/100\n",
            "16/16 [==============================] - 1s 34ms/step - loss: 0.0126 - acc: 0.0000e+00\n",
            "Epoch 63/100\n",
            "16/16 [==============================] - 1s 34ms/step - loss: 0.0114 - acc: 0.0000e+00\n",
            "Epoch 64/100\n",
            "16/16 [==============================] - 1s 35ms/step - loss: 0.0124 - acc: 0.0000e+00\n",
            "Epoch 65/100\n",
            "16/16 [==============================] - 1s 33ms/step - loss: 0.0125 - acc: 0.0000e+00\n",
            "Epoch 66/100\n",
            "16/16 [==============================] - 1s 34ms/step - loss: 0.0116 - acc: 0.0000e+00\n",
            "Epoch 67/100\n",
            "16/16 [==============================] - 1s 34ms/step - loss: 0.0120 - acc: 0.0000e+00\n",
            "Epoch 68/100\n",
            "16/16 [==============================] - 1s 35ms/step - loss: 0.0112 - acc: 0.0000e+00\n",
            "Epoch 69/100\n",
            "16/16 [==============================] - 1s 33ms/step - loss: 0.0114 - acc: 0.0000e+00\n",
            "Epoch 70/100\n",
            "16/16 [==============================] - 1s 38ms/step - loss: 0.0100 - acc: 0.0000e+00\n",
            "Epoch 71/100\n",
            "16/16 [==============================] - 1s 34ms/step - loss: 0.0120 - acc: 0.0000e+00\n",
            "Epoch 72/100\n",
            "16/16 [==============================] - 1s 36ms/step - loss: 0.0114 - acc: 0.0000e+00\n",
            "Epoch 73/100\n",
            "16/16 [==============================] - 1s 36ms/step - loss: 0.0124 - acc: 0.0000e+00\n",
            "Epoch 74/100\n",
            "16/16 [==============================] - 1s 35ms/step - loss: 0.0117 - acc: 0.0000e+00\n",
            "Epoch 75/100\n",
            "16/16 [==============================] - 1s 37ms/step - loss: 0.0093 - acc: 0.0000e+00\n",
            "Epoch 76/100\n",
            "16/16 [==============================] - 1s 35ms/step - loss: 0.0118 - acc: 0.0000e+00\n",
            "Epoch 77/100\n",
            "16/16 [==============================] - 1s 40ms/step - loss: 0.0118 - acc: 0.0000e+00\n",
            "Epoch 78/100\n",
            "16/16 [==============================] - 1s 35ms/step - loss: 0.0102 - acc: 0.0000e+00\n",
            "Epoch 79/100\n",
            "16/16 [==============================] - 1s 35ms/step - loss: 0.0094 - acc: 0.0000e+00\n",
            "Epoch 80/100\n",
            "16/16 [==============================] - 1s 34ms/step - loss: 0.0101 - acc: 0.0000e+00\n",
            "Epoch 81/100\n",
            "16/16 [==============================] - 1s 34ms/step - loss: 0.0099 - acc: 0.0000e+00\n",
            "Epoch 82/100\n",
            "16/16 [==============================] - 1s 35ms/step - loss: 0.0107 - acc: 0.0000e+00\n",
            "Epoch 83/100\n",
            "16/16 [==============================] - 1s 33ms/step - loss: 0.0117 - acc: 0.0000e+00\n",
            "Epoch 84/100\n",
            "16/16 [==============================] - 1s 36ms/step - loss: 0.0123 - acc: 0.0000e+00\n",
            "Epoch 85/100\n",
            "16/16 [==============================] - 1s 35ms/step - loss: 0.0114 - acc: 0.0000e+00\n",
            "Epoch 86/100\n",
            "16/16 [==============================] - 1s 35ms/step - loss: 0.0138 - acc: 0.0000e+00\n",
            "Epoch 87/100\n",
            "16/16 [==============================] - 1s 36ms/step - loss: 0.0129 - acc: 0.0000e+00\n",
            "Epoch 88/100\n",
            "16/16 [==============================] - 1s 35ms/step - loss: 0.0106 - acc: 0.0000e+00\n",
            "Epoch 89/100\n",
            "16/16 [==============================] - 1s 35ms/step - loss: 0.0116 - acc: 0.0000e+00\n",
            "Epoch 90/100\n",
            "16/16 [==============================] - 1s 37ms/step - loss: 0.0094 - acc: 0.0000e+00\n",
            "Epoch 91/100\n",
            "16/16 [==============================] - 1s 39ms/step - loss: 0.0122 - acc: 0.0000e+00\n",
            "Epoch 92/100\n",
            "16/16 [==============================] - 1s 37ms/step - loss: 0.0104 - acc: 0.0000e+00\n",
            "Epoch 93/100\n",
            "16/16 [==============================] - 1s 36ms/step - loss: 0.0109 - acc: 0.0000e+00\n",
            "Epoch 94/100\n",
            "16/16 [==============================] - 1s 35ms/step - loss: 0.0105 - acc: 0.0000e+00\n",
            "Epoch 95/100\n",
            "16/16 [==============================] - 1s 35ms/step - loss: 0.0104 - acc: 0.0000e+00\n",
            "Epoch 96/100\n",
            "16/16 [==============================] - 1s 41ms/step - loss: 0.0099 - acc: 0.0000e+00\n",
            "Epoch 97/100\n",
            "16/16 [==============================] - 1s 34ms/step - loss: 0.0097 - acc: 0.0000e+00\n",
            "Epoch 98/100\n",
            "16/16 [==============================] - 1s 35ms/step - loss: 0.0091 - acc: 0.0000e+00\n",
            "Epoch 99/100\n",
            "16/16 [==============================] - 1s 36ms/step - loss: 0.0101 - acc: 0.0000e+00\n",
            "Epoch 100/100\n",
            "16/16 [==============================] - 1s 35ms/step - loss: 0.0092 - acc: 0.0000e+00\n"
          ],
          "name": "stdout"
        },
        {
          "output_type": "execute_result",
          "data": {
            "text/plain": [
              "<keras.callbacks.History at 0x7f84047df6d0>"
            ]
          },
          "metadata": {
            "tags": []
          },
          "execution_count": 422
        }
      ]
    },
    {
      "cell_type": "code",
      "metadata": {
        "id": "nhKRbf52T-09"
      },
      "source": [
        "# Prediction and measuring error\n",
        "y_pred = model.predict(X_test)\n",
        "MSE = mean_absolute_error(y_test, y_pred)"
      ],
      "execution_count": null,
      "outputs": []
    },
    {
      "cell_type": "code",
      "metadata": {
        "colab": {
          "base_uri": "https://localhost:8080/",
          "height": 421
        },
        "id": "TNWZTUyJT_gm",
        "outputId": "a8edeec7-53cb-411a-b99e-6bcd5b26e7a0"
      },
      "source": [
        "# Plotting prediction in relation to original test data\n",
        "plt.figure(figsize=(14,6))\n",
        "plt.plot(standard_scalar.inverse_transform(y_test.reshape(-1,1)))\n",
        "plt.plot(standard_scalar.inverse_transform(y_pred.reshape(-1,1)))\n",
        "plt.title(\"Comparison with MAE {0:0.10f}\".format(MSE))\n",
        "plt.legend([\"Y\", \"Prediction\"])\n",
        "plt.xlabel(\"Timeframe\")\n",
        "plt.ylabel(\"Price\")"
      ],
      "execution_count": null,
      "outputs": [
        {
          "output_type": "execute_result",
          "data": {
            "text/plain": [
              "Text(0, 0.5, 'Price')"
            ]
          },
          "metadata": {
            "tags": []
          },
          "execution_count": 424
        },
        {
          "output_type": "display_data",
          "data": {
            "image/png": "[encoded data removed]",
            "text/plain": [
              "<Figure size 1008x432 with 1 Axes>"
            ]
          },
          "metadata": {
            "tags": [],
            "needs_background": "light"
          }
        }
      ]
    }
  ]
}