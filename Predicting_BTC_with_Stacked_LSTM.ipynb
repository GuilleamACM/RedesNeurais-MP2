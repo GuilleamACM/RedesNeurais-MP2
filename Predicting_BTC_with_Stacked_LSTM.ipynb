{
 "cells": [
  {
   "cell_type": "markdown",
   "metadata": {},
   "source": [
    "__________________________________________________________________________________\n",
    "                             |Predicting BTC with LSTM|\n",
    "                                   |Stacked LSTM|\n",
    "                                   \n",
    "Gabriel Lyra      - glgs2  \n",
    "Guilherme Melo    - gacm  \n",
    "Henrique Mariz    - ham2  \n",
    "Matheus Belfort   - mbmt  \n",
    "Matheus Lima      - mlbp  \n",
    "__________________________________________________________________________________"
   ]
  },
  {
   "cell_type": "markdown",
   "metadata": {},
   "source": [
    "Importando as bibliotecas necessárias"
   ]
  },
  {
   "cell_type": "code",
   "execution_count": 76,
   "metadata": {
    "colab": {
     "base_uri": "https://localhost:8080/"
    },
    "id": "vDolIykGxUYR",
    "outputId": "193c0579-83e2-4263-e84c-20f71d2eb1c9"
   },
   "outputs": [],
   "source": [
    "import warnings\n",
    "warnings.filterwarnings('ignore')\n",
    "\n",
    "import io\n",
    "import numpy as np\n",
    "import pandas as pd\n",
    "import seaborn as sns\n",
    "import tensorflow as tf\n",
    "import matplotlib.pyplot as plt\n",
    "import math\n",
    "\n",
    "from sklearn.model_selection import GridSearchCV\n",
    "from sklearn.preprocessing import StandardScaler\n",
    "from sklearn.preprocessing import MinMaxScaler\n",
    "from sklearn.model_selection import train_test_split\n",
    "from sklearn.metrics import mean_squared_error, mean_absolute_error\n",
    "\n",
    "from keras.wrappers.scikit_learn import KerasClassifier\n",
    "from keras.models import Sequential\n",
    "from keras.layers import LSTM\n",
    "from keras.layers import Dense\n",
    "\n",
    "%matplotlib inline"
   ]
  },
  {
   "cell_type": "markdown",
   "metadata": {
    "colab": {
     "base_uri": "https://localhost:8080/",
     "height": 72,
     "resources": {
      "http://localhost:8080/nbextensions/google.colab/files.js": {
       "data": "Ly8gQ29weXJpZ2h0IDIwMTcgR29vZ2xlIExMQwovLwovLyBMaWNlbnNlZCB1bmRlciB0aGUgQXBhY2hlIExpY2Vuc2UsIFZlcnNpb24gMi4wICh0aGUgIkxpY2Vuc2UiKTsKLy8geW91IG1heSBub3QgdXNlIHRoaXMgZmlsZSBleGNlcHQgaW4gY29tcGxpYW5jZSB3aXRoIHRoZSBMaWNlbnNlLgovLyBZb3UgbWF5IG9idGFpbiBhIGNvcHkgb2YgdGhlIExpY2Vuc2UgYXQKLy8KLy8gICAgICBodHRwOi8vd3d3LmFwYWNoZS5vcmcvbGljZW5zZXMvTElDRU5TRS0yLjAKLy8KLy8gVW5sZXNzIHJlcXVpcmVkIGJ5IGFwcGxpY2FibGUgbGF3IG9yIGFncmVlZCB0byBpbiB3cml0aW5nLCBzb2Z0d2FyZQovLyBkaXN0cmlidXRlZCB1bmRlciB0aGUgTGljZW5zZSBpcyBkaXN0cmlidXRlZCBvbiBhbiAiQVMgSVMiIEJBU0lTLAovLyBXSVRIT1VUIFdBUlJBTlRJRVMgT1IgQ09ORElUSU9OUyBPRiBBTlkgS0lORCwgZWl0aGVyIGV4cHJlc3Mgb3IgaW1wbGllZC4KLy8gU2VlIHRoZSBMaWNlbnNlIGZvciB0aGUgc3BlY2lmaWMgbGFuZ3VhZ2UgZ292ZXJuaW5nIHBlcm1pc3Npb25zIGFuZAovLyBsaW1pdGF0aW9ucyB1bmRlciB0aGUgTGljZW5zZS4KCi8qKgogKiBAZmlsZW92ZXJ2aWV3IEhlbHBlcnMgZm9yIGdvb2dsZS5jb2xhYiBQeXRob24gbW9kdWxlLgogKi8KKGZ1bmN0aW9uKHNjb3BlKSB7CmZ1bmN0aW9uIHNwYW4odGV4dCwgc3R5bGVBdHRyaWJ1dGVzID0ge30pIHsKICBjb25zdCBlbGVtZW50ID0gZG9jdW1lbnQuY3JlYXRlRWxlbWVudCgnc3BhbicpOwogIGVsZW1lbnQudGV4dENvbnRlbnQgPSB0ZXh0OwogIGZvciAoY29uc3Qga2V5IG9mIE9iamVjdC5rZXlzKHN0eWxlQXR0cmlidXRlcykpIHsKICAgIGVsZW1lbnQuc3R5bGVba2V5XSA9IHN0eWxlQXR0cmlidXRlc1trZXldOwogIH0KICByZXR1cm4gZWxlbWVudDsKfQoKLy8gTWF4IG51bWJlciBvZiBieXRlcyB3aGljaCB3aWxsIGJlIHVwbG9hZGVkIGF0IGEgdGltZS4KY29uc3QgTUFYX1BBWUxPQURfU0laRSA9IDEwMCAqIDEwMjQ7CgpmdW5jdGlvbiBfdXBsb2FkRmlsZXMoaW5wdXRJZCwgb3V0cHV0SWQpIHsKICBjb25zdCBzdGVwcyA9IHVwbG9hZEZpbGVzU3RlcChpbnB1dElkLCBvdXRwdXRJZCk7CiAgY29uc3Qgb3V0cHV0RWxlbWVudCA9IGRvY3VtZW50LmdldEVsZW1lbnRCeUlkKG91dHB1dElkKTsKICAvLyBDYWNoZSBzdGVwcyBvbiB0aGUgb3V0cHV0RWxlbWVudCB0byBtYWtlIGl0IGF2YWlsYWJsZSBmb3IgdGhlIG5leHQgY2FsbAogIC8vIHRvIHVwbG9hZEZpbGVzQ29udGludWUgZnJvbSBQeXRob24uCiAgb3V0cHV0RWxlbWVudC5zdGVwcyA9IHN0ZXBzOwoKICByZXR1cm4gX3VwbG9hZEZpbGVzQ29udGludWUob3V0cHV0SWQpOwp9CgovLyBUaGlzIGlzIHJvdWdobHkgYW4gYXN5bmMgZ2VuZXJhdG9yIChub3Qgc3VwcG9ydGVkIGluIHRoZSBicm93c2VyIHlldCksCi8vIHdoZXJlIHRoZXJlIGFyZSBtdWx0aXBsZSBhc3luY2hyb25vdXMgc3RlcHMgYW5kIHRoZSBQeXRob24gc2lkZSBpcyBnb2luZwovLyB0byBwb2xsIGZvciBjb21wbGV0aW9uIG9mIGVhY2ggc3RlcC4KLy8gVGhpcyB1c2VzIGEgUHJvbWlzZSB0byBibG9jayB0aGUgcHl0aG9uIHNpZGUgb24gY29tcGxldGlvbiBvZiBlYWNoIHN0ZXAsCi8vIHRoZW4gcGFzc2VzIHRoZSByZXN1bHQgb2YgdGhlIHByZXZpb3VzIHN0ZXAgYXMgdGhlIGlucHV0IHRvIHRoZSBuZXh0IHN0ZXAuCmZ1bmN0aW9uIF91cGxvYWRGaWxlc0NvbnRpbnVlKG91dHB1dElkKSB7CiAgY29uc3Qgb3V0cHV0RWxlbWVudCA9IGRvY3VtZW50LmdldEVsZW1lbnRCeUlkKG91dHB1dElkKTsKICBjb25zdCBzdGVwcyA9IG91dHB1dEVsZW1lbnQuc3RlcHM7CgogIGNvbnN0IG5leHQgPSBzdGVwcy5uZXh0KG91dHB1dEVsZW1lbnQubGFzdFByb21pc2VWYWx1ZSk7CiAgcmV0dXJuIFByb21pc2UucmVzb2x2ZShuZXh0LnZhbHVlLnByb21pc2UpLnRoZW4oKHZhbHVlKSA9PiB7CiAgICAvLyBDYWNoZSB0aGUgbGFzdCBwcm9taXNlIHZhbHVlIHRvIG1ha2UgaXQgYXZhaWxhYmxlIHRvIHRoZSBuZXh0CiAgICAvLyBzdGVwIG9mIHRoZSBnZW5lcmF0b3IuCiAgICBvdXRwdXRFbGVtZW50Lmxhc3RQcm9taXNlVmFsdWUgPSB2YWx1ZTsKICAgIHJldHVybiBuZXh0LnZhbHVlLnJlc3BvbnNlOwogIH0pOwp9CgovKioKICogR2VuZXJhdG9yIGZ1bmN0aW9uIHdoaWNoIGlzIGNhbGxlZCBiZXR3ZWVuIGVhY2ggYXN5bmMgc3RlcCBvZiB0aGUgdXBsb2FkCiAqIHByb2Nlc3MuCiAqIEBwYXJhbSB7c3RyaW5nfSBpbnB1dElkIEVsZW1lbnQgSUQgb2YgdGhlIGlucHV0IGZpbGUgcGlja2VyIGVsZW1lbnQuCiAqIEBwYXJhbSB7c3RyaW5nfSBvdXRwdXRJZCBFbGVtZW50IElEIG9mIHRoZSBvdXRwdXQgZGlzcGxheS4KICogQHJldHVybiB7IUl0ZXJhYmxlPCFPYmplY3Q+fSBJdGVyYWJsZSBvZiBuZXh0IHN0ZXBzLgogKi8KZnVuY3Rpb24qIHVwbG9hZEZpbGVzU3RlcChpbnB1dElkLCBvdXRwdXRJZCkgewogIGNvbnN0IGlucHV0RWxlbWVudCA9IGRvY3VtZW50LmdldEVsZW1lbnRCeUlkKGlucHV0SWQpOwogIGlucHV0RWxlbWVudC5kaXNhYmxlZCA9IGZhbHNlOwoKICBjb25zdCBvdXRwdXRFbGVtZW50ID0gZG9jdW1lbnQuZ2V0RWxlbWVudEJ5SWQob3V0cHV0SWQpOwogIG91dHB1dEVsZW1lbnQuaW5uZXJIVE1MID0gJyc7CgogIGNvbnN0IHBpY2tlZFByb21pc2UgPSBuZXcgUHJvbWlzZSgocmVzb2x2ZSkgPT4gewogICAgaW5wdXRFbGVtZW50LmFkZEV2ZW50TGlzdGVuZXIoJ2NoYW5nZScsIChlKSA9PiB7CiAgICAgIHJlc29sdmUoZS50YXJnZXQuZmlsZXMpOwogICAgfSk7CiAgfSk7CgogIGNvbnN0IGNhbmNlbCA9IGRvY3VtZW50LmNyZWF0ZUVsZW1lbnQoJ2J1dHRvbicpOwogIGlucHV0RWxlbWVudC5wYXJlbnRFbGVtZW50LmFwcGVuZENoaWxkKGNhbmNlbCk7CiAgY2FuY2VsLnRleHRDb250ZW50ID0gJ0NhbmNlbCB1cGxvYWQnOwogIGNvbnN0IGNhbmNlbFByb21pc2UgPSBuZXcgUHJvbWlzZSgocmVzb2x2ZSkgPT4gewogICAgY2FuY2VsLm9uY2xpY2sgPSAoKSA9PiB7CiAgICAgIHJlc29sdmUobnVsbCk7CiAgICB9OwogIH0pOwoKICAvLyBXYWl0IGZvciB0aGUgdXNlciB0byBwaWNrIHRoZSBmaWxlcy4KICBjb25zdCBmaWxlcyA9IHlpZWxkIHsKICAgIHByb21pc2U6IFByb21pc2UucmFjZShbcGlja2VkUHJvbWlzZSwgY2FuY2VsUHJvbWlzZV0pLAogICAgcmVzcG9uc2U6IHsKICAgICAgYWN0aW9uOiAnc3RhcnRpbmcnLAogICAgfQogIH07CgogIGNhbmNlbC5yZW1vdmUoKTsKCiAgLy8gRGlzYWJsZSB0aGUgaW5wdXQgZWxlbWVudCBzaW5jZSBmdXJ0aGVyIHBpY2tzIGFyZSBub3QgYWxsb3dlZC4KICBpbnB1dEVsZW1lbnQuZGlzYWJsZWQgPSB0cnVlOwoKICBpZiAoIWZpbGVzKSB7CiAgICByZXR1cm4gewogICAgICByZXNwb25zZTogewogICAgICAgIGFjdGlvbjogJ2NvbXBsZXRlJywKICAgICAgfQogICAgfTsKICB9CgogIGZvciAoY29uc3QgZmlsZSBvZiBmaWxlcykgewogICAgY29uc3QgbGkgPSBkb2N1bWVudC5jcmVhdGVFbGVtZW50KCdsaScpOwogICAgbGkuYXBwZW5kKHNwYW4oZmlsZS5uYW1lLCB7Zm9udFdlaWdodDogJ2JvbGQnfSkpOwogICAgbGkuYXBwZW5kKHNwYW4oCiAgICAgICAgYCgke2ZpbGUudHlwZSB8fCAnbi9hJ30pIC0gJHtmaWxlLnNpemV9IGJ5dGVzLCBgICsKICAgICAgICBgbGFzdCBtb2RpZmllZDogJHsKICAgICAgICAgICAgZmlsZS5sYXN0TW9kaWZpZWREYXRlID8gZmlsZS5sYXN0TW9kaWZpZWREYXRlLnRvTG9jYWxlRGF0ZVN0cmluZygpIDoKICAgICAgICAgICAgICAgICAgICAgICAgICAgICAgICAgICAgJ24vYSd9IC0gYCkpOwogICAgY29uc3QgcGVyY2VudCA9IHNwYW4oJzAlIGRvbmUnKTsKICAgIGxpLmFwcGVuZENoaWxkKHBlcmNlbnQpOwoKICAgIG91dHB1dEVsZW1lbnQuYXBwZW5kQ2hpbGQobGkpOwoKICAgIGNvbnN0IGZpbGVEYXRhUHJvbWlzZSA9IG5ldyBQcm9taXNlKChyZXNvbHZlKSA9PiB7CiAgICAgIGNvbnN0IHJlYWRlciA9IG5ldyBGaWxlUmVhZGVyKCk7CiAgICAgIHJlYWRlci5vbmxvYWQgPSAoZSkgPT4gewogICAgICAgIHJlc29sdmUoZS50YXJnZXQucmVzdWx0KTsKICAgICAgfTsKICAgICAgcmVhZGVyLnJlYWRBc0FycmF5QnVmZmVyKGZpbGUpOwogICAgfSk7CiAgICAvLyBXYWl0IGZvciB0aGUgZGF0YSB0byBiZSByZWFkeS4KICAgIGxldCBmaWxlRGF0YSA9IHlpZWxkIHsKICAgICAgcHJvbWlzZTogZmlsZURhdGFQcm9taXNlLAogICAgICByZXNwb25zZTogewogICAgICAgIGFjdGlvbjogJ2NvbnRpbnVlJywKICAgICAgfQogICAgfTsKCiAgICAvLyBVc2UgYSBjaHVua2VkIHNlbmRpbmcgdG8gYXZvaWQgbWVzc2FnZSBzaXplIGxpbWl0cy4gU2VlIGIvNjIxMTU2NjAuCiAgICBsZXQgcG9zaXRpb24gPSAwOwogICAgZG8gewogICAgICBjb25zdCBsZW5ndGggPSBNYXRoLm1pbihmaWxlRGF0YS5ieXRlTGVuZ3RoIC0gcG9zaXRpb24sIE1BWF9QQVlMT0FEX1NJWkUpOwogICAgICBjb25zdCBjaHVuayA9IG5ldyBVaW50OEFycmF5KGZpbGVEYXRhLCBwb3NpdGlvbiwgbGVuZ3RoKTsKICAgICAgcG9zaXRpb24gKz0gbGVuZ3RoOwoKICAgICAgY29uc3QgYmFzZTY0ID0gYnRvYShTdHJpbmcuZnJvbUNoYXJDb2RlLmFwcGx5KG51bGwsIGNodW5rKSk7CiAgICAgIHlpZWxkIHsKICAgICAgICByZXNwb25zZTogewogICAgICAgICAgYWN0aW9uOiAnYXBwZW5kJywKICAgICAgICAgIGZpbGU6IGZpbGUubmFtZSwKICAgICAgICAgIGRhdGE6IGJhc2U2NCwKICAgICAgICB9LAogICAgICB9OwoKICAgICAgbGV0IHBlcmNlbnREb25lID0gZmlsZURhdGEuYnl0ZUxlbmd0aCA9PT0gMCA/CiAgICAgICAgICAxMDAgOgogICAgICAgICAgTWF0aC5yb3VuZCgocG9zaXRpb24gLyBmaWxlRGF0YS5ieXRlTGVuZ3RoKSAqIDEwMCk7CiAgICAgIHBlcmNlbnQudGV4dENvbnRlbnQgPSBgJHtwZXJjZW50RG9uZX0lIGRvbmVgOwoKICAgIH0gd2hpbGUgKHBvc2l0aW9uIDwgZmlsZURhdGEuYnl0ZUxlbmd0aCk7CiAgfQoKICAvLyBBbGwgZG9uZS4KICB5aWVsZCB7CiAgICByZXNwb25zZTogewogICAgICBhY3Rpb246ICdjb21wbGV0ZScsCiAgICB9CiAgfTsKfQoKc2NvcGUuZ29vZ2xlID0gc2NvcGUuZ29vZ2xlIHx8IHt9OwpzY29wZS5nb29nbGUuY29sYWIgPSBzY29wZS5nb29nbGUuY29sYWIgfHwge307CnNjb3BlLmdvb2dsZS5jb2xhYi5fZmlsZXMgPSB7CiAgX3VwbG9hZEZpbGVzLAogIF91cGxvYWRGaWxlc0NvbnRpbnVlLAp9Owp9KShzZWxmKTsK",
       "headers": [
        [
         "content-type",
         "application/javascript"
        ]
       ],
       "ok": true,
       "status": 200,
       "status_text": ""
      }
     }
    },
    "id": "cbxmtkAqymn9",
    "outputId": "adc0c3b7-0e76-4c1b-c2f8-918d113e2007"
   },
   "source": [
    "Carregando dataset"
   ]
  },
  {
   "cell_type": "code",
   "execution_count": 77,
   "metadata": {
    "colab": {
     "base_uri": "https://localhost:8080/",
     "height": 204
    },
    "id": "isB9VtHSypEU",
    "outputId": "5b0b8219-c328-4f37-aa62-d259a7452710"
   },
   "outputs": [
    {
     "data": {
      "text/html": [
       "<div>\n",
       "<style scoped>\n",
       "    .dataframe tbody tr th:only-of-type {\n",
       "        vertical-align: middle;\n",
       "    }\n",
       "\n",
       "    .dataframe tbody tr th {\n",
       "        vertical-align: top;\n",
       "    }\n",
       "\n",
       "    .dataframe thead th {\n",
       "        text-align: right;\n",
       "    }\n",
       "</style>\n",
       "<table border=\"1\" class=\"dataframe\">\n",
       "  <thead>\n",
       "    <tr style=\"text-align: right;\">\n",
       "      <th></th>\n",
       "      <th>Date</th>\n",
       "      <th>Symbol</th>\n",
       "      <th>Open</th>\n",
       "      <th>High</th>\n",
       "      <th>Low</th>\n",
       "      <th>Close</th>\n",
       "      <th>Volume From</th>\n",
       "      <th>Volume To</th>\n",
       "    </tr>\n",
       "  </thead>\n",
       "  <tbody>\n",
       "    <tr>\n",
       "      <th>0</th>\n",
       "      <td>5/26/2018</td>\n",
       "      <td>BTCUSD</td>\n",
       "      <td>7459.11</td>\n",
       "      <td>7640.46</td>\n",
       "      <td>7380.00</td>\n",
       "      <td>7520.00</td>\n",
       "      <td>2722.80</td>\n",
       "      <td>2.042265e+07</td>\n",
       "    </tr>\n",
       "    <tr>\n",
       "      <th>1</th>\n",
       "      <td>5/25/2018</td>\n",
       "      <td>BTCUSD</td>\n",
       "      <td>7584.15</td>\n",
       "      <td>7661.85</td>\n",
       "      <td>7326.94</td>\n",
       "      <td>7459.11</td>\n",
       "      <td>8491.93</td>\n",
       "      <td>6.342069e+07</td>\n",
       "    </tr>\n",
       "    <tr>\n",
       "      <th>2</th>\n",
       "      <td>5/24/2018</td>\n",
       "      <td>BTCUSD</td>\n",
       "      <td>7505.00</td>\n",
       "      <td>7734.99</td>\n",
       "      <td>7269.00</td>\n",
       "      <td>7584.15</td>\n",
       "      <td>11033.72</td>\n",
       "      <td>8.293137e+07</td>\n",
       "    </tr>\n",
       "    <tr>\n",
       "      <th>3</th>\n",
       "      <td>5/23/2018</td>\n",
       "      <td>BTCUSD</td>\n",
       "      <td>7987.70</td>\n",
       "      <td>8030.00</td>\n",
       "      <td>7433.19</td>\n",
       "      <td>7505.00</td>\n",
       "      <td>14905.99</td>\n",
       "      <td>1.148104e+08</td>\n",
       "    </tr>\n",
       "    <tr>\n",
       "      <th>4</th>\n",
       "      <td>5/22/2018</td>\n",
       "      <td>BTCUSD</td>\n",
       "      <td>8393.44</td>\n",
       "      <td>8400.00</td>\n",
       "      <td>7950.00</td>\n",
       "      <td>7987.70</td>\n",
       "      <td>6589.43</td>\n",
       "      <td>5.389753e+07</td>\n",
       "    </tr>\n",
       "  </tbody>\n",
       "</table>\n",
       "</div>"
      ],
      "text/plain": [
       "        Date  Symbol     Open     High      Low    Close  Volume From  \\\n",
       "0  5/26/2018  BTCUSD  7459.11  7640.46  7380.00  7520.00      2722.80   \n",
       "1  5/25/2018  BTCUSD  7584.15  7661.85  7326.94  7459.11      8491.93   \n",
       "2  5/24/2018  BTCUSD  7505.00  7734.99  7269.00  7584.15     11033.72   \n",
       "3  5/23/2018  BTCUSD  7987.70  8030.00  7433.19  7505.00     14905.99   \n",
       "4  5/22/2018  BTCUSD  8393.44  8400.00  7950.00  7987.70      6589.43   \n",
       "\n",
       "      Volume To  \n",
       "0  2.042265e+07  \n",
       "1  6.342069e+07  \n",
       "2  8.293137e+07  \n",
       "3  1.148104e+08  \n",
       "4  5.389753e+07  "
      ]
     },
     "execution_count": 77,
     "metadata": {},
     "output_type": "execute_result"
    }
   ],
   "source": [
    "file = 'btc.csv'\n",
    "btc = pd.read_csv(file)\n",
    "btc.head()"
   ]
  },
  {
   "cell_type": "markdown",
   "metadata": {},
   "source": [
    "Removendo colunas que não devem ser utilizadas no treinamento"
   ]
  },
  {
   "cell_type": "code",
   "execution_count": 78,
   "metadata": {
    "id": "PjjXllQR_pje"
   },
   "outputs": [],
   "source": [
    "btc = btc.drop(['Date', 'Symbol'], axis=1)"
   ]
  },
  {
   "cell_type": "markdown",
   "metadata": {},
   "source": [
    "Separando entrada e saída"
   ]
  },
  {
   "cell_type": "code",
   "execution_count": 79,
   "metadata": {
    "id": "MkKzlyIG5ryt"
   },
   "outputs": [],
   "source": [
    "features = btc['Close']\n",
    "outcome = btc.drop(['Close'], axis=1)"
   ]
  },
  {
   "cell_type": "code",
   "execution_count": 80,
   "metadata": {
    "colab": {
     "base_uri": "https://localhost:8080/",
     "height": 419
    },
    "id": "NEwnNxiNAqt0",
    "outputId": "6b9827de-8468-4b98-b624-347f41a73933"
   },
   "outputs": [
    {
     "data": {
      "text/html": [
       "<div>\n",
       "<style scoped>\n",
       "    .dataframe tbody tr th:only-of-type {\n",
       "        vertical-align: middle;\n",
       "    }\n",
       "\n",
       "    .dataframe tbody tr th {\n",
       "        vertical-align: top;\n",
       "    }\n",
       "\n",
       "    .dataframe thead th {\n",
       "        text-align: right;\n",
       "    }\n",
       "</style>\n",
       "<table border=\"1\" class=\"dataframe\">\n",
       "  <thead>\n",
       "    <tr style=\"text-align: right;\">\n",
       "      <th></th>\n",
       "      <th>Open</th>\n",
       "      <th>High</th>\n",
       "      <th>Low</th>\n",
       "      <th>Volume From</th>\n",
       "      <th>Volume To</th>\n",
       "    </tr>\n",
       "  </thead>\n",
       "  <tbody>\n",
       "    <tr>\n",
       "      <th>0</th>\n",
       "      <td>7459.11</td>\n",
       "      <td>7640.46</td>\n",
       "      <td>7380.00</td>\n",
       "      <td>2722.80000</td>\n",
       "      <td>2.042265e+07</td>\n",
       "    </tr>\n",
       "    <tr>\n",
       "      <th>1</th>\n",
       "      <td>7584.15</td>\n",
       "      <td>7661.85</td>\n",
       "      <td>7326.94</td>\n",
       "      <td>8491.93000</td>\n",
       "      <td>6.342069e+07</td>\n",
       "    </tr>\n",
       "    <tr>\n",
       "      <th>2</th>\n",
       "      <td>7505.00</td>\n",
       "      <td>7734.99</td>\n",
       "      <td>7269.00</td>\n",
       "      <td>11033.72000</td>\n",
       "      <td>8.293137e+07</td>\n",
       "    </tr>\n",
       "    <tr>\n",
       "      <th>3</th>\n",
       "      <td>7987.70</td>\n",
       "      <td>8030.00</td>\n",
       "      <td>7433.19</td>\n",
       "      <td>14905.99000</td>\n",
       "      <td>1.148104e+08</td>\n",
       "    </tr>\n",
       "    <tr>\n",
       "      <th>4</th>\n",
       "      <td>8393.44</td>\n",
       "      <td>8400.00</td>\n",
       "      <td>7950.00</td>\n",
       "      <td>6589.43000</td>\n",
       "      <td>5.389753e+07</td>\n",
       "    </tr>\n",
       "    <tr>\n",
       "      <th>...</th>\n",
       "      <td>...</td>\n",
       "      <td>...</td>\n",
       "      <td>...</td>\n",
       "      <td>...</td>\n",
       "      <td>...</td>\n",
       "    </tr>\n",
       "    <tr>\n",
       "      <th>1268</th>\n",
       "      <td>377.10</td>\n",
       "      <td>377.10</td>\n",
       "      <td>377.10</td>\n",
       "      <td>0.00000</td>\n",
       "      <td>0.000000e+00</td>\n",
       "    </tr>\n",
       "    <tr>\n",
       "      <th>1269</th>\n",
       "      <td>378.00</td>\n",
       "      <td>378.00</td>\n",
       "      <td>377.10</td>\n",
       "      <td>0.01000</td>\n",
       "      <td>3.770000e+00</td>\n",
       "    </tr>\n",
       "    <tr>\n",
       "      <th>1270</th>\n",
       "      <td>378.00</td>\n",
       "      <td>378.00</td>\n",
       "      <td>377.01</td>\n",
       "      <td>0.54660</td>\n",
       "      <td>2.065200e+02</td>\n",
       "    </tr>\n",
       "    <tr>\n",
       "      <th>1271</th>\n",
       "      <td>370.00</td>\n",
       "      <td>378.00</td>\n",
       "      <td>370.00</td>\n",
       "      <td>15.01000</td>\n",
       "      <td>5.675070e+03</td>\n",
       "    </tr>\n",
       "    <tr>\n",
       "      <th>1272</th>\n",
       "      <td>300.00</td>\n",
       "      <td>370.00</td>\n",
       "      <td>300.00</td>\n",
       "      <td>0.05656</td>\n",
       "      <td>1.953000e+01</td>\n",
       "    </tr>\n",
       "  </tbody>\n",
       "</table>\n",
       "<p>1273 rows × 5 columns</p>\n",
       "</div>"
      ],
      "text/plain": [
       "         Open     High      Low  Volume From     Volume To\n",
       "0     7459.11  7640.46  7380.00   2722.80000  2.042265e+07\n",
       "1     7584.15  7661.85  7326.94   8491.93000  6.342069e+07\n",
       "2     7505.00  7734.99  7269.00  11033.72000  8.293137e+07\n",
       "3     7987.70  8030.00  7433.19  14905.99000  1.148104e+08\n",
       "4     8393.44  8400.00  7950.00   6589.43000  5.389753e+07\n",
       "...       ...      ...      ...          ...           ...\n",
       "1268   377.10   377.10   377.10      0.00000  0.000000e+00\n",
       "1269   378.00   378.00   377.10      0.01000  3.770000e+00\n",
       "1270   378.00   378.00   377.01      0.54660  2.065200e+02\n",
       "1271   370.00   378.00   370.00     15.01000  5.675070e+03\n",
       "1272   300.00   370.00   300.00      0.05656  1.953000e+01\n",
       "\n",
       "[1273 rows x 5 columns]"
      ]
     },
     "execution_count": 80,
     "metadata": {},
     "output_type": "execute_result"
    }
   ],
   "source": [
    "outcome"
   ]
  },
  {
   "cell_type": "markdown",
   "metadata": {},
   "source": [
    "Invertendo dados"
   ]
  },
  {
   "cell_type": "code",
   "execution_count": 81,
   "metadata": {
    "colab": {
     "base_uri": "https://localhost:8080/",
     "height": 419
    },
    "id": "D0liJKJO6hkl",
    "outputId": "c0631f2b-0016-4502-ce2d-c3c8040fb2e1"
   },
   "outputs": [
    {
     "data": {
      "text/html": [
       "<div>\n",
       "<style scoped>\n",
       "    .dataframe tbody tr th:only-of-type {\n",
       "        vertical-align: middle;\n",
       "    }\n",
       "\n",
       "    .dataframe tbody tr th {\n",
       "        vertical-align: top;\n",
       "    }\n",
       "\n",
       "    .dataframe thead th {\n",
       "        text-align: right;\n",
       "    }\n",
       "</style>\n",
       "<table border=\"1\" class=\"dataframe\">\n",
       "  <thead>\n",
       "    <tr style=\"text-align: right;\">\n",
       "      <th></th>\n",
       "      <th>0</th>\n",
       "    </tr>\n",
       "  </thead>\n",
       "  <tbody>\n",
       "    <tr>\n",
       "      <th>0</th>\n",
       "      <td>370.00</td>\n",
       "    </tr>\n",
       "    <tr>\n",
       "      <th>1</th>\n",
       "      <td>378.00</td>\n",
       "    </tr>\n",
       "    <tr>\n",
       "      <th>2</th>\n",
       "      <td>378.00</td>\n",
       "    </tr>\n",
       "    <tr>\n",
       "      <th>3</th>\n",
       "      <td>377.10</td>\n",
       "    </tr>\n",
       "    <tr>\n",
       "      <th>4</th>\n",
       "      <td>377.10</td>\n",
       "    </tr>\n",
       "    <tr>\n",
       "      <th>...</th>\n",
       "      <td>...</td>\n",
       "    </tr>\n",
       "    <tr>\n",
       "      <th>1268</th>\n",
       "      <td>7987.70</td>\n",
       "    </tr>\n",
       "    <tr>\n",
       "      <th>1269</th>\n",
       "      <td>7505.00</td>\n",
       "    </tr>\n",
       "    <tr>\n",
       "      <th>1270</th>\n",
       "      <td>7584.15</td>\n",
       "    </tr>\n",
       "    <tr>\n",
       "      <th>1271</th>\n",
       "      <td>7459.11</td>\n",
       "    </tr>\n",
       "    <tr>\n",
       "      <th>1272</th>\n",
       "      <td>7520.00</td>\n",
       "    </tr>\n",
       "  </tbody>\n",
       "</table>\n",
       "<p>1273 rows × 1 columns</p>\n",
       "</div>"
      ],
      "text/plain": [
       "            0\n",
       "0      370.00\n",
       "1      378.00\n",
       "2      378.00\n",
       "3      377.10\n",
       "4      377.10\n",
       "...       ...\n",
       "1268  7987.70\n",
       "1269  7505.00\n",
       "1270  7584.15\n",
       "1271  7459.11\n",
       "1272  7520.00\n",
       "\n",
       "[1273 rows x 1 columns]"
      ]
     },
     "execution_count": 81,
     "metadata": {},
     "output_type": "execute_result"
    }
   ],
   "source": [
    "features = pd.DataFrame(features)\n",
    "features_flipped = features[\"Close\"].values[::-1]\n",
    "features_flipped = pd.DataFrame(features_flipped)\n",
    "features_flipped"
   ]
  },
  {
   "cell_type": "code",
   "execution_count": 82,
   "metadata": {
    "colab": {
     "base_uri": "https://localhost:8080/",
     "height": 419
    },
    "id": "Rf5pG-TT-BVt",
    "outputId": "b94de047-b9ba-45ae-af5d-905e99968623"
   },
   "outputs": [
    {
     "data": {
      "text/html": [
       "<div>\n",
       "<style scoped>\n",
       "    .dataframe tbody tr th:only-of-type {\n",
       "        vertical-align: middle;\n",
       "    }\n",
       "\n",
       "    .dataframe tbody tr th {\n",
       "        vertical-align: top;\n",
       "    }\n",
       "\n",
       "    .dataframe thead th {\n",
       "        text-align: right;\n",
       "    }\n",
       "</style>\n",
       "<table border=\"1\" class=\"dataframe\">\n",
       "  <thead>\n",
       "    <tr style=\"text-align: right;\">\n",
       "      <th></th>\n",
       "      <th>0</th>\n",
       "      <th>1</th>\n",
       "      <th>2</th>\n",
       "      <th>3</th>\n",
       "      <th>4</th>\n",
       "    </tr>\n",
       "  </thead>\n",
       "  <tbody>\n",
       "    <tr>\n",
       "      <th>0</th>\n",
       "      <td>300.00</td>\n",
       "      <td>370.00</td>\n",
       "      <td>300.00</td>\n",
       "      <td>0.05656</td>\n",
       "      <td>1.953000e+01</td>\n",
       "    </tr>\n",
       "    <tr>\n",
       "      <th>1</th>\n",
       "      <td>370.00</td>\n",
       "      <td>378.00</td>\n",
       "      <td>370.00</td>\n",
       "      <td>15.01000</td>\n",
       "      <td>5.675070e+03</td>\n",
       "    </tr>\n",
       "    <tr>\n",
       "      <th>2</th>\n",
       "      <td>378.00</td>\n",
       "      <td>378.00</td>\n",
       "      <td>377.01</td>\n",
       "      <td>0.54660</td>\n",
       "      <td>2.065200e+02</td>\n",
       "    </tr>\n",
       "    <tr>\n",
       "      <th>3</th>\n",
       "      <td>378.00</td>\n",
       "      <td>378.00</td>\n",
       "      <td>377.10</td>\n",
       "      <td>0.01000</td>\n",
       "      <td>3.770000e+00</td>\n",
       "    </tr>\n",
       "    <tr>\n",
       "      <th>4</th>\n",
       "      <td>377.10</td>\n",
       "      <td>377.10</td>\n",
       "      <td>377.10</td>\n",
       "      <td>0.00000</td>\n",
       "      <td>0.000000e+00</td>\n",
       "    </tr>\n",
       "    <tr>\n",
       "      <th>...</th>\n",
       "      <td>...</td>\n",
       "      <td>...</td>\n",
       "      <td>...</td>\n",
       "      <td>...</td>\n",
       "      <td>...</td>\n",
       "    </tr>\n",
       "    <tr>\n",
       "      <th>1268</th>\n",
       "      <td>8393.44</td>\n",
       "      <td>8400.00</td>\n",
       "      <td>7950.00</td>\n",
       "      <td>6589.43000</td>\n",
       "      <td>5.389753e+07</td>\n",
       "    </tr>\n",
       "    <tr>\n",
       "      <th>1269</th>\n",
       "      <td>7987.70</td>\n",
       "      <td>8030.00</td>\n",
       "      <td>7433.19</td>\n",
       "      <td>14905.99000</td>\n",
       "      <td>1.148104e+08</td>\n",
       "    </tr>\n",
       "    <tr>\n",
       "      <th>1270</th>\n",
       "      <td>7505.00</td>\n",
       "      <td>7734.99</td>\n",
       "      <td>7269.00</td>\n",
       "      <td>11033.72000</td>\n",
       "      <td>8.293137e+07</td>\n",
       "    </tr>\n",
       "    <tr>\n",
       "      <th>1271</th>\n",
       "      <td>7584.15</td>\n",
       "      <td>7661.85</td>\n",
       "      <td>7326.94</td>\n",
       "      <td>8491.93000</td>\n",
       "      <td>6.342069e+07</td>\n",
       "    </tr>\n",
       "    <tr>\n",
       "      <th>1272</th>\n",
       "      <td>7459.11</td>\n",
       "      <td>7640.46</td>\n",
       "      <td>7380.00</td>\n",
       "      <td>2722.80000</td>\n",
       "      <td>2.042265e+07</td>\n",
       "    </tr>\n",
       "  </tbody>\n",
       "</table>\n",
       "<p>1273 rows × 5 columns</p>\n",
       "</div>"
      ],
      "text/plain": [
       "            0        1        2            3             4\n",
       "0      300.00   370.00   300.00      0.05656  1.953000e+01\n",
       "1      370.00   378.00   370.00     15.01000  5.675070e+03\n",
       "2      378.00   378.00   377.01      0.54660  2.065200e+02\n",
       "3      378.00   378.00   377.10      0.01000  3.770000e+00\n",
       "4      377.10   377.10   377.10      0.00000  0.000000e+00\n",
       "...       ...      ...      ...          ...           ...\n",
       "1268  8393.44  8400.00  7950.00   6589.43000  5.389753e+07\n",
       "1269  7987.70  8030.00  7433.19  14905.99000  1.148104e+08\n",
       "1270  7505.00  7734.99  7269.00  11033.72000  8.293137e+07\n",
       "1271  7584.15  7661.85  7326.94   8491.93000  6.342069e+07\n",
       "1272  7459.11  7640.46  7380.00   2722.80000  2.042265e+07\n",
       "\n",
       "[1273 rows x 5 columns]"
      ]
     },
     "execution_count": 82,
     "metadata": {},
     "output_type": "execute_result"
    }
   ],
   "source": [
    "outcome_flipped = outcome.values[::-1]\n",
    "outcome_flipped = pd.DataFrame(outcome_flipped)\n",
    "outcome_flipped"
   ]
  },
  {
   "cell_type": "markdown",
   "metadata": {},
   "source": [
    "Grafico do dataset completo"
   ]
  },
  {
   "cell_type": "code",
   "execution_count": 83,
   "metadata": {
    "colab": {
     "base_uri": "https://localhost:8080/",
     "height": 458
    },
    "id": "pYzQVlxD6Sn9",
    "outputId": "58d20e15-5e93-4769-b7e1-bd3a9a0ea9ec",
    "scrolled": true
   },
   "outputs": [
    {
     "data": {
      "image/png": "[encoded data removed]",
      "text/plain": [
       "<Figure size 864x504 with 1 Axes>"
      ]
     },
     "metadata": {},
     "output_type": "display_data"
    }
   ],
   "source": [
    "plt.figure(figsize=(12,7), frameon=False, facecolor='brown', edgecolor='blue')\n",
    "plt.title('Bitcoin prices from December 2014 to May 2018')\n",
    "plt.xlabel('Days')\n",
    "plt.ylabel('Scaled price of Bitcoin')\n",
    "plt.plot(features_flipped, label='Price')\n",
    "plt.legend()\n",
    "plt.show()"
   ]
  },
  {
   "cell_type": "markdown",
   "metadata": {},
   "source": [
    "Separando partes do dataset"
   ]
  },
  {
   "cell_type": "code",
   "execution_count": 84,
   "metadata": {
    "id": "-dagwh9o-8ac"
   },
   "outputs": [],
   "source": [
    "close_price = np.array(features_flipped).reshape(-1,1)"
   ]
  },
  {
   "cell_type": "markdown",
   "metadata": {},
   "source": [
    "Testando com o StantardScaler"
   ]
  },
  {
   "cell_type": "code",
   "execution_count": 10,
   "metadata": {
    "id": "2wdlTOr3_LEd"
   },
   "outputs": [],
   "source": [
    "standard_scalar = StandardScaler()\n",
    "\n",
    "close_priceSC = standard_scalar.fit_transform(np.array(close_price).reshape(-1,1))"
   ]
  },
  {
   "cell_type": "code",
   "execution_count": 11,
   "metadata": {
    "colab": {
     "base_uri": "https://localhost:8080/",
     "height": 419
    },
    "id": "Hqrc0_-JBE1G",
    "outputId": "56747e21-ca3a-4fe7-edfb-d96cd5670acd",
    "scrolled": true
   },
   "outputs": [
    {
     "name": "stdout",
     "output_type": "stream",
     "text": [
      "(1265, 8) (1265,)\n"
     ]
    }
   ],
   "source": [
    "stepsize = 8\n",
    "\n",
    "X = []\n",
    "y = []\n",
    "for i in range(stepsize, len(close_priceSC)):\n",
    "    X.append(close_priceSC[i-stepsize:i, 0])\n",
    "    y.append(close_priceSC[i,0])\n",
    "X, y = np.array(X), np.array(y)\n",
    "print(X.shape, y.shape)"
   ]
  },
  {
   "cell_type": "code",
   "execution_count": 12,
   "metadata": {},
   "outputs": [],
   "source": [
    "X_train = X[:1018 ,:]\n",
    "X_test = X[1018 :,:]\n",
    "\n",
    "y_train = y[:1018 ]\n",
    "y_test = y[1018 :]"
   ]
  },
  {
   "cell_type": "code",
   "execution_count": 13,
   "metadata": {},
   "outputs": [
    {
     "name": "stdout",
     "output_type": "stream",
     "text": [
      "X_train size: (1018, 8)\n",
      "y_train size: (1018,)\n",
      "X_test size: (247, 8)\n",
      "y_test size: (247,)\n"
     ]
    }
   ],
   "source": [
    "print(\"X_train size: {}\".format(X_train.shape))\n",
    "print(\"y_train size: {}\".format(y_train.shape))\n",
    "print(\"X_test size: {}\".format(X_test.shape))\n",
    "print(\"y_test size: {}\".format(y_test.shape))"
   ]
  },
  {
   "cell_type": "code",
   "execution_count": 14,
   "metadata": {
    "scrolled": true
   },
   "outputs": [
    {
     "name": "stdout",
     "output_type": "stream",
     "text": [
      "X_train size: (1018, 8, 1)\n",
      "y_train size: (1018,)\n",
      "X_test size: (247, 8, 1)\n",
      "y_test size: (247,)\n"
     ]
    }
   ],
   "source": [
    "X_train = X_train.reshape(-1,stepsize,1)\n",
    "X_test = X_test.reshape(-1,stepsize,1)\n",
    "\n",
    "print(\"X_train size: {}\".format(X_train.shape))\n",
    "print(\"y_train size: {}\".format(y_train.shape))\n",
    "print(\"X_test size: {}\".format(X_test.shape))\n",
    "print(\"y_test size: {}\".format(y_test.shape))"
   ]
  },
  {
   "cell_type": "code",
   "execution_count": 15,
   "metadata": {},
   "outputs": [],
   "source": [
    "model=Sequential()\n",
    "model.add(LSTM(50, activation='relu', return_sequences=True,input_shape=(X_train.shape[1],1)))\n",
    "model.add(LSTM(50,return_sequences=True))\n",
    "model.add(LSTM(50))\n",
    "model.add(Dense(1))\n",
    "model.compile(loss='mean_squared_error',optimizer='adam')"
   ]
  },
  {
   "cell_type": "code",
   "execution_count": 16,
   "metadata": {},
   "outputs": [
    {
     "name": "stdout",
     "output_type": "stream",
     "text": [
      "Epoch 1/100\n",
      "32/32 [==============================] - 31s 10ms/step - loss: 0.1216\n",
      "Epoch 2/100\n",
      "32/32 [==============================] - 0s 15ms/step - loss: 0.0048\n",
      "Epoch 3/100\n",
      "32/32 [==============================] - 0s 10ms/step - loss: 0.0012\n",
      "Epoch 4/100\n",
      "32/32 [==============================] - 0s 11ms/step - loss: 0.0011\n",
      "Epoch 5/100\n",
      "32/32 [==============================] - 0s 11ms/step - loss: 0.0012\n",
      "Epoch 6/100\n",
      "32/32 [==============================] - 0s 10ms/step - loss: 9.9704e-04\n",
      "Epoch 7/100\n",
      "32/32 [==============================] - 0s 9ms/step - loss: 0.0011\n",
      "Epoch 8/100\n",
      "32/32 [==============================] - 0s 11ms/step - loss: 0.0013\n",
      "Epoch 9/100\n",
      "32/32 [==============================] - 0s 11ms/step - loss: 9.5854e-04\n",
      "Epoch 10/100\n",
      "32/32 [==============================] - ETA: 0s - loss: 9.6839e-0 - 0s 10ms/step - loss: 9.7938e-04\n",
      "Epoch 11/100\n",
      "32/32 [==============================] - 0s 9ms/step - loss: 9.9514e-04s - loss: 0\n",
      "Epoch 12/100\n",
      "32/32 [==============================] - 0s 9ms/step - loss: 8.9693e-04A: 0s - loss: 8.7665e-\n",
      "Epoch 13/100\n",
      "32/32 [==============================] - 0s 13ms/step - loss: 0.0013\n",
      "Epoch 14/100\n",
      "32/32 [==============================] - 0s 12ms/step - loss: 0.0010\n",
      "Epoch 15/100\n",
      "32/32 [==============================] - 1s 18ms/step - loss: 9.5546e-04\n",
      "Epoch 16/100\n",
      "32/32 [==============================] - 0s 13ms/step - loss: 7.3896e-04\n",
      "Epoch 17/100\n",
      "32/32 [==============================] - 0s 10ms/step - loss: 6.8628e-04\n",
      "Epoch 18/100\n",
      "32/32 [==============================] - 0s 10ms/step - loss: 0.0010\n",
      "Epoch 19/100\n",
      "32/32 [==============================] - 0s 10ms/step - loss: 0.0010\n",
      "Epoch 20/100\n",
      "32/32 [==============================] - 0s 10ms/step - loss: 9.0339e-04\n",
      "Epoch 21/100\n",
      "32/32 [==============================] - ETA: 0s - loss: 0.001 - 0s 10ms/step - loss: 0.0011\n",
      "Epoch 22/100\n",
      "32/32 [==============================] - 0s 10ms/step - loss: 9.2779e-04\n",
      "Epoch 23/100\n",
      "32/32 [==============================] - 0s 11ms/step - loss: 8.9831e-04\n",
      "Epoch 24/100\n",
      "32/32 [==============================] - 0s 10ms/step - loss: 0.0011\n",
      "Epoch 25/100\n",
      "32/32 [==============================] - 0s 10ms/step - loss: 9.8074e-04\n",
      "Epoch 26/100\n",
      "32/32 [==============================] - ETA: 0s - loss: 0.001 - 0s 10ms/step - loss: 0.0010\n",
      "Epoch 27/100\n",
      "32/32 [==============================] - 0s 10ms/step - loss: 8.8902e-04\n",
      "Epoch 28/100\n",
      "32/32 [==============================] - 0s 10ms/step - loss: 9.9984e-04\n",
      "Epoch 29/100\n",
      "32/32 [==============================] - 0s 10ms/step - loss: 9.4745e-04\n",
      "Epoch 30/100\n",
      "32/32 [==============================] - 0s 10ms/step - loss: 0.0011\n",
      "Epoch 31/100\n",
      "32/32 [==============================] - 0s 10ms/step - loss: 8.3654e-04\n",
      "Epoch 32/100\n",
      "32/32 [==============================] - 0s 12ms/step - loss: 0.0010\n",
      "Epoch 33/100\n",
      "32/32 [==============================] - 0s 10ms/step - loss: 0.0013\n",
      "Epoch 34/100\n",
      "32/32 [==============================] - 0s 10ms/step - loss: 9.4118e-04\n",
      "Epoch 35/100\n",
      "32/32 [==============================] - 0s 10ms/step - loss: 7.3061e-04\n",
      "Epoch 36/100\n",
      "32/32 [==============================] - 0s 10ms/step - loss: 7.7540e-04\n",
      "Epoch 37/100\n",
      "32/32 [==============================] - 0s 10ms/step - loss: 8.2270e-04\n",
      "Epoch 38/100\n",
      "32/32 [==============================] - 0s 9ms/step - loss: 9.5146e-04\n",
      "Epoch 39/100\n",
      "32/32 [==============================] - 0s 11ms/step - loss: 6.9477e-04: 0s - loss: 6.3238\n",
      "Epoch 40/100\n",
      "32/32 [==============================] - 0s 12ms/step - loss: 7.1769e-04\n",
      "Epoch 41/100\n",
      "32/32 [==============================] - 1s 17ms/step - loss: 5.7282e-04\n",
      "Epoch 42/100\n",
      "32/32 [==============================] - 0s 10ms/step - loss: 7.7713e-04\n",
      "Epoch 43/100\n",
      "32/32 [==============================] - 0s 16ms/step - loss: 7.0031e-04\n",
      "Epoch 44/100\n",
      "32/32 [==============================] - 0s 10ms/step - loss: 7.3927e-04\n",
      "Epoch 45/100\n",
      "32/32 [==============================] - 0s 10ms/step - loss: 7.6715e-04\n",
      "Epoch 46/100\n",
      "32/32 [==============================] - 0s 10ms/step - loss: 4.6699e-04\n",
      "Epoch 47/100\n",
      "32/32 [==============================] - 0s 10ms/step - loss: 6.2451e-04\n",
      "Epoch 48/100\n",
      "32/32 [==============================] - 0s 10ms/step - loss: 7.7318e-04: 0s - loss: 8.5457e\n",
      "Epoch 49/100\n",
      "32/32 [==============================] - 0s 11ms/step - loss: 5.8479e-04\n",
      "Epoch 50/100\n",
      "32/32 [==============================] - 0s 10ms/step - loss: 5.1758e-04\n",
      "Epoch 51/100\n",
      "32/32 [==============================] - 0s 9ms/step - loss: 6.1593e-04\n",
      "Epoch 52/100\n",
      "32/32 [==============================] - 0s 10ms/step - loss: 5.6379e-04\n",
      "Epoch 53/100\n",
      "32/32 [==============================] - 0s 10ms/step - loss: 5.5049e-04\n",
      "Epoch 54/100\n",
      "32/32 [==============================] - 0s 10ms/step - loss: 6.4182e-04\n",
      "Epoch 55/100\n",
      "32/32 [==============================] - 0s 9ms/step - loss: 4.3403e-04\n",
      "Epoch 56/100\n",
      "32/32 [==============================] - 0s 10ms/step - loss: 4.8364e-04\n",
      "Epoch 57/100\n",
      "32/32 [==============================] - 0s 9ms/step - loss: 5.2877e-04\n",
      "Epoch 58/100\n",
      "32/32 [==============================] - 0s 10ms/step - loss: 3.4545e-04: 0s - loss: 1.6198\n",
      "Epoch 59/100\n",
      "32/32 [==============================] - 0s 9ms/step - loss: 4.1002e-04\n",
      "Epoch 60/100\n",
      "32/32 [==============================] - 0s 10ms/step - loss: 5.5345e-04\n",
      "Epoch 61/100\n",
      "32/32 [==============================] - 0s 10ms/step - loss: 4.5517e-04\n",
      "Epoch 62/100\n",
      "32/32 [==============================] - 0s 10ms/step - loss: 6.4236e-04\n",
      "Epoch 63/100\n",
      "32/32 [==============================] - 0s 10ms/step - loss: 4.3125e-04\n",
      "Epoch 64/100\n",
      "32/32 [==============================] - 0s 10ms/step - loss: 4.1642e-04\n",
      "Epoch 65/100\n",
      "32/32 [==============================] - 0s 11ms/step - loss: 4.9086e-04\n",
      "Epoch 66/100\n",
      "32/32 [==============================] - 0s 10ms/step - loss: 3.8715e-04\n",
      "Epoch 67/100\n",
      "32/32 [==============================] - 0s 10ms/step - loss: 7.6012e-04\n",
      "Epoch 68/100\n",
      "32/32 [==============================] - 0s 11ms/step - loss: 5.3553e-04\n",
      "Epoch 69/100\n",
      "32/32 [==============================] - 0s 10ms/step - loss: 5.8267e-04\n",
      "Epoch 70/100\n",
      "32/32 [==============================] - 0s 10ms/step - loss: 3.1840e-04\n",
      "Epoch 71/100\n",
      "32/32 [==============================] - 0s 10ms/step - loss: 5.6119e-04\n",
      "Epoch 72/100\n",
      "32/32 [==============================] - ETA: 0s - loss: 4.8413e-0 - 0s 10ms/step - loss: 4.8247e-04\n",
      "Epoch 73/100\n",
      "32/32 [==============================] - 0s 11ms/step - loss: 3.8166e-04\n",
      "Epoch 74/100\n",
      "32/32 [==============================] - 0s 9ms/step - loss: 3.9593e-04\n",
      "Epoch 75/100\n",
      "32/32 [==============================] - 0s 9ms/step - loss: 5.8402e-04\n",
      "Epoch 76/100\n",
      "32/32 [==============================] - 0s 9ms/step - loss: 4.7426e-04\n",
      "Epoch 77/100\n",
      "32/32 [==============================] - 0s 9ms/step - loss: 4.1441e-04\n",
      "Epoch 78/100\n",
      "32/32 [==============================] - 0s 10ms/step - loss: 3.7707e-04\n",
      "Epoch 79/100\n",
      "32/32 [==============================] - 0s 12ms/step - loss: 3.7345e-04\n",
      "Epoch 80/100\n",
      "32/32 [==============================] - 0s 11ms/step - loss: 3.6627e-04\n",
      "Epoch 81/100\n",
      "32/32 [==============================] - 0s 10ms/step - loss: 4.0440e-04\n",
      "Epoch 82/100\n",
      "32/32 [==============================] - 0s 10ms/step - loss: 4.5392e-04\n",
      "Epoch 83/100\n",
      "32/32 [==============================] - 0s 10ms/step - loss: 3.2415e-04: 0s - loss: 2.8529e\n",
      "Epoch 84/100\n",
      "32/32 [==============================] - 0s 10ms/step - loss: 3.7475e-04\n",
      "Epoch 85/100\n",
      "32/32 [==============================] - 0s 10ms/step - loss: 3.1984e-04\n",
      "Epoch 86/100\n",
      "32/32 [==============================] - ETA: 0s - loss: 3.3739e-0 - 1s 16ms/step - loss: 3.4782e-04\n",
      "Epoch 87/100\n",
      "32/32 [==============================] - 0s 11ms/step - loss: 4.5422e-04\n",
      "Epoch 88/100\n",
      "32/32 [==============================] - 0s 10ms/step - loss: 3.3972e-04: 0s - loss: 2.443\n",
      "Epoch 89/100\n",
      "32/32 [==============================] - 0s 10ms/step - loss: 3.4022e-04\n",
      "Epoch 90/100\n",
      "32/32 [==============================] - 0s 10ms/step - loss: 4.4603e-04\n",
      "Epoch 91/100\n",
      "32/32 [==============================] - 0s 9ms/step - loss: 4.1872e-04\n",
      "Epoch 92/100\n",
      "32/32 [==============================] - 0s 10ms/step - loss: 3.2813e-04\n",
      "Epoch 93/100\n",
      "32/32 [==============================] - 0s 10ms/step - loss: 3.2397e-04\n",
      "Epoch 94/100\n",
      "32/32 [==============================] - 0s 10ms/step - loss: 3.2381e-04\n",
      "Epoch 95/100\n",
      "32/32 [==============================] - 0s 9ms/step - loss: 4.6537e-04\n",
      "Epoch 96/100\n",
      "32/32 [==============================] - 0s 10ms/step - loss: 4.9116e-04\n",
      "Epoch 97/100\n",
      "32/32 [==============================] - 0s 10ms/step - loss: 2.6592e-04\n",
      "Epoch 98/100\n",
      "32/32 [==============================] - 0s 10ms/step - loss: 3.1749e-04\n",
      "Epoch 99/100\n",
      "32/32 [==============================] - 0s 9ms/step - loss: 3.0701e-04\n",
      "Epoch 100/100\n",
      "32/32 [==============================] - 0s 10ms/step - loss: 3.6113e-04\n"
     ]
    },
    {
     "data": {
      "text/plain": [
       "<keras.callbacks.History at 0x24b5b0398b0>"
      ]
     },
     "execution_count": 16,
     "metadata": {},
     "output_type": "execute_result"
    }
   ],
   "source": [
    "model.fit(X_train, y_train, epochs=100, batch_size=32)"
   ]
  },
  {
   "cell_type": "markdown",
   "metadata": {},
   "source": [
    "____________________________________________________  \n",
    "\n",
    " --- Hiperparâmetros do Modelo ---  \n",
    "stepsize  = 8  \n",
    "ativação = relu  \n",
    "otimização = adam  \n",
    "batchsize = 32  \n",
    "(todos os modelos foram treinados com 100 epocas)  \n",
    "____________________________________________________"
   ]
  },
  {
   "cell_type": "code",
   "execution_count": 17,
   "metadata": {},
   "outputs": [],
   "source": [
    "train_predict=model.predict(X_train)\n",
    "test_predict=model.predict(X_test)"
   ]
  },
  {
   "cell_type": "code",
   "execution_count": 18,
   "metadata": {},
   "outputs": [],
   "source": [
    "MSE = mean_absolute_error(y_test, test_predict)"
   ]
  },
  {
   "cell_type": "code",
   "execution_count": 19,
   "metadata": {
    "scrolled": false
   },
   "outputs": [
    {
     "data": {
      "text/plain": [
       "Text(0, 0.5, 'Price')"
      ]
     },
     "execution_count": 19,
     "metadata": {},
     "output_type": "execute_result"
    },
    {
     "data": {
      "image/png": "[encoded data removed]",
      "text/plain": [
       "<Figure size 1008x432 with 1 Axes>"
      ]
     },
     "metadata": {
      "needs_background": "light"
     },
     "output_type": "display_data"
    }
   ],
   "source": [
    "plt.figure(figsize=(14,6))\n",
    "plt.plot(standard_scalar.inverse_transform(y_test.reshape(-1,1)))\n",
    "plt.plot(standard_scalar.inverse_transform(test_predict.reshape(-1,1)))\n",
    "plt.title(\"Comparison with MAE {0:0.10f}\".format(MSE))\n",
    "plt.legend([\"Y\", \"Prediction\"])\n",
    "plt.xlabel(\"Timeframe\")\n",
    "plt.ylabel(\"Price\")"
   ]
  },
  {
   "cell_type": "markdown",
   "metadata": {},
   "source": [
    "**--------------------------------------------------------------------------------------------------------------------------------------------------------------------------------------------------------------**"
   ]
  },
  {
   "cell_type": "markdown",
   "metadata": {},
   "source": [
    "Testando com o MinMaxScaler"
   ]
  },
  {
   "cell_type": "code",
   "execution_count": 85,
   "metadata": {
    "id": "-dagwh9o-8ac"
   },
   "outputs": [],
   "source": [
    "close_price = np.array(features_flipped).reshape(-1,1)"
   ]
  },
  {
   "cell_type": "code",
   "execution_count": 86,
   "metadata": {
    "id": "2wdlTOr3_LEd"
   },
   "outputs": [],
   "source": [
    "scaler=MinMaxScaler(feature_range=(0,1))\n",
    "\n",
    "close_priceSC = scaler.fit_transform(np.array(close_price).reshape(-1,1))"
   ]
  },
  {
   "cell_type": "code",
   "execution_count": 87,
   "metadata": {
    "colab": {
     "base_uri": "https://localhost:8080/",
     "height": 419
    },
    "id": "Hqrc0_-JBE1G",
    "outputId": "56747e21-ca3a-4fe7-edfb-d96cd5670acd"
   },
   "outputs": [
    {
     "name": "stdout",
     "output_type": "stream",
     "text": [
      "(1265, 8) (1265,)\n"
     ]
    }
   ],
   "source": [
    "stepsize = 8\n",
    "\n",
    "X = []\n",
    "y = []\n",
    "for i in range(stepsize, len(close_priceSC)):\n",
    "    X.append(close_priceSC[i-stepsize:i, 0])\n",
    "    y.append(close_priceSC[i,0])\n",
    "X, y = np.array(X), np.array(y)\n",
    "print(X.shape, y.shape)"
   ]
  },
  {
   "cell_type": "code",
   "execution_count": 32,
   "metadata": {},
   "outputs": [],
   "source": [
    "X_train = X[:1018 ,:]\n",
    "X_test = X[1018 :,:]\n",
    "\n",
    "y_train = y[:1018 ]\n",
    "y_test = y[1018 :]"
   ]
  },
  {
   "cell_type": "code",
   "execution_count": 33,
   "metadata": {},
   "outputs": [
    {
     "name": "stdout",
     "output_type": "stream",
     "text": [
      "X_train size: (1018, 8)\n",
      "y_train size: (1018,)\n",
      "X_test size: (247, 8)\n",
      "y_test size: (247,)\n"
     ]
    }
   ],
   "source": [
    "print(\"X_train size: {}\".format(X_train.shape))\n",
    "print(\"y_train size: {}\".format(y_train.shape))\n",
    "print(\"X_test size: {}\".format(X_test.shape))\n",
    "print(\"y_test size: {}\".format(y_test.shape))"
   ]
  },
  {
   "cell_type": "code",
   "execution_count": 34,
   "metadata": {
    "scrolled": true
   },
   "outputs": [
    {
     "name": "stdout",
     "output_type": "stream",
     "text": [
      "X_train size: (1018, 8, 1)\n",
      "y_train size: (1018,)\n",
      "X_test size: (247, 8, 1)\n",
      "y_test size: (247,)\n"
     ]
    }
   ],
   "source": [
    "X_train = X_train.reshape(-1,stepsize,1)\n",
    "X_test = X_test.reshape(-1,stepsize,1)\n",
    "\n",
    "print(\"X_train size: {}\".format(X_train.shape))\n",
    "print(\"y_train size: {}\".format(y_train.shape))\n",
    "print(\"X_test size: {}\".format(X_test.shape))\n",
    "print(\"y_test size: {}\".format(y_test.shape))"
   ]
  },
  {
   "cell_type": "code",
   "execution_count": 35,
   "metadata": {},
   "outputs": [],
   "source": [
    "model=Sequential()\n",
    "model.add(LSTM(50,activation='relu',return_sequences=True,input_shape=(X_train.shape[1],1)))\n",
    "model.add(LSTM(50,return_sequences=True))\n",
    "model.add(LSTM(50))\n",
    "model.add(Dense(1))\n",
    "model.compile(loss='mean_squared_error',optimizer='adam')"
   ]
  },
  {
   "cell_type": "code",
   "execution_count": 36,
   "metadata": {},
   "outputs": [
    {
     "name": "stdout",
     "output_type": "stream",
     "text": [
      "Epoch 1/100\n",
      "32/32 [==============================] - 5s 8ms/step - loss: 0.0017\n",
      "Epoch 2/100\n",
      "32/32 [==============================] - 0s 8ms/step - loss: 1.2633e-04\n",
      "Epoch 3/100\n",
      "32/32 [==============================] - 0s 8ms/step - loss: 3.9692e-05\n",
      "Epoch 4/100\n",
      "32/32 [==============================] - 0s 8ms/step - loss: 3.7817e-05\n",
      "Epoch 5/100\n",
      "32/32 [==============================] - 0s 8ms/step - loss: 5.0716e-05\n",
      "Epoch 6/100\n",
      "32/32 [==============================] - 0s 8ms/step - loss: 3.7113e-05\n",
      "Epoch 7/100\n",
      "32/32 [==============================] - 0s 8ms/step - loss: 4.7966e-05\n",
      "Epoch 8/100\n",
      "32/32 [==============================] - 0s 8ms/step - loss: 6.0438e-05\n",
      "Epoch 9/100\n",
      "32/32 [==============================] - 0s 8ms/step - loss: 4.8871e-05\n",
      "Epoch 10/100\n",
      "32/32 [==============================] - 0s 10ms/step - loss: 4.2767e-05\n",
      "Epoch 11/100\n",
      "32/32 [==============================] - ETA: 0s - loss: 5.1630e-05- ETA: 0s - loss: 5.1696e - 0s 9ms/step - loss: 5.1585e-05\n",
      "Epoch 12/100\n",
      "32/32 [==============================] - 0s 11ms/step - loss: 5.2887e-05\n",
      "Epoch 13/100\n",
      "32/32 [==============================] - 0s 9ms/step - loss: 4.6816e-05\n",
      "Epoch 14/100\n",
      "32/32 [==============================] - 0s 10ms/step - loss: 3.9391e-05\n",
      "Epoch 15/100\n",
      "32/32 [==============================] - 0s 11ms/step - loss: 4.2040e-05\n",
      "Epoch 16/100\n",
      "32/32 [==============================] - 0s 11ms/step - loss: 4.2494e-05\n",
      "Epoch 17/100\n",
      "32/32 [==============================] - 0s 8ms/step - loss: 5.5865e-05\n",
      "Epoch 18/100\n",
      "32/32 [==============================] - 0s 11ms/step - loss: 3.9115e-05\n",
      "Epoch 19/100\n",
      "32/32 [==============================] - 0s 9ms/step - loss: 4.6113e-05\n",
      "Epoch 20/100\n",
      "32/32 [==============================] - 0s 10ms/step - loss: 7.4154e-05\n",
      "Epoch 21/100\n",
      "32/32 [==============================] - 0s 10ms/step - loss: 4.3295e-05\n",
      "Epoch 22/100\n",
      "32/32 [==============================] - 0s 11ms/step - loss: 3.7856e-05\n",
      "Epoch 23/100\n",
      "32/32 [==============================] - 0s 11ms/step - loss: 5.4544e-05\n",
      "Epoch 24/100\n",
      "32/32 [==============================] - 0s 10ms/step - loss: 3.7278e-05\n",
      "Epoch 25/100\n",
      "32/32 [==============================] - 0s 10ms/step - loss: 3.7135e-05\n",
      "Epoch 26/100\n",
      "32/32 [==============================] - 0s 10ms/step - loss: 3.6153e-05\n",
      "Epoch 27/100\n",
      "32/32 [==============================] - 0s 10ms/step - loss: 4.2852e-05\n",
      "Epoch 28/100\n",
      "32/32 [==============================] - 0s 9ms/step - loss: 4.5038e-05\n",
      "Epoch 29/100\n",
      "32/32 [==============================] - ETA: 0s - loss: 3.6389e-0 - 0s 8ms/step - loss: 3.6362e-05\n",
      "Epoch 30/100\n",
      "32/32 [==============================] - 0s 8ms/step - loss: 3.5738e-05\n",
      "Epoch 31/100\n",
      "32/32 [==============================] - 0s 9ms/step - loss: 3.0420e-05\n",
      "Epoch 32/100\n",
      "32/32 [==============================] - 0s 11ms/step - loss: 3.9226e-05: 0s - loss: 4.3548 - ETA: 0s - loss: 3.9065e-0\n",
      "Epoch 33/100\n",
      "32/32 [==============================] - 0s 8ms/step - loss: 8.5771e-05\n",
      "Epoch 34/100\n",
      "32/32 [==============================] - 0s 10ms/step - loss: 3.4117e-05\n",
      "Epoch 35/100\n",
      "32/32 [==============================] - 0s 9ms/step - loss: 3.2652e-05\n",
      "Epoch 36/100\n",
      "32/32 [==============================] - 0s 9ms/step - loss: 3.3743e-05\n",
      "Epoch 37/100\n",
      "32/32 [==============================] - 0s 9ms/step - loss: 3.0186e-05\n",
      "Epoch 38/100\n",
      "32/32 [==============================] - 0s 9ms/step - loss: 2.9426e-05\n",
      "Epoch 39/100\n",
      "32/32 [==============================] - 0s 9ms/step - loss: 4.2440e-05\n",
      "Epoch 40/100\n",
      "32/32 [==============================] - 0s 8ms/step - loss: 3.5944e-05\n",
      "Epoch 41/100\n",
      "32/32 [==============================] - 0s 8ms/step - loss: 3.4425e-05\n",
      "Epoch 42/100\n",
      "32/32 [==============================] - 0s 9ms/step - loss: 3.1642e-05\n",
      "Epoch 43/100\n",
      "32/32 [==============================] - 0s 11ms/step - loss: 4.0986e-05\n",
      "Epoch 44/100\n",
      "32/32 [==============================] - 0s 9ms/step - loss: 2.8794e-05\n",
      "Epoch 45/100\n",
      "32/32 [==============================] - 0s 12ms/step - loss: 3.4586e-05: 0s - loss: 3.627\n",
      "Epoch 46/100\n",
      "32/32 [==============================] - 0s 10ms/step - loss: 3.8541e-05: 0s - loss: 4.0619e\n",
      "Epoch 47/100\n",
      "32/32 [==============================] - 0s 10ms/step - loss: 4.2227e-05\n",
      "Epoch 48/100\n",
      "32/32 [==============================] - 0s 10ms/step - loss: 3.4232e-05\n",
      "Epoch 49/100\n",
      "32/32 [==============================] - 0s 9ms/step - loss: 5.3083e-05\n",
      "Epoch 50/100\n",
      "32/32 [==============================] - 0s 10ms/step - loss: 3.8961e-05\n",
      "Epoch 51/100\n",
      "32/32 [==============================] - 0s 10ms/step - loss: 2.9969e-05\n",
      "Epoch 52/100\n",
      "32/32 [==============================] - 0s 12ms/step - loss: 3.5101e-05\n",
      "Epoch 53/100\n",
      "32/32 [==============================] - 0s 10ms/step - loss: 2.7110e-05\n",
      "Epoch 54/100\n",
      "32/32 [==============================] - 0s 11ms/step - loss: 3.3577e-05\n",
      "Epoch 55/100\n",
      "32/32 [==============================] - 0s 10ms/step - loss: 2.9997e-05\n",
      "Epoch 56/100\n",
      "32/32 [==============================] - 0s 9ms/step - loss: 3.1048e-05\n",
      "Epoch 57/100\n",
      "32/32 [==============================] - 0s 9ms/step - loss: 2.3845e-05\n",
      "Epoch 58/100\n",
      "32/32 [==============================] - 0s 9ms/step - loss: 2.9057e-05\n",
      "Epoch 59/100\n",
      "32/32 [==============================] - 0s 8ms/step - loss: 3.2326e-05\n",
      "Epoch 60/100\n",
      "32/32 [==============================] - 0s 8ms/step - loss: 2.9103e-05\n",
      "Epoch 61/100\n",
      "32/32 [==============================] - 0s 9ms/step - loss: 3.2349e-05\n",
      "Epoch 62/100\n",
      "32/32 [==============================] - 0s 8ms/step - loss: 4.1313e-05\n",
      "Epoch 63/100\n",
      "32/32 [==============================] - 0s 9ms/step - loss: 2.3086e-05\n",
      "Epoch 64/100\n",
      "32/32 [==============================] - 0s 8ms/step - loss: 2.3670e-05\n",
      "Epoch 65/100\n",
      "32/32 [==============================] - 0s 10ms/step - loss: 3.0941e-05\n",
      "Epoch 66/100\n",
      "32/32 [==============================] - 0s 9ms/step - loss: 2.7903e-05\n",
      "Epoch 67/100\n",
      "32/32 [==============================] - 0s 8ms/step - loss: 2.4945e-05\n",
      "Epoch 68/100\n",
      "32/32 [==============================] - 0s 8ms/step - loss: 2.9433e-05\n",
      "Epoch 69/100\n",
      "32/32 [==============================] - 0s 9ms/step - loss: 3.0434e-05\n",
      "Epoch 70/100\n",
      "32/32 [==============================] - 0s 9ms/step - loss: 3.0660e-05\n",
      "Epoch 71/100\n",
      "32/32 [==============================] - 0s 9ms/step - loss: 2.5250e-05\n",
      "Epoch 72/100\n",
      "32/32 [==============================] - 0s 9ms/step - loss: 2.6474e-05A: 0s - loss: 2.2607\n",
      "Epoch 73/100\n",
      "32/32 [==============================] - 0s 9ms/step - loss: 2.6504e-05A: 0s - loss: 2.415\n",
      "Epoch 74/100\n",
      "32/32 [==============================] - 0s 8ms/step - loss: 2.6102e-05\n",
      "Epoch 75/100\n",
      "32/32 [==============================] - 0s 8ms/step - loss: 3.2444e-05\n",
      "Epoch 76/100\n",
      "32/32 [==============================] - 0s 8ms/step - loss: 2.3317e-05\n",
      "Epoch 77/100\n",
      "32/32 [==============================] - 0s 8ms/step - loss: 2.8142e-05\n",
      "Epoch 78/100\n",
      "32/32 [==============================] - 0s 8ms/step - loss: 2.8660e-05\n",
      "Epoch 79/100\n",
      "32/32 [==============================] - 0s 8ms/step - loss: 2.8065e-05\n",
      "Epoch 80/100\n",
      "32/32 [==============================] - 0s 8ms/step - loss: 2.0158e-05\n",
      "Epoch 81/100\n",
      "32/32 [==============================] - 0s 8ms/step - loss: 2.2453e-05\n",
      "Epoch 82/100\n",
      "32/32 [==============================] - 0s 8ms/step - loss: 2.0423e-05\n",
      "Epoch 83/100\n",
      "32/32 [==============================] - 0s 8ms/step - loss: 2.0889e-05\n",
      "Epoch 84/100\n",
      "32/32 [==============================] - 0s 8ms/step - loss: 1.8538e-05\n",
      "Epoch 85/100\n",
      "32/32 [==============================] - 0s 9ms/step - loss: 1.8967e-05\n",
      "Epoch 86/100\n",
      "32/32 [==============================] - 0s 8ms/step - loss: 2.7375e-05\n",
      "Epoch 87/100\n",
      "32/32 [==============================] - 0s 8ms/step - loss: 3.1399e-05\n",
      "Epoch 88/100\n",
      "32/32 [==============================] - 0s 8ms/step - loss: 2.9271e-05\n",
      "Epoch 89/100\n",
      "32/32 [==============================] - 0s 8ms/step - loss: 1.8491e-05\n",
      "Epoch 90/100\n",
      "32/32 [==============================] - 0s 8ms/step - loss: 2.2160e-05\n",
      "Epoch 91/100\n",
      "32/32 [==============================] - 0s 8ms/step - loss: 2.7053e-05\n",
      "Epoch 92/100\n",
      "32/32 [==============================] - 0s 8ms/step - loss: 1.9652e-05\n",
      "Epoch 93/100\n",
      "32/32 [==============================] - 0s 8ms/step - loss: 1.8539e-05\n",
      "Epoch 94/100\n",
      "32/32 [==============================] - 0s 8ms/step - loss: 1.8018e-05\n",
      "Epoch 95/100\n",
      "32/32 [==============================] - 0s 8ms/step - loss: 1.4370e-05\n",
      "Epoch 96/100\n",
      "32/32 [==============================] - 0s 8ms/step - loss: 1.7932e-05\n",
      "Epoch 97/100\n",
      "32/32 [==============================] - 0s 8ms/step - loss: 1.9696e-05\n",
      "Epoch 98/100\n",
      "32/32 [==============================] - 0s 8ms/step - loss: 2.2455e-05\n",
      "Epoch 99/100\n",
      "32/32 [==============================] - 0s 8ms/step - loss: 2.2626e-05\n",
      "Epoch 100/100\n",
      "32/32 [==============================] - 0s 8ms/step - loss: 1.3735e-05\n"
     ]
    },
    {
     "data": {
      "text/plain": [
       "<keras.callbacks.History at 0x24b76ce76a0>"
      ]
     },
     "execution_count": 36,
     "metadata": {},
     "output_type": "execute_result"
    }
   ],
   "source": [
    "model.fit(X_train, y_train, epochs=100, batch_size=32)"
   ]
  },
  {
   "cell_type": "markdown",
   "metadata": {},
   "source": [
    "____________________________________________________  \n",
    "\n",
    " --- Hiperparâmetros do Modelo ---  \n",
    "stepsize  = 8  \n",
    "ativação = relu  \n",
    "otimização = adam  \n",
    "batchsize = 32  \n",
    "(todos os modelos foram treinados com 100 epocas)  \n",
    "____________________________________________________"
   ]
  },
  {
   "cell_type": "code",
   "execution_count": 37,
   "metadata": {},
   "outputs": [],
   "source": [
    "train_predict=model.predict(X_train)\n",
    "test_predict=model.predict(X_test)"
   ]
  },
  {
   "cell_type": "code",
   "execution_count": 38,
   "metadata": {},
   "outputs": [],
   "source": [
    "MSE = mean_absolute_error(y_test, test_predict)"
   ]
  },
  {
   "cell_type": "code",
   "execution_count": 39,
   "metadata": {
    "scrolled": true
   },
   "outputs": [
    {
     "data": {
      "text/plain": [
       "Text(0, 0.5, 'Price')"
      ]
     },
     "execution_count": 39,
     "metadata": {},
     "output_type": "execute_result"
    },
    {
     "data": {
      "image/png": "[encoded data removed]",
      "text/plain": [
       "<Figure size 1008x432 with 1 Axes>"
      ]
     },
     "metadata": {
      "needs_background": "light"
     },
     "output_type": "display_data"
    }
   ],
   "source": [
    "plt.figure(figsize=(14,6))\n",
    "plt.plot(scaler.inverse_transform(y_test.reshape(-1,1)))\n",
    "plt.plot(scaler.inverse_transform(test_predict.reshape(-1,1)))\n",
    "plt.title(\"Comparison with MAE {0:0.10f}\".format(MSE))\n",
    "plt.legend([\"Y\", \"Prediction\"])\n",
    "plt.xlabel(\"Timeframe\")\n",
    "plt.ylabel(\"Price\")"
   ]
  },
  {
   "cell_type": "markdown",
   "metadata": {},
   "source": [
    "**--------------------------------------------------------------------------------------------------------------------------------------------------------------------------------------------------------------**"
   ]
  },
  {
   "cell_type": "markdown",
   "metadata": {},
   "source": [
    "Teste com outra função de ativação (tahn)"
   ]
  },
  {
   "cell_type": "code",
   "execution_count": 40,
   "metadata": {
    "colab": {
     "base_uri": "https://localhost:8080/",
     "height": 419
    },
    "id": "Hqrc0_-JBE1G",
    "outputId": "56747e21-ca3a-4fe7-edfb-d96cd5670acd"
   },
   "outputs": [
    {
     "name": "stdout",
     "output_type": "stream",
     "text": [
      "(1265, 8) (1265,)\n"
     ]
    }
   ],
   "source": [
    "stepsize = 8\n",
    "\n",
    "X = []\n",
    "y = []\n",
    "for i in range(stepsize, len(close_priceSC)):\n",
    "    X.append(close_priceSC[i-stepsize:i, 0])\n",
    "    y.append(close_priceSC[i,0])\n",
    "X, y = np.array(X), np.array(y)\n",
    "print(X.shape, y.shape)"
   ]
  },
  {
   "cell_type": "code",
   "execution_count": 41,
   "metadata": {},
   "outputs": [],
   "source": [
    "X_train = X[:1018 ,:]\n",
    "X_test = X[1018 :,:]\n",
    "\n",
    "y_train = y[:1018 ]\n",
    "y_test = y[1018 :]"
   ]
  },
  {
   "cell_type": "code",
   "execution_count": 42,
   "metadata": {},
   "outputs": [
    {
     "name": "stdout",
     "output_type": "stream",
     "text": [
      "X_train size: (1018, 8)\n",
      "y_train size: (1018,)\n",
      "X_test size: (247, 8)\n",
      "y_test size: (247,)\n"
     ]
    }
   ],
   "source": [
    "print(\"X_train size: {}\".format(X_train.shape))\n",
    "print(\"y_train size: {}\".format(y_train.shape))\n",
    "print(\"X_test size: {}\".format(X_test.shape))\n",
    "print(\"y_test size: {}\".format(y_test.shape))"
   ]
  },
  {
   "cell_type": "code",
   "execution_count": 43,
   "metadata": {
    "scrolled": true
   },
   "outputs": [
    {
     "name": "stdout",
     "output_type": "stream",
     "text": [
      "X_train size: (1018, 8, 1)\n",
      "y_train size: (1018,)\n",
      "X_test size: (247, 8, 1)\n",
      "y_test size: (247,)\n"
     ]
    }
   ],
   "source": [
    "X_train = X_train.reshape(-1,stepsize,1)\n",
    "X_test = X_test.reshape(-1,stepsize,1)\n",
    "\n",
    "print(\"X_train size: {}\".format(X_train.shape))\n",
    "print(\"y_train size: {}\".format(y_train.shape))\n",
    "print(\"X_test size: {}\".format(X_test.shape))\n",
    "print(\"y_test size: {}\".format(y_test.shape))"
   ]
  },
  {
   "cell_type": "code",
   "execution_count": 44,
   "metadata": {},
   "outputs": [],
   "source": [
    "model=Sequential()\n",
    "model.add(LSTM(50,return_sequences=True,input_shape=(X_train.shape[1],1)))\n",
    "model.add(LSTM(50,return_sequences=True))\n",
    "model.add(LSTM(50))\n",
    "model.add(Dense(1))\n",
    "model.compile(loss='mean_squared_error',optimizer='adam')"
   ]
  },
  {
   "cell_type": "code",
   "execution_count": 45,
   "metadata": {},
   "outputs": [
    {
     "name": "stdout",
     "output_type": "stream",
     "text": [
      "Epoch 1/100\n",
      "32/32 [==============================] - 6s 9ms/step - loss: 0.0014\n",
      "Epoch 2/100\n",
      "32/32 [==============================] - 0s 10ms/step - loss: 9.6919e-05\n",
      "Epoch 3/100\n",
      "32/32 [==============================] - 0s 10ms/step - loss: 5.8326e-05\n",
      "Epoch 4/100\n",
      "32/32 [==============================] - 0s 9ms/step - loss: 4.9798e-05\n",
      "Epoch 5/100\n",
      "32/32 [==============================] - 0s 9ms/step - loss: 5.3614e-05\n",
      "Epoch 6/100\n",
      "32/32 [==============================] - 0s 10ms/step - loss: 4.7130e-05\n",
      "Epoch 7/100\n",
      "32/32 [==============================] - 0s 9ms/step - loss: 5.8180e-05\n",
      "Epoch 8/100\n",
      "32/32 [==============================] - 0s 8ms/step - loss: 4.2344e-05\n",
      "Epoch 9/100\n",
      "32/32 [==============================] - 0s 8ms/step - loss: 4.3464e-05\n",
      "Epoch 10/100\n",
      "32/32 [==============================] - 0s 10ms/step - loss: 4.4888e-05\n",
      "Epoch 11/100\n",
      "32/32 [==============================] - 0s 10ms/step - loss: 5.9994e-05\n",
      "Epoch 12/100\n",
      "32/32 [==============================] - 0s 9ms/step - loss: 4.1461e-05\n",
      "Epoch 13/100\n",
      "32/32 [==============================] - 0s 9ms/step - loss: 4.5058e-05\n",
      "Epoch 14/100\n",
      "32/32 [==============================] - 0s 9ms/step - loss: 4.3592e-05\n",
      "Epoch 15/100\n",
      "32/32 [==============================] - 0s 8ms/step - loss: 3.9173e-05\n",
      "Epoch 16/100\n",
      "32/32 [==============================] - 0s 10ms/step - loss: 3.7776e-05\n",
      "Epoch 17/100\n",
      "32/32 [==============================] - 0s 9ms/step - loss: 5.0384e-05\n",
      "Epoch 18/100\n",
      "32/32 [==============================] - 0s 9ms/step - loss: 6.7682e-05\n",
      "Epoch 19/100\n",
      "32/32 [==============================] - 0s 8ms/step - loss: 4.4003e-05\n",
      "Epoch 20/100\n",
      "32/32 [==============================] - 0s 8ms/step - loss: 4.9785e-05\n",
      "Epoch 21/100\n",
      "32/32 [==============================] - 0s 9ms/step - loss: 4.7307e-05A: 0s - loss: 4.7736e-\n",
      "Epoch 22/100\n",
      "32/32 [==============================] - 0s 8ms/step - loss: 3.6861e-05\n",
      "Epoch 23/100\n",
      "32/32 [==============================] - 0s 9ms/step - loss: 3.1240e-05\n",
      "Epoch 24/100\n",
      "32/32 [==============================] - 0s 8ms/step - loss: 3.4289e-05\n",
      "Epoch 25/100\n",
      "32/32 [==============================] - 0s 8ms/step - loss: 3.7150e-05\n",
      "Epoch 26/100\n",
      "32/32 [==============================] - 0s 8ms/step - loss: 3.9229e-05\n",
      "Epoch 27/100\n",
      "32/32 [==============================] - 0s 11ms/step - loss: 4.1390e-05\n",
      "Epoch 28/100\n",
      "32/32 [==============================] - 0s 9ms/step - loss: 3.3985e-05\n",
      "Epoch 29/100\n",
      "32/32 [==============================] - 0s 9ms/step - loss: 4.0306e-05\n",
      "Epoch 30/100\n",
      "32/32 [==============================] - 0s 9ms/step - loss: 5.3685e-05\n",
      "Epoch 31/100\n",
      "32/32 [==============================] - 0s 10ms/step - loss: 5.3923e-05\n",
      "Epoch 32/100\n",
      "32/32 [==============================] - 0s 9ms/step - loss: 3.0221e-05\n",
      "Epoch 33/100\n",
      "32/32 [==============================] - 0s 8ms/step - loss: 3.8706e-05\n",
      "Epoch 34/100\n",
      "32/32 [==============================] - 0s 8ms/step - loss: 2.7535e-05\n",
      "Epoch 35/100\n",
      "32/32 [==============================] - 0s 8ms/step - loss: 4.2790e-05\n",
      "Epoch 36/100\n",
      "32/32 [==============================] - 0s 8ms/step - loss: 3.6687e-05\n",
      "Epoch 37/100\n",
      "32/32 [==============================] - 0s 9ms/step - loss: 3.9037e-05\n",
      "Epoch 38/100\n",
      "32/32 [==============================] - 0s 8ms/step - loss: 3.5934e-05\n",
      "Epoch 39/100\n",
      "32/32 [==============================] - 0s 9ms/step - loss: 4.0662e-05\n",
      "Epoch 40/100\n",
      "32/32 [==============================] - 0s 9ms/step - loss: 5.3403e-05\n",
      "Epoch 41/100\n",
      "32/32 [==============================] - 0s 11ms/step - loss: 3.5286e-05\n",
      "Epoch 42/100\n",
      "32/32 [==============================] - 0s 9ms/step - loss: 2.9503e-05\n",
      "Epoch 43/100\n",
      "32/32 [==============================] - 0s 11ms/step - loss: 3.9037e-05: 0s - loss: 5.70\n",
      "Epoch 44/100\n",
      "32/32 [==============================] - 0s 10ms/step - loss: 3.7373e-05\n",
      "Epoch 45/100\n",
      "32/32 [==============================] - 0s 9ms/step - loss: 2.3093e-05\n",
      "Epoch 46/100\n",
      "32/32 [==============================] - 0s 9ms/step - loss: 3.7328e-05\n",
      "Epoch 47/100\n",
      "32/32 [==============================] - 0s 11ms/step - loss: 3.1177e-05\n",
      "Epoch 48/100\n",
      "32/32 [==============================] - 0s 10ms/step - loss: 3.9110e-05: 0s - loss: 3.9088e-0\n",
      "Epoch 49/100\n",
      "32/32 [==============================] - 0s 9ms/step - loss: 3.0588e-05\n",
      "Epoch 50/100\n",
      "32/32 [==============================] - 0s 10ms/step - loss: 2.7239e-05\n",
      "Epoch 51/100\n",
      "32/32 [==============================] - 0s 9ms/step - loss: 4.1416e-05\n",
      "Epoch 52/100\n",
      "32/32 [==============================] - 0s 9ms/step - loss: 3.3089e-05\n",
      "Epoch 53/100\n",
      "32/32 [==============================] - 0s 11ms/step - loss: 3.1095e-05\n",
      "Epoch 54/100\n",
      "32/32 [==============================] - 0s 11ms/step - loss: 1.7310e-05\n",
      "Epoch 55/100\n",
      "32/32 [==============================] - 0s 9ms/step - loss: 4.9838e-05\n",
      "Epoch 56/100\n",
      "32/32 [==============================] - 0s 9ms/step - loss: 4.9069e-05A: 0s - loss: 5.5391e-\n",
      "Epoch 57/100\n",
      "32/32 [==============================] - 0s 8ms/step - loss: 2.6999e-05\n",
      "Epoch 58/100\n",
      "32/32 [==============================] - 0s 10ms/step - loss: 2.8746e-05\n",
      "Epoch 59/100\n",
      "32/32 [==============================] - 0s 8ms/step - loss: 2.3874e-05\n",
      "Epoch 60/100\n",
      "32/32 [==============================] - 0s 8ms/step - loss: 3.6267e-05\n",
      "Epoch 61/100\n",
      "32/32 [==============================] - 0s 11ms/step - loss: 2.7870e-05\n",
      "Epoch 62/100\n",
      "32/32 [==============================] - 0s 10ms/step - loss: 2.9076e-05\n",
      "Epoch 63/100\n",
      "32/32 [==============================] - 0s 9ms/step - loss: 2.3888e-05\n",
      "Epoch 64/100\n",
      "32/32 [==============================] - 0s 9ms/step - loss: 2.7226e-05\n",
      "Epoch 65/100\n",
      "32/32 [==============================] - 0s 8ms/step - loss: 2.2370e-05\n",
      "Epoch 66/100\n",
      "32/32 [==============================] - 0s 10ms/step - loss: 2.2217e-05\n",
      "Epoch 67/100\n",
      "32/32 [==============================] - 0s 9ms/step - loss: 2.0066e-05\n",
      "Epoch 68/100\n",
      "32/32 [==============================] - 0s 9ms/step - loss: 1.8226e-05\n",
      "Epoch 69/100\n",
      "32/32 [==============================] - 0s 8ms/step - loss: 2.5849e-05\n",
      "Epoch 70/100\n",
      "32/32 [==============================] - 0s 8ms/step - loss: 2.2242e-05\n",
      "Epoch 71/100\n",
      "32/32 [==============================] - 0s 9ms/step - loss: 2.3921e-05\n",
      "Epoch 72/100\n",
      "32/32 [==============================] - 0s 8ms/step - loss: 2.8454e-05\n",
      "Epoch 73/100\n",
      "32/32 [==============================] - 0s 8ms/step - loss: 1.9207e-05\n",
      "Epoch 74/100\n",
      "32/32 [==============================] - 0s 8ms/step - loss: 3.0033e-05\n",
      "Epoch 75/100\n",
      "32/32 [==============================] - 0s 8ms/step - loss: 2.8669e-05\n",
      "Epoch 76/100\n",
      "32/32 [==============================] - 0s 8ms/step - loss: 2.9132e-05\n",
      "Epoch 77/100\n",
      "32/32 [==============================] - 0s 8ms/step - loss: 2.3556e-05\n",
      "Epoch 78/100\n",
      "32/32 [==============================] - 0s 8ms/step - loss: 2.5491e-05\n",
      "Epoch 79/100\n",
      "32/32 [==============================] - 0s 9ms/step - loss: 2.6941e-05\n",
      "Epoch 80/100\n",
      "32/32 [==============================] - 0s 11ms/step - loss: 1.4851e-05\n",
      "Epoch 81/100\n",
      "32/32 [==============================] - 0s 10ms/step - loss: 2.1652e-05\n",
      "Epoch 82/100\n",
      "32/32 [==============================] - 0s 10ms/step - loss: 1.9672e-05\n",
      "Epoch 83/100\n",
      "32/32 [==============================] - 0s 9ms/step - loss: 3.0276e-05\n",
      "Epoch 84/100\n",
      "32/32 [==============================] - 0s 9ms/step - loss: 2.2614e-05\n",
      "Epoch 85/100\n",
      "32/32 [==============================] - 0s 8ms/step - loss: 1.8739e-05\n",
      "Epoch 86/100\n",
      "32/32 [==============================] - 0s 8ms/step - loss: 2.1685e-05\n",
      "Epoch 87/100\n",
      "32/32 [==============================] - 0s 9ms/step - loss: 1.4701e-05A: 0s - loss: 1.3150e-\n",
      "Epoch 88/100\n",
      "32/32 [==============================] - 0s 9ms/step - loss: 3.0789e-05\n",
      "Epoch 89/100\n",
      "32/32 [==============================] - 0s 8ms/step - loss: 1.7293e-05\n",
      "Epoch 90/100\n",
      "32/32 [==============================] - 0s 8ms/step - loss: 1.6480e-05\n",
      "Epoch 91/100\n",
      "32/32 [==============================] - 0s 8ms/step - loss: 1.8888e-05\n",
      "Epoch 92/100\n",
      "32/32 [==============================] - 0s 9ms/step - loss: 1.9602e-05\n",
      "Epoch 93/100\n",
      "32/32 [==============================] - 0s 8ms/step - loss: 3.0432e-05\n",
      "Epoch 94/100\n",
      "32/32 [==============================] - 0s 8ms/step - loss: 1.9012e-05\n",
      "Epoch 95/100\n",
      "32/32 [==============================] - 0s 10ms/step - loss: 1.5094e-05\n",
      "Epoch 96/100\n"
     ]
    },
    {
     "name": "stdout",
     "output_type": "stream",
     "text": [
      "32/32 [==============================] - 0s 9ms/step - loss: 1.6472e-05\n",
      "Epoch 97/100\n",
      "32/32 [==============================] - 0s 9ms/step - loss: 1.1674e-05\n",
      "Epoch 98/100\n",
      "32/32 [==============================] - ETA: 0s - loss: 1.4458e-0 - 0s 10ms/step - loss: 1.4569e-05\n",
      "Epoch 99/100\n",
      "32/32 [==============================] - 0s 9ms/step - loss: 1.8838e-05\n",
      "Epoch 100/100\n",
      "32/32 [==============================] - 0s 8ms/step - loss: 1.3358e-05\n"
     ]
    },
    {
     "data": {
      "text/plain": [
       "<keras.callbacks.History at 0x24b7f6da460>"
      ]
     },
     "execution_count": 45,
     "metadata": {},
     "output_type": "execute_result"
    }
   ],
   "source": [
    "model.fit(X_train, y_train, epochs=100, batch_size=32)"
   ]
  },
  {
   "cell_type": "markdown",
   "metadata": {},
   "source": [
    "____________________________________________________  \n",
    "\n",
    " --- Hiperparâmetros do Modelo ---  \n",
    "stepsize  = 8  \n",
    "ativação = tahn  \n",
    "otimização = adam  \n",
    "batchsize = 32  \n",
    "(todos os modelos foram treinados com 100 epocas)  \n",
    "____________________________________________________"
   ]
  },
  {
   "cell_type": "code",
   "execution_count": 46,
   "metadata": {},
   "outputs": [],
   "source": [
    "train_predict=model.predict(X_train)\n",
    "test_predict=model.predict(X_test)"
   ]
  },
  {
   "cell_type": "code",
   "execution_count": 47,
   "metadata": {},
   "outputs": [],
   "source": [
    "MSE = mean_absolute_error(y_test, test_predict)"
   ]
  },
  {
   "cell_type": "code",
   "execution_count": 48,
   "metadata": {
    "scrolled": true
   },
   "outputs": [
    {
     "data": {
      "text/plain": [
       "Text(0, 0.5, 'Price')"
      ]
     },
     "execution_count": 48,
     "metadata": {},
     "output_type": "execute_result"
    },
    {
     "data": {
      "image/png": "[encoded data removed]",
      "text/plain": [
       "<Figure size 1008x432 with 1 Axes>"
      ]
     },
     "metadata": {
      "needs_background": "light"
     },
     "output_type": "display_data"
    }
   ],
   "source": [
    "plt.figure(figsize=(14,6))\n",
    "plt.plot(scaler.inverse_transform(y_test.reshape(-1,1)))\n",
    "plt.plot(scaler.inverse_transform(test_predict.reshape(-1,1)))\n",
    "plt.title(\"Comparison with MAE {0:0.10f}\".format(MSE))\n",
    "plt.legend([\"Y\", \"Prediction\"])\n",
    "plt.xlabel(\"Timeframe\")\n",
    "plt.ylabel(\"Price\")"
   ]
  },
  {
   "cell_type": "markdown",
   "metadata": {},
   "source": [
    "**--------------------------------------------------------------------------------------------------------------------------------------------------------------------------------------------------------------**"
   ]
  },
  {
   "cell_type": "raw",
   "metadata": {},
   "source": [
    "Teste com outro stepsize"
   ]
  },
  {
   "cell_type": "code",
   "execution_count": 49,
   "metadata": {
    "colab": {
     "base_uri": "https://localhost:8080/",
     "height": 419
    },
    "id": "Hqrc0_-JBE1G",
    "outputId": "56747e21-ca3a-4fe7-edfb-d96cd5670acd"
   },
   "outputs": [
    {
     "name": "stdout",
     "output_type": "stream",
     "text": [
      "(1209, 64) (1209,)\n"
     ]
    }
   ],
   "source": [
    "stepsize = 64\n",
    "\n",
    "X = []\n",
    "y = []\n",
    "for i in range(stepsize, len(close_priceSC)):\n",
    "    X.append(close_priceSC[i-stepsize:i, 0])\n",
    "    y.append(close_priceSC[i,0])\n",
    "X, y = np.array(X), np.array(y)\n",
    "print(X.shape, y.shape)"
   ]
  },
  {
   "cell_type": "code",
   "execution_count": 50,
   "metadata": {},
   "outputs": [],
   "source": [
    "X_train = X[:1018 ,:]\n",
    "X_test = X[1018 :,:]\n",
    "\n",
    "y_train = y[:1018 ]\n",
    "y_test = y[1018 :]"
   ]
  },
  {
   "cell_type": "code",
   "execution_count": 51,
   "metadata": {},
   "outputs": [
    {
     "name": "stdout",
     "output_type": "stream",
     "text": [
      "X_train size: (1018, 64)\n",
      "y_train size: (1018,)\n",
      "X_test size: (191, 64)\n",
      "y_test size: (191,)\n"
     ]
    }
   ],
   "source": [
    "print(\"X_train size: {}\".format(X_train.shape))\n",
    "print(\"y_train size: {}\".format(y_train.shape))\n",
    "print(\"X_test size: {}\".format(X_test.shape))\n",
    "print(\"y_test size: {}\".format(y_test.shape))"
   ]
  },
  {
   "cell_type": "code",
   "execution_count": 52,
   "metadata": {
    "scrolled": true
   },
   "outputs": [
    {
     "name": "stdout",
     "output_type": "stream",
     "text": [
      "X_train size: (1018, 64, 1)\n",
      "y_train size: (1018,)\n",
      "X_test size: (191, 64, 1)\n",
      "y_test size: (191,)\n"
     ]
    }
   ],
   "source": [
    "X_train = X_train.reshape(-1,stepsize,1)\n",
    "X_test = X_test.reshape(-1,stepsize,1)\n",
    "\n",
    "print(\"X_train size: {}\".format(X_train.shape))\n",
    "print(\"y_train size: {}\".format(y_train.shape))\n",
    "print(\"X_test size: {}\".format(X_test.shape))\n",
    "print(\"y_test size: {}\".format(y_test.shape))"
   ]
  },
  {
   "cell_type": "code",
   "execution_count": 53,
   "metadata": {},
   "outputs": [],
   "source": [
    "model=Sequential()\n",
    "model.add(LSTM(50,return_sequences=True,input_shape=(X_train.shape[1],1)))\n",
    "model.add(LSTM(50,return_sequences=True))\n",
    "model.add(LSTM(50))\n",
    "model.add(Dense(1))\n",
    "model.compile(loss='mean_squared_error',optimizer='adam')"
   ]
  },
  {
   "cell_type": "code",
   "execution_count": 54,
   "metadata": {},
   "outputs": [
    {
     "name": "stdout",
     "output_type": "stream",
     "text": [
      "Epoch 1/100\n",
      "32/32 [==============================] - 7s 55ms/step - loss: 0.0029\n",
      "Epoch 2/100\n",
      "32/32 [==============================] - 2s 48ms/step - loss: 1.2349e-04\n",
      "Epoch 3/100\n",
      "32/32 [==============================] - 1s 46ms/step - loss: 1.2332e-04\n",
      "Epoch 4/100\n",
      "32/32 [==============================] - 2s 53ms/step - loss: 2.4140e-04\n",
      "Epoch 5/100\n",
      "32/32 [==============================] - 2s 48ms/step - loss: 1.6344e-04: 0s - loss: 1.6369e\n",
      "Epoch 6/100\n",
      "32/32 [==============================] - 2s 59ms/step - loss: 1.7944e-04\n",
      "Epoch 7/100\n",
      "32/32 [==============================] - 2s 50ms/step - loss: 1.2978e-04\n",
      "Epoch 8/100\n",
      "32/32 [==============================] - 2s 61ms/step - loss: 1.0872e-04\n",
      "Epoch 9/100\n",
      "32/32 [==============================] - 2s 66ms/step - loss: 1.4516e-04\n",
      "Epoch 10/100\n",
      "32/32 [==============================] - 2s 61ms/step - loss: 1.2012e-04\n",
      "Epoch 11/100\n",
      "32/32 [==============================] - 2s 58ms/step - loss: 1.0793e-04\n",
      "Epoch 12/100\n",
      "32/32 [==============================] - 2s 48ms/step - loss: 7.7228e-05: 0s - loss: 7.1\n",
      "Epoch 13/100\n",
      "32/32 [==============================] - 2s 47ms/step - loss: 1.1959e-04: 1s \n",
      "Epoch 14/100\n",
      "32/32 [==============================] - 1s 42ms/step - loss: 1.2293e-04\n",
      "Epoch 15/100\n",
      "32/32 [==============================] - 1s 42ms/step - loss: 1.0062e-04\n",
      "Epoch 16/100\n",
      "32/32 [==============================] - ETA: 0s - loss: 1.0367e-0 - 1s 42ms/step - loss: 1.0426e-04\n",
      "Epoch 17/100\n",
      "32/32 [==============================] - 1s 42ms/step - loss: 1.5563e-04\n",
      "Epoch 18/100\n",
      "32/32 [==============================] - 1s 42ms/step - loss: 8.0479e-05\n",
      "Epoch 19/100\n",
      "32/32 [==============================] - 1s 42ms/step - loss: 1.1105e-04\n",
      "Epoch 20/100\n",
      "32/32 [==============================] - 1s 42ms/step - loss: 1.2371e-04\n",
      "Epoch 21/100\n",
      "32/32 [==============================] - 1s 42ms/step - loss: 1.0379e-04\n",
      "Epoch 22/100\n",
      "32/32 [==============================] - 1s 42ms/step - loss: 8.1366e-05\n",
      "Epoch 23/100\n",
      "32/32 [==============================] - 1s 42ms/step - loss: 1.1295e-04\n",
      "Epoch 24/100\n",
      "32/32 [==============================] - 1s 42ms/step - loss: 7.1466e-05\n",
      "Epoch 25/100\n",
      "32/32 [==============================] - 1s 42ms/step - loss: 6.1178e-05\n",
      "Epoch 26/100\n",
      "32/32 [==============================] - 2s 55ms/step - loss: 1.0115e-04: 1s - loss: 7.8025e - ETA: 1s - \n",
      "Epoch 27/100\n",
      "32/32 [==============================] - 2s 47ms/step - loss: 8.8308e-05\n",
      "Epoch 28/100\n",
      "32/32 [==============================] - 1s 43ms/step - loss: 7.5386e-05\n",
      "Epoch 29/100\n",
      "32/32 [==============================] - 1s 47ms/step - loss: 6.7041e-05\n",
      "Epoch 30/100\n",
      "32/32 [==============================] - 2s 61ms/step - loss: 8.6859e-05\n",
      "Epoch 31/100\n",
      "32/32 [==============================] - 2s 59ms/step - loss: 7.4765e-05\n",
      "Epoch 32/100\n",
      "32/32 [==============================] - 2s 59ms/step - loss: 5.5110e-05\n",
      "Epoch 33/100\n",
      "32/32 [==============================] - 2s 56ms/step - loss: 6.6170e-05\n",
      "Epoch 34/100\n",
      "32/32 [==============================] - 1s 44ms/step - loss: 6.3716e-05\n",
      "Epoch 35/100\n",
      "32/32 [==============================] - 1s 43ms/step - loss: 5.8489e-05\n",
      "Epoch 36/100\n",
      "32/32 [==============================] - 1s 42ms/step - loss: 1.0905e-04\n",
      "Epoch 37/100\n",
      "32/32 [==============================] - 1s 42ms/step - loss: 6.5126e-05\n",
      "Epoch 38/100\n",
      "32/32 [==============================] - 1s 42ms/step - loss: 5.1161e-05\n",
      "Epoch 39/100\n",
      "32/32 [==============================] - 1s 42ms/step - loss: 1.1924e-04\n",
      "Epoch 40/100\n",
      "32/32 [==============================] - 1s 42ms/step - loss: 5.1543e-05\n",
      "Epoch 41/100\n",
      "32/32 [==============================] - 1s 42ms/step - loss: 3.8663e-05\n",
      "Epoch 42/100\n",
      "32/32 [==============================] - 1s 42ms/step - loss: 5.4442e-05\n",
      "Epoch 43/100\n",
      "32/32 [==============================] - 1s 42ms/step - loss: 6.1542e-05\n",
      "Epoch 44/100\n",
      "32/32 [==============================] - 1s 42ms/step - loss: 7.0553e-05\n",
      "Epoch 45/100\n",
      "32/32 [==============================] - 1s 42ms/step - loss: 5.4398e-05\n",
      "Epoch 46/100\n",
      "32/32 [==============================] - 1s 43ms/step - loss: 5.0254e-05\n",
      "Epoch 47/100\n",
      "32/32 [==============================] - 1s 42ms/step - loss: 3.4377e-05\n",
      "Epoch 48/100\n",
      "32/32 [==============================] - 1s 42ms/step - loss: 4.5761e-05\n",
      "Epoch 49/100\n",
      "32/32 [==============================] - 1s 42ms/step - loss: 4.7281e-05\n",
      "Epoch 50/100\n",
      "32/32 [==============================] - 1s 42ms/step - loss: 3.1725e-05\n",
      "Epoch 51/100\n",
      "32/32 [==============================] - 1s 42ms/step - loss: 5.5195e-05\n",
      "Epoch 52/100\n",
      "32/32 [==============================] - 1s 42ms/step - loss: 4.0462e-05\n",
      "Epoch 53/100\n",
      "32/32 [==============================] - 2s 48ms/step - loss: 3.3536e-05\n",
      "Epoch 54/100\n",
      "32/32 [==============================] - 2s 50ms/step - loss: 3.8715e-05\n",
      "Epoch 55/100\n",
      "32/32 [==============================] - 2s 52ms/step - loss: 5.8768e-05\n",
      "Epoch 56/100\n",
      "32/32 [==============================] - 2s 53ms/step - loss: 3.4128e-05: 0s - loss: 3.3878e-0\n",
      "Epoch 57/100\n",
      "32/32 [==============================] - 2s 48ms/step - loss: 4.9525e-05: 0s - loss: 4.9498e-\n",
      "Epoch 58/100\n",
      "32/32 [==============================] - 2s 51ms/step - loss: 4.2902e-05\n",
      "Epoch 59/100\n",
      "32/32 [==============================] - 1s 46ms/step - loss: 4.4340e-05\n",
      "Epoch 60/100\n",
      "32/32 [==============================] - 1s 46ms/step - loss: 2.3997e-05\n",
      "Epoch 61/100\n",
      "32/32 [==============================] - 1s 42ms/step - loss: 4.6072e-05\n",
      "Epoch 62/100\n",
      "32/32 [==============================] - 1s 42ms/step - loss: 3.3221e-05\n",
      "Epoch 63/100\n",
      "32/32 [==============================] - 1s 42ms/step - loss: 2.7877e-05\n",
      "Epoch 64/100\n",
      "32/32 [==============================] - 1s 42ms/step - loss: 4.8476e-05\n",
      "Epoch 65/100\n",
      "32/32 [==============================] - 1s 42ms/step - loss: 3.9141e-05\n",
      "Epoch 66/100\n",
      "32/32 [==============================] - 1s 46ms/step - loss: 2.2640e-05\n",
      "Epoch 67/100\n",
      "32/32 [==============================] - 1s 46ms/step - loss: 2.3640e-05\n",
      "Epoch 68/100\n",
      "32/32 [==============================] - 1s 42ms/step - loss: 2.6551e-05\n",
      "Epoch 69/100\n",
      "32/32 [==============================] - 1s 42ms/step - loss: 2.9681e-05\n",
      "Epoch 70/100\n",
      "32/32 [==============================] - 1s 47ms/step - loss: 4.0517e-05\n",
      "Epoch 71/100\n",
      "32/32 [==============================] - 2s 54ms/step - loss: 2.9659e-05\n",
      "Epoch 72/100\n",
      "32/32 [==============================] - 2s 52ms/step - loss: 3.0595e-05\n",
      "Epoch 73/100\n",
      "32/32 [==============================] - 2s 50ms/step - loss: 3.1283e-05\n",
      "Epoch 74/100\n",
      "32/32 [==============================] - 2s 51ms/step - loss: 4.2438e-05\n",
      "Epoch 75/100\n",
      "32/32 [==============================] - 1s 44ms/step - loss: 3.3742e-05\n",
      "Epoch 76/100\n",
      "32/32 [==============================] - 1s 43ms/step - loss: 2.6152e-05\n",
      "Epoch 77/100\n",
      "32/32 [==============================] - 1s 43ms/step - loss: 2.7648e-05\n",
      "Epoch 78/100\n",
      "32/32 [==============================] - 1s 42ms/step - loss: 3.8677e-05\n",
      "Epoch 79/100\n",
      "32/32 [==============================] - 1s 42ms/step - loss: 2.8740e-05\n",
      "Epoch 80/100\n",
      "32/32 [==============================] - 1s 42ms/step - loss: 4.0329e-05\n",
      "Epoch 81/100\n",
      "32/32 [==============================] - 1s 42ms/step - loss: 2.4934e-05\n",
      "Epoch 82/100\n",
      "32/32 [==============================] - 2s 48ms/step - loss: 3.2487e-05\n",
      "Epoch 83/100\n",
      "32/32 [==============================] - 2s 51ms/step - loss: 2.7138e-05\n",
      "Epoch 84/100\n",
      "32/32 [==============================] - 2s 55ms/step - loss: 2.5946e-05\n",
      "Epoch 85/100\n",
      "32/32 [==============================] - 2s 51ms/step - loss: 3.9265e-05\n",
      "Epoch 86/100\n",
      "32/32 [==============================] - 2s 47ms/step - loss: 1.8901e-05\n",
      "Epoch 87/100\n",
      "32/32 [==============================] - 1s 47ms/step - loss: 2.5102e-05\n",
      "Epoch 88/100\n",
      "32/32 [==============================] - 2s 49ms/step - loss: 2.5795e-05\n",
      "Epoch 89/100\n",
      "32/32 [==============================] - 2s 50ms/step - loss: 2.5080e-05\n",
      "Epoch 90/100\n",
      "32/32 [==============================] - 2s 57ms/step - loss: 2.1413e-05: 0s - loss: 2.1420e-0\n",
      "Epoch 91/100\n",
      "32/32 [==============================] - 2s 56ms/step - loss: 2.2937e-05: 0s - loss: 2.282\n",
      "Epoch 92/100\n",
      "32/32 [==============================] - 2s 60ms/step - loss: 2.9376e-05: 0s - loss: 3.1 - ETA: 0s - loss: 3.0\n",
      "Epoch 93/100\n",
      "32/32 [==============================] - 2s 59ms/step - loss: 2.1556e-05: 1s - l\n",
      "Epoch 94/100\n",
      "32/32 [==============================] - 2s 52ms/step - loss: 1.6453e-05\n",
      "Epoch 95/100\n",
      "32/32 [==============================] - 2s 53ms/step - loss: 2.6959e-05\n",
      "Epoch 96/100\n",
      "32/32 [==============================] - 2s 52ms/step - loss: 3.4100e-05\n",
      "Epoch 97/100\n",
      "32/32 [==============================] - 2s 51ms/step - loss: 2.9397e-05\n",
      "Epoch 98/100\n",
      "32/32 [==============================] - 2s 47ms/step - loss: 2.1968e-05\n",
      "Epoch 99/100\n",
      "32/32 [==============================] - 2s 49ms/step - loss: 2.0123e-05\n",
      "Epoch 100/100\n",
      "32/32 [==============================] - 2s 51ms/step - loss: 2.1711e-05\n"
     ]
    },
    {
     "data": {
      "text/plain": [
       "<keras.callbacks.History at 0x24b0b3abee0>"
      ]
     },
     "execution_count": 54,
     "metadata": {},
     "output_type": "execute_result"
    }
   ],
   "source": [
    "model.fit(X_train, y_train, epochs=100, batch_size=32)"
   ]
  },
  {
   "cell_type": "markdown",
   "metadata": {},
   "source": [
    "____________________________________________________  \n",
    "\n",
    " --- Hiperparâmetros do Modelo ---  \n",
    "stepsize  = 64  \n",
    "ativação = tahn  \n",
    "otimização = adam  \n",
    "batchsize = 32  \n",
    "(todos os modelos foram treinados com 100 epocas)  \n",
    "____________________________________________________"
   ]
  },
  {
   "cell_type": "code",
   "execution_count": 55,
   "metadata": {},
   "outputs": [],
   "source": [
    "train_predict=model.predict(X_train)\n",
    "test_predict=model.predict(X_test)"
   ]
  },
  {
   "cell_type": "code",
   "execution_count": 56,
   "metadata": {},
   "outputs": [],
   "source": [
    "MSE = mean_absolute_error(y_test, test_predict)"
   ]
  },
  {
   "cell_type": "code",
   "execution_count": 57,
   "metadata": {
    "scrolled": false
   },
   "outputs": [
    {
     "data": {
      "text/plain": [
       "Text(0, 0.5, 'Price')"
      ]
     },
     "execution_count": 57,
     "metadata": {},
     "output_type": "execute_result"
    },
    {
     "data": {
      "image/png": "[encoded data removed]",
      "text/plain": [
       "<Figure size 1008x432 with 1 Axes>"
      ]
     },
     "metadata": {
      "needs_background": "light"
     },
     "output_type": "display_data"
    }
   ],
   "source": [
    "plt.figure(figsize=(14,6))\n",
    "plt.plot(scaler.inverse_transform(y_test.reshape(-1,1)))\n",
    "plt.plot(scaler.inverse_transform(test_predict.reshape(-1,1)))\n",
    "plt.title(\"Comparison with MAE {0:0.10f}\".format(MSE))\n",
    "plt.legend([\"Y\", \"Prediction\"])\n",
    "plt.xlabel(\"Timeframe\")\n",
    "plt.ylabel(\"Price\")"
   ]
  },
  {
   "cell_type": "markdown",
   "metadata": {},
   "source": [
    "**--------------------------------------------------------------------------------------------------------------------------------------------------------------------------------------------------------------**"
   ]
  },
  {
   "cell_type": "markdown",
   "metadata": {},
   "source": [
    "Teste com o otimizador sgd"
   ]
  },
  {
   "cell_type": "code",
   "execution_count": 58,
   "metadata": {
    "colab": {
     "base_uri": "https://localhost:8080/",
     "height": 419
    },
    "id": "Hqrc0_-JBE1G",
    "outputId": "56747e21-ca3a-4fe7-edfb-d96cd5670acd"
   },
   "outputs": [
    {
     "name": "stdout",
     "output_type": "stream",
     "text": [
      "(1265, 8) (1265,)\n"
     ]
    }
   ],
   "source": [
    "stepsize = 8\n",
    "\n",
    "X = []\n",
    "y = []\n",
    "for i in range(stepsize, len(close_priceSC)):\n",
    "    X.append(close_priceSC[i-stepsize:i, 0])\n",
    "    y.append(close_priceSC[i,0])\n",
    "X, y = np.array(X), np.array(y)\n",
    "print(X.shape, y.shape)"
   ]
  },
  {
   "cell_type": "code",
   "execution_count": 59,
   "metadata": {},
   "outputs": [],
   "source": [
    "X_train = X[:1018 ,:]\n",
    "X_test = X[1018 :,:]\n",
    "\n",
    "y_train = y[:1018 ]\n",
    "y_test = y[1018 :]"
   ]
  },
  {
   "cell_type": "code",
   "execution_count": 60,
   "metadata": {},
   "outputs": [
    {
     "name": "stdout",
     "output_type": "stream",
     "text": [
      "X_train size: (1018, 8)\n",
      "y_train size: (1018,)\n",
      "X_test size: (247, 8)\n",
      "y_test size: (247,)\n"
     ]
    }
   ],
   "source": [
    "print(\"X_train size: {}\".format(X_train.shape))\n",
    "print(\"y_train size: {}\".format(y_train.shape))\n",
    "print(\"X_test size: {}\".format(X_test.shape))\n",
    "print(\"y_test size: {}\".format(y_test.shape))"
   ]
  },
  {
   "cell_type": "code",
   "execution_count": 61,
   "metadata": {
    "scrolled": true
   },
   "outputs": [
    {
     "name": "stdout",
     "output_type": "stream",
     "text": [
      "X_train size: (1018, 8, 1)\n",
      "y_train size: (1018,)\n",
      "X_test size: (247, 8, 1)\n",
      "y_test size: (247,)\n"
     ]
    }
   ],
   "source": [
    "X_train = X_train.reshape(-1,stepsize,1)\n",
    "X_test = X_test.reshape(-1,stepsize,1)\n",
    "\n",
    "print(\"X_train size: {}\".format(X_train.shape))\n",
    "print(\"y_train size: {}\".format(y_train.shape))\n",
    "print(\"X_test size: {}\".format(X_test.shape))\n",
    "print(\"y_test size: {}\".format(y_test.shape))"
   ]
  },
  {
   "cell_type": "code",
   "execution_count": 62,
   "metadata": {},
   "outputs": [],
   "source": [
    "model=Sequential()\n",
    "model.add(LSTM(50,return_sequences=True,input_shape=(X_train.shape[1],1)))\n",
    "model.add(LSTM(50,return_sequences=True))\n",
    "model.add(LSTM(50))\n",
    "model.add(Dense(1))\n",
    "model.compile(loss='mean_squared_error',optimizer='sgd')"
   ]
  },
  {
   "cell_type": "code",
   "execution_count": 63,
   "metadata": {},
   "outputs": [
    {
     "name": "stdout",
     "output_type": "stream",
     "text": [
      "Epoch 1/100\n",
      "32/32 [==============================] - 5s 8ms/step - loss: 0.0030\n",
      "Epoch 2/100\n",
      "32/32 [==============================] - 0s 8ms/step - loss: 0.0024\n",
      "Epoch 3/100\n",
      "32/32 [==============================] - 0s 8ms/step - loss: 0.0022\n",
      "Epoch 4/100\n",
      "32/32 [==============================] - 0s 8ms/step - loss: 0.0026\n",
      "Epoch 5/100\n",
      "32/32 [==============================] - 0s 8ms/step - loss: 0.0026\n",
      "Epoch 6/100\n",
      "32/32 [==============================] - 0s 8ms/step - loss: 0.0020\n",
      "Epoch 7/100\n",
      "32/32 [==============================] - 0s 8ms/step - loss: 0.0023\n",
      "Epoch 8/100\n",
      "32/32 [==============================] - 0s 8ms/step - loss: 0.0026\n",
      "Epoch 9/100\n",
      "32/32 [==============================] - 0s 8ms/step - loss: 0.0026\n",
      "Epoch 10/100\n",
      "32/32 [==============================] - 0s 9ms/step - loss: 0.0022\n",
      "Epoch 11/100\n",
      "32/32 [==============================] - 0s 9ms/step - loss: 0.0025\n",
      "Epoch 12/100\n",
      "32/32 [==============================] - 0s 11ms/step - loss: 0.0021\n",
      "Epoch 13/100\n",
      "32/32 [==============================] - 0s 8ms/step - loss: 0.0023\n",
      "Epoch 14/100\n",
      "32/32 [==============================] - 0s 10ms/step - loss: 0.0023\n",
      "Epoch 15/100\n",
      "32/32 [==============================] - 0s 9ms/step - loss: 0.0025\n",
      "Epoch 16/100\n",
      "32/32 [==============================] - 0s 9ms/step - loss: 0.0026\n",
      "Epoch 17/100\n",
      "32/32 [==============================] - 0s 8ms/step - loss: 0.0022\n",
      "Epoch 18/100\n",
      "32/32 [==============================] - 0s 8ms/step - loss: 0.0023\n",
      "Epoch 19/100\n",
      "32/32 [==============================] - 0s 8ms/step - loss: 0.0021\n",
      "Epoch 20/100\n",
      "32/32 [==============================] - 0s 8ms/step - loss: 0.0023\n",
      "Epoch 21/100\n",
      "32/32 [==============================] - 0s 8ms/step - loss: 0.0024\n",
      "Epoch 22/100\n",
      "32/32 [==============================] - 0s 8ms/step - loss: 0.0023\n",
      "Epoch 23/100\n",
      "32/32 [==============================] - 0s 8ms/step - loss: 0.0023\n",
      "Epoch 24/100\n",
      "32/32 [==============================] - 0s 10ms/step - loss: 0.0023\n",
      "Epoch 25/100\n",
      "32/32 [==============================] - 0s 9ms/step - loss: 0.0026\n",
      "Epoch 26/100\n",
      "32/32 [==============================] - 0s 9ms/step - loss: 0.0026\n",
      "Epoch 27/100\n",
      "32/32 [==============================] - 0s 8ms/step - loss: 0.0022\n",
      "Epoch 28/100\n",
      "32/32 [==============================] - 0s 9ms/step - loss: 0.0021\n",
      "Epoch 29/100\n",
      "32/32 [==============================] - 0s 9ms/step - loss: 0.0026\n",
      "Epoch 30/100\n",
      "32/32 [==============================] - 0s 9ms/step - loss: 0.0022\n",
      "Epoch 31/100\n",
      "32/32 [==============================] - 0s 10ms/step - loss: 0.0022\n",
      "Epoch 32/100\n",
      "32/32 [==============================] - 0s 9ms/step - loss: 0.0025\n",
      "Epoch 33/100\n",
      "32/32 [==============================] - 0s 9ms/step - loss: 0.0020\n",
      "Epoch 34/100\n",
      "32/32 [==============================] - 0s 11ms/step - loss: 0.0023\n",
      "Epoch 35/100\n",
      "32/32 [==============================] - 0s 9ms/step - loss: 0.0023\n",
      "Epoch 36/100\n",
      "32/32 [==============================] - 0s 10ms/step - loss: 0.0021\n",
      "Epoch 37/100\n",
      "32/32 [==============================] - 0s 10ms/step - loss: 0.0021\n",
      "Epoch 38/100\n",
      "32/32 [==============================] - 0s 9ms/step - loss: 0.0023\n",
      "Epoch 39/100\n",
      "32/32 [==============================] - 0s 8ms/step - loss: 0.0025\n",
      "Epoch 40/100\n",
      "32/32 [==============================] - 0s 9ms/step - loss: 0.0022\n",
      "Epoch 41/100\n",
      "32/32 [==============================] - 0s 10ms/step - loss: 0.0022\n",
      "Epoch 42/100\n",
      "32/32 [==============================] - 0s 10ms/step - loss: 0.0021\n",
      "Epoch 43/100\n",
      "32/32 [==============================] - 0s 9ms/step - loss: 0.0023\n",
      "Epoch 44/100\n",
      "32/32 [==============================] - 0s 8ms/step - loss: 0.0021\n",
      "Epoch 45/100\n",
      "32/32 [==============================] - 0s 8ms/step - loss: 0.0022\n",
      "Epoch 46/100\n",
      "32/32 [==============================] - 0s 9ms/step - loss: 0.0024\n",
      "Epoch 47/100\n",
      "32/32 [==============================] - 0s 9ms/step - loss: 0.0019\n",
      "Epoch 48/100\n",
      "32/32 [==============================] - ETA: 0s - loss: 0.002 - 0s 10ms/step - loss: 0.0024\n",
      "Epoch 49/100\n",
      "32/32 [==============================] - 0s 9ms/step - loss: 0.0022\n",
      "Epoch 50/100\n",
      "32/32 [==============================] - 0s 8ms/step - loss: 0.0022\n",
      "Epoch 51/100\n",
      "32/32 [==============================] - 0s 8ms/step - loss: 0.0022\n",
      "Epoch 52/100\n",
      "32/32 [==============================] - 0s 8ms/step - loss: 0.0022\n",
      "Epoch 53/100\n",
      "32/32 [==============================] - 0s 8ms/step - loss: 0.0023\n",
      "Epoch 54/100\n",
      "32/32 [==============================] - 0s 9ms/step - loss: 0.0023\n",
      "Epoch 55/100\n",
      "32/32 [==============================] - 0s 10ms/step - loss: 0.0022\n",
      "Epoch 56/100\n",
      "32/32 [==============================] - 0s 10ms/step - loss: 0.0023\n",
      "Epoch 57/100\n",
      "32/32 [==============================] - 0s 9ms/step - loss: 0.0024\n",
      "Epoch 58/100\n",
      "32/32 [==============================] - 0s 10ms/step - loss: 0.0021\n",
      "Epoch 59/100\n",
      "32/32 [==============================] - 0s 9ms/step - loss: 0.0021\n",
      "Epoch 60/100\n",
      "32/32 [==============================] - 0s 10ms/step - loss: 0.0025\n",
      "Epoch 61/100\n",
      "32/32 [==============================] - 0s 10ms/step - loss: 0.0023\n",
      "Epoch 62/100\n",
      "32/32 [==============================] - 0s 9ms/step - loss: 0.0020\n",
      "Epoch 63/100\n",
      "32/32 [==============================] - 0s 10ms/step - loss: 0.0022\n",
      "Epoch 64/100\n",
      "32/32 [==============================] - 0s 9ms/step - loss: 0.0023\n",
      "Epoch 65/100\n",
      "32/32 [==============================] - 0s 9ms/step - loss: 0.0020\n",
      "Epoch 66/100\n",
      "32/32 [==============================] - 0s 10ms/step - loss: 0.0020\n",
      "Epoch 67/100\n",
      "32/32 [==============================] - 0s 9ms/step - loss: 0.0023\n",
      "Epoch 68/100\n",
      "32/32 [==============================] - 0s 8ms/step - loss: 0.0021\n",
      "Epoch 69/100\n",
      "32/32 [==============================] - 0s 8ms/step - loss: 0.0024\n",
      "Epoch 70/100\n",
      "32/32 [==============================] - 0s 8ms/step - loss: 0.0022\n",
      "Epoch 71/100\n",
      "32/32 [==============================] - 0s 8ms/step - loss: 0.0023\n",
      "Epoch 72/100\n",
      "32/32 [==============================] - 0s 8ms/step - loss: 0.0023\n",
      "Epoch 73/100\n",
      "32/32 [==============================] - 0s 8ms/step - loss: 0.0023\n",
      "Epoch 74/100\n",
      "32/32 [==============================] - 0s 8ms/step - loss: 0.0020\n",
      "Epoch 75/100\n",
      "32/32 [==============================] - 0s 8ms/step - loss: 0.0022\n",
      "Epoch 76/100\n",
      "32/32 [==============================] - 0s 8ms/step - loss: 0.0020\n",
      "Epoch 77/100\n",
      "32/32 [==============================] - 0s 8ms/step - loss: 0.0020\n",
      "Epoch 78/100\n",
      "32/32 [==============================] - 0s 8ms/step - loss: 0.0023\n",
      "Epoch 79/100\n",
      "32/32 [==============================] - 0s 8ms/step - loss: 0.0022\n",
      "Epoch 80/100\n",
      "32/32 [==============================] - 0s 8ms/step - loss: 0.0023\n",
      "Epoch 81/100\n",
      "32/32 [==============================] - 0s 8ms/step - loss: 0.0019\n",
      "Epoch 82/100\n",
      "32/32 [==============================] - 0s 8ms/step - loss: 0.0023\n",
      "Epoch 83/100\n",
      "32/32 [==============================] - 0s 8ms/step - loss: 0.0025\n",
      "Epoch 84/100\n",
      "32/32 [==============================] - 0s 8ms/step - loss: 0.0022\n",
      "Epoch 85/100\n",
      "32/32 [==============================] - 0s 8ms/step - loss: 0.0021\n",
      "Epoch 86/100\n",
      "32/32 [==============================] - 0s 8ms/step - loss: 0.0022\n",
      "Epoch 87/100\n",
      "32/32 [==============================] - 0s 8ms/step - loss: 0.0022\n",
      "Epoch 88/100\n",
      "32/32 [==============================] - 0s 8ms/step - loss: 0.0023\n",
      "Epoch 89/100\n",
      "32/32 [==============================] - 0s 8ms/step - loss: 0.0024\n",
      "Epoch 90/100\n",
      "32/32 [==============================] - 0s 8ms/step - loss: 0.0023\n",
      "Epoch 91/100\n",
      "32/32 [==============================] - 0s 8ms/step - loss: 0.0019\n",
      "Epoch 92/100\n",
      "32/32 [==============================] - 0s 8ms/step - loss: 0.0019\n",
      "Epoch 93/100\n",
      "32/32 [==============================] - 0s 8ms/step - loss: 0.0022\n",
      "Epoch 94/100\n",
      "32/32 [==============================] - 0s 8ms/step - loss: 0.0024\n",
      "Epoch 95/100\n",
      "32/32 [==============================] - 0s 8ms/step - loss: 0.0023\n",
      "Epoch 96/100\n",
      "32/32 [==============================] - 0s 8ms/step - loss: 0.0023\n",
      "Epoch 97/100\n",
      "32/32 [==============================] - 0s 8ms/step - loss: 0.0023\n",
      "Epoch 98/100\n",
      "32/32 [==============================] - 0s 8ms/step - loss: 0.0022\n",
      "Epoch 99/100\n",
      "32/32 [==============================] - 0s 8ms/step - loss: 0.0022\n",
      "Epoch 100/100\n",
      "32/32 [==============================] - 0s 8ms/step - loss: 0.0023\n"
     ]
    },
    {
     "data": {
      "text/plain": [
       "<keras.callbacks.History at 0x24b13ffb790>"
      ]
     },
     "execution_count": 63,
     "metadata": {},
     "output_type": "execute_result"
    }
   ],
   "source": [
    "model.fit(X_train, y_train, epochs=100, batch_size=32)"
   ]
  },
  {
   "cell_type": "markdown",
   "metadata": {},
   "source": [
    "____________________________________________________  \n",
    "\n",
    " --- Hiperparâmetros do Modelo ---  \n",
    "stepsize  = 8  \n",
    "ativação = tahn  \n",
    "otimização = sgd  \n",
    "batchsize = 32  \n",
    "(todos os modelos foram treinados com 100 epocas)  \n",
    "____________________________________________________"
   ]
  },
  {
   "cell_type": "code",
   "execution_count": 64,
   "metadata": {},
   "outputs": [],
   "source": [
    "train_predict=model.predict(X_train)\n",
    "test_predict=model.predict(X_test)"
   ]
  },
  {
   "cell_type": "code",
   "execution_count": 65,
   "metadata": {},
   "outputs": [],
   "source": [
    "MSE = mean_absolute_error(y_test, test_predict)"
   ]
  },
  {
   "cell_type": "code",
   "execution_count": 66,
   "metadata": {
    "scrolled": false
   },
   "outputs": [
    {
     "data": {
      "text/plain": [
       "Text(0, 0.5, 'Price')"
      ]
     },
     "execution_count": 66,
     "metadata": {},
     "output_type": "execute_result"
    },
    {
     "data": {
      "image/png": "[encoded data removed]",
      "text/plain": [
       "<Figure size 1008x432 with 1 Axes>"
      ]
     },
     "metadata": {
      "needs_background": "light"
     },
     "output_type": "display_data"
    }
   ],
   "source": [
    "plt.figure(figsize=(14,6))\n",
    "plt.plot(scaler.inverse_transform(y_test.reshape(-1,1)))\n",
    "plt.plot(scaler.inverse_transform(test_predict.reshape(-1,1)))\n",
    "plt.title(\"Comparison with MAE {0:0.10f}\".format(MSE))\n",
    "plt.legend([\"Y\", \"Prediction\"])\n",
    "plt.xlabel(\"Timeframe\")\n",
    "plt.ylabel(\"Price\")"
   ]
  },
  {
   "cell_type": "code",
   "execution_count": null,
   "metadata": {},
   "outputs": [],
   "source": []
  },
  {
   "cell_type": "markdown",
   "metadata": {},
   "source": [
    "**--------------------------------------------------------------------------------------------------------------------------------------------------------------------------------------------------------------**"
   ]
  },
  {
   "cell_type": "markdown",
   "metadata": {},
   "source": [
    "Teste com batch_size maior"
   ]
  },
  {
   "cell_type": "code",
   "execution_count": 67,
   "metadata": {
    "colab": {
     "base_uri": "https://localhost:8080/",
     "height": 419
    },
    "id": "Hqrc0_-JBE1G",
    "outputId": "56747e21-ca3a-4fe7-edfb-d96cd5670acd"
   },
   "outputs": [
    {
     "name": "stdout",
     "output_type": "stream",
     "text": [
      "(1265, 8) (1265,)\n"
     ]
    }
   ],
   "source": [
    "stepsize = 8\n",
    "\n",
    "X = []\n",
    "y = []\n",
    "for i in range(stepsize, len(close_priceSC)):\n",
    "    X.append(close_priceSC[i-stepsize:i, 0])\n",
    "    y.append(close_priceSC[i,0])\n",
    "X, y = np.array(X), np.array(y)\n",
    "print(X.shape, y.shape)"
   ]
  },
  {
   "cell_type": "code",
   "execution_count": 68,
   "metadata": {},
   "outputs": [],
   "source": [
    "X_train = X[:1018 ,:]\n",
    "X_test = X[1018 :,:]\n",
    "\n",
    "y_train = y[:1018 ]\n",
    "y_test = y[1018 :]"
   ]
  },
  {
   "cell_type": "code",
   "execution_count": 69,
   "metadata": {},
   "outputs": [
    {
     "name": "stdout",
     "output_type": "stream",
     "text": [
      "X_train size: (1018, 8)\n",
      "y_train size: (1018,)\n",
      "X_test size: (247, 8)\n",
      "y_test size: (247,)\n"
     ]
    }
   ],
   "source": [
    "print(\"X_train size: {}\".format(X_train.shape))\n",
    "print(\"y_train size: {}\".format(y_train.shape))\n",
    "print(\"X_test size: {}\".format(X_test.shape))\n",
    "print(\"y_test size: {}\".format(y_test.shape))"
   ]
  },
  {
   "cell_type": "code",
   "execution_count": 70,
   "metadata": {
    "scrolled": true
   },
   "outputs": [
    {
     "name": "stdout",
     "output_type": "stream",
     "text": [
      "X_train size: (1018, 8, 1)\n",
      "y_train size: (1018,)\n",
      "X_test size: (247, 8, 1)\n",
      "y_test size: (247,)\n"
     ]
    }
   ],
   "source": [
    "X_train = X_train.reshape(-1,stepsize,1)\n",
    "X_test = X_test.reshape(-1,stepsize,1)\n",
    "\n",
    "print(\"X_train size: {}\".format(X_train.shape))\n",
    "print(\"y_train size: {}\".format(y_train.shape))\n",
    "print(\"X_test size: {}\".format(X_test.shape))\n",
    "print(\"y_test size: {}\".format(y_test.shape))"
   ]
  },
  {
   "cell_type": "code",
   "execution_count": 71,
   "metadata": {},
   "outputs": [],
   "source": [
    "model=Sequential()\n",
    "model.add(LSTM(50,return_sequences=True,input_shape=(X_train.shape[1],1)))\n",
    "model.add(LSTM(50,return_sequences=True))\n",
    "model.add(LSTM(50))\n",
    "model.add(Dense(1))\n",
    "model.compile(loss='mean_squared_error',optimizer='adam')"
   ]
  },
  {
   "cell_type": "code",
   "execution_count": 72,
   "metadata": {},
   "outputs": [
    {
     "name": "stdout",
     "output_type": "stream",
     "text": [
      "Epoch 1/100\n",
      "8/8 [==============================] - 5s 16ms/step - loss: 0.0029\n",
      "Epoch 2/100\n",
      "8/8 [==============================] - 0s 20ms/step - loss: 0.0015\n",
      "Epoch 3/100\n",
      "8/8 [==============================] - 0s 18ms/step - loss: 5.2866e-04\n",
      "Epoch 4/100\n",
      "8/8 [==============================] - 0s 16ms/step - loss: 2.2931e-04\n",
      "Epoch 5/100\n",
      "8/8 [==============================] - 0s 22ms/step - loss: 8.2363e-05\n",
      "Epoch 6/100\n",
      "8/8 [==============================] - 0s 19ms/step - loss: 8.6396e-05\n",
      "Epoch 7/100\n",
      "8/8 [==============================] - 0s 19ms/step - loss: 4.5499e-05\n",
      "Epoch 8/100\n",
      "8/8 [==============================] - 0s 16ms/step - loss: 5.7092e-05\n",
      "Epoch 9/100\n",
      "8/8 [==============================] - ETA: 0s - loss: 4.6377e-0 - 0s 23ms/step - loss: 4.5291e-05\n",
      "Epoch 10/100\n",
      "8/8 [==============================] - 0s 17ms/step - loss: 3.9219e-05\n",
      "Epoch 11/100\n",
      "8/8 [==============================] - 0s 22ms/step - loss: 3.8260e-05\n",
      "Epoch 12/100\n",
      "8/8 [==============================] - 0s 16ms/step - loss: 4.3027e-05\n",
      "Epoch 13/100\n",
      "8/8 [==============================] - 0s 16ms/step - loss: 4.2938e-05\n",
      "Epoch 14/100\n",
      "8/8 [==============================] - 0s 20ms/step - loss: 3.8811e-05\n",
      "Epoch 15/100\n",
      "8/8 [==============================] - 0s 20ms/step - loss: 3.6350e-05\n",
      "Epoch 16/100\n",
      "8/8 [==============================] - 0s 23ms/step - loss: 3.9618e-05\n",
      "Epoch 17/100\n",
      "8/8 [==============================] - 0s 17ms/step - loss: 3.9771e-05\n",
      "Epoch 18/100\n",
      "8/8 [==============================] - 0s 20ms/step - loss: 4.2012e-05\n",
      "Epoch 19/100\n",
      "8/8 [==============================] - 0s 22ms/step - loss: 4.3957e-05\n",
      "Epoch 20/100\n",
      "8/8 [==============================] - 0s 20ms/step - loss: 3.6380e-05\n",
      "Epoch 21/100\n",
      "8/8 [==============================] - 0s 17ms/step - loss: 3.3937e-05\n",
      "Epoch 22/100\n",
      "8/8 [==============================] - 0s 16ms/step - loss: 4.1921e-05\n",
      "Epoch 23/100\n",
      "8/8 [==============================] - 0s 20ms/step - loss: 4.0227e-05\n",
      "Epoch 24/100\n",
      "8/8 [==============================] - 0s 19ms/step - loss: 3.8620e-05\n",
      "Epoch 25/100\n",
      "8/8 [==============================] - 0s 15ms/step - loss: 4.1671e-05\n",
      "Epoch 26/100\n",
      "8/8 [==============================] - 0s 22ms/step - loss: 3.7489e-05: 0s - loss: 3.6673e-0\n",
      "Epoch 27/100\n",
      "8/8 [==============================] - 0s 17ms/step - loss: 4.6632e-05\n",
      "Epoch 28/100\n",
      "8/8 [==============================] - 0s 19ms/step - loss: 4.5626e-05\n",
      "Epoch 29/100\n",
      "8/8 [==============================] - 0s 17ms/step - loss: 3.8759e-05\n",
      "Epoch 30/100\n",
      "8/8 [==============================] - 0s 16ms/step - loss: 4.6334e-05\n",
      "Epoch 31/100\n",
      "8/8 [==============================] - 0s 15ms/step - loss: 3.7596e-05\n",
      "Epoch 32/100\n",
      "8/8 [==============================] - 0s 16ms/step - loss: 4.6197e-05\n",
      "Epoch 33/100\n",
      "8/8 [==============================] - 0s 20ms/step - loss: 3.9154e-05\n",
      "Epoch 34/100\n",
      "8/8 [==============================] - 0s 21ms/step - loss: 3.4105e-05\n",
      "Epoch 35/100\n",
      "8/8 [==============================] - 0s 22ms/step - loss: 3.7924e-05\n",
      "Epoch 36/100\n",
      "8/8 [==============================] - 0s 23ms/step - loss: 4.5623e-05\n",
      "Epoch 37/100\n",
      "8/8 [==============================] - 0s 16ms/step - loss: 4.0927e-05\n",
      "Epoch 38/100\n",
      "8/8 [==============================] - 0s 18ms/step - loss: 4.6498e-05\n",
      "Epoch 39/100\n",
      "8/8 [==============================] - 0s 20ms/step - loss: 4.2235e-05\n",
      "Epoch 40/100\n",
      "8/8 [==============================] - 0s 21ms/step - loss: 3.5919e-05\n",
      "Epoch 41/100\n",
      "8/8 [==============================] - 0s 22ms/step - loss: 3.1460e-05\n",
      "Epoch 42/100\n",
      "8/8 [==============================] - 0s 19ms/step - loss: 3.3013e-05\n",
      "Epoch 43/100\n",
      "8/8 [==============================] - 0s 19ms/step - loss: 3.5028e-05\n",
      "Epoch 44/100\n",
      "8/8 [==============================] - 0s 17ms/step - loss: 3.7277e-05\n",
      "Epoch 45/100\n",
      "8/8 [==============================] - 0s 14ms/step - loss: 3.3978e-05\n",
      "Epoch 46/100\n",
      "8/8 [==============================] - 0s 14ms/step - loss: 3.3337e-05\n",
      "Epoch 47/100\n",
      "8/8 [==============================] - 0s 14ms/step - loss: 3.6223e-05\n",
      "Epoch 48/100\n",
      "8/8 [==============================] - 0s 15ms/step - loss: 3.7227e-05\n",
      "Epoch 49/100\n",
      "8/8 [==============================] - 0s 15ms/step - loss: 3.5938e-05\n",
      "Epoch 50/100\n",
      "8/8 [==============================] - 0s 26ms/step - loss: 2.7694e-05\n",
      "Epoch 51/100\n",
      "8/8 [==============================] - 0s 20ms/step - loss: 3.1273e-05\n",
      "Epoch 52/100\n",
      "8/8 [==============================] - 0s 15ms/step - loss: 3.1334e-05\n",
      "Epoch 53/100\n",
      "8/8 [==============================] - 0s 15ms/step - loss: 3.4741e-05\n",
      "Epoch 54/100\n",
      "8/8 [==============================] - 0s 15ms/step - loss: 3.5016e-05\n",
      "Epoch 55/100\n",
      "8/8 [==============================] - 0s 14ms/step - loss: 4.0331e-05\n",
      "Epoch 56/100\n",
      "8/8 [==============================] - 0s 14ms/step - loss: 4.0389e-05\n",
      "Epoch 57/100\n",
      "8/8 [==============================] - 0s 15ms/step - loss: 3.8140e-05\n",
      "Epoch 58/100\n",
      "8/8 [==============================] - 0s 14ms/step - loss: 3.5693e-05\n",
      "Epoch 59/100\n",
      "8/8 [==============================] - 0s 14ms/step - loss: 4.0278e-05\n",
      "Epoch 60/100\n",
      "8/8 [==============================] - 0s 14ms/step - loss: 3.7353e-05\n",
      "Epoch 61/100\n",
      "8/8 [==============================] - 0s 16ms/step - loss: 4.1372e-05\n",
      "Epoch 62/100\n",
      "8/8 [==============================] - 0s 14ms/step - loss: 4.1758e-05\n",
      "Epoch 63/100\n",
      "8/8 [==============================] - 0s 14ms/step - loss: 3.8486e-05\n",
      "Epoch 64/100\n",
      "8/8 [==============================] - 0s 14ms/step - loss: 4.0731e-05\n",
      "Epoch 65/100\n",
      "8/8 [==============================] - 0s 15ms/step - loss: 3.8870e-05\n",
      "Epoch 66/100\n",
      "8/8 [==============================] - 0s 14ms/step - loss: 3.0590e-05\n",
      "Epoch 67/100\n",
      "8/8 [==============================] - 0s 16ms/step - loss: 4.1236e-05\n",
      "Epoch 68/100\n",
      "8/8 [==============================] - 0s 14ms/step - loss: 3.8136e-05\n",
      "Epoch 69/100\n",
      "8/8 [==============================] - 0s 14ms/step - loss: 3.8927e-05\n",
      "Epoch 70/100\n",
      "8/8 [==============================] - 0s 14ms/step - loss: 3.6043e-05\n",
      "Epoch 71/100\n",
      "8/8 [==============================] - 0s 14ms/step - loss: 3.4259e-05\n",
      "Epoch 72/100\n",
      "8/8 [==============================] - 0s 14ms/step - loss: 4.0589e-05\n",
      "Epoch 73/100\n",
      "8/8 [==============================] - 0s 14ms/step - loss: 3.8754e-05\n",
      "Epoch 74/100\n",
      "8/8 [==============================] - 0s 14ms/step - loss: 3.1791e-05\n",
      "Epoch 75/100\n",
      "8/8 [==============================] - 0s 15ms/step - loss: 3.7467e-05\n",
      "Epoch 76/100\n",
      "8/8 [==============================] - 0s 14ms/step - loss: 3.3211e-05\n",
      "Epoch 77/100\n",
      "8/8 [==============================] - 0s 14ms/step - loss: 3.7423e-05\n",
      "Epoch 78/100\n",
      "8/8 [==============================] - 0s 15ms/step - loss: 3.5286e-05\n",
      "Epoch 79/100\n",
      "8/8 [==============================] - 0s 15ms/step - loss: 3.9668e-05\n",
      "Epoch 80/100\n",
      "8/8 [==============================] - 0s 14ms/step - loss: 3.7535e-05\n",
      "Epoch 81/100\n",
      "8/8 [==============================] - 0s 14ms/step - loss: 3.8644e-05\n",
      "Epoch 82/100\n",
      "8/8 [==============================] - 0s 14ms/step - loss: 3.4612e-05\n",
      "Epoch 83/100\n",
      "8/8 [==============================] - 0s 14ms/step - loss: 3.9610e-05\n",
      "Epoch 84/100\n",
      "8/8 [==============================] - 0s 14ms/step - loss: 4.6024e-05\n",
      "Epoch 85/100\n",
      "8/8 [==============================] - 0s 14ms/step - loss: 4.1667e-05\n",
      "Epoch 86/100\n",
      "8/8 [==============================] - 0s 14ms/step - loss: 3.7639e-05\n",
      "Epoch 87/100\n",
      "8/8 [==============================] - 0s 14ms/step - loss: 4.4443e-05\n",
      "Epoch 88/100\n",
      "8/8 [==============================] - 0s 14ms/step - loss: 3.4985e-05\n",
      "Epoch 89/100\n",
      "8/8 [==============================] - 0s 14ms/step - loss: 3.8686e-05\n",
      "Epoch 90/100\n",
      "8/8 [==============================] - 0s 14ms/step - loss: 3.3111e-05\n",
      "Epoch 91/100\n",
      "8/8 [==============================] - 0s 15ms/step - loss: 3.2651e-05\n",
      "Epoch 92/100\n",
      "8/8 [==============================] - 0s 14ms/step - loss: 3.4351e-05\n",
      "Epoch 93/100\n",
      "8/8 [==============================] - 0s 14ms/step - loss: 3.4991e-05\n",
      "Epoch 94/100\n",
      "8/8 [==============================] - 0s 14ms/step - loss: 3.4160e-05\n",
      "Epoch 95/100\n",
      "8/8 [==============================] - 0s 15ms/step - loss: 3.4853e-05\n",
      "Epoch 96/100\n",
      "8/8 [==============================] - 0s 15ms/step - loss: 3.6911e-05\n",
      "Epoch 97/100\n",
      "8/8 [==============================] - 0s 14ms/step - loss: 4.0137e-05\n",
      "Epoch 98/100\n"
     ]
    },
    {
     "name": "stdout",
     "output_type": "stream",
     "text": [
      "8/8 [==============================] - 0s 14ms/step - loss: 3.4351e-05\n",
      "Epoch 99/100\n",
      "8/8 [==============================] - 0s 14ms/step - loss: 3.6503e-05\n",
      "Epoch 100/100\n",
      "8/8 [==============================] - 0s 14ms/step - loss: 3.0023e-05\n"
     ]
    },
    {
     "data": {
      "text/plain": [
       "<keras.callbacks.History at 0x24b1dbb06d0>"
      ]
     },
     "execution_count": 72,
     "metadata": {},
     "output_type": "execute_result"
    }
   ],
   "source": [
    "model.fit(X_train, y_train, epochs=100, batch_size=128)"
   ]
  },
  {
   "cell_type": "markdown",
   "metadata": {},
   "source": [
    "____________________________________________________  \n",
    "\n",
    " --- Hiperparâmetros do Modelo ---  \n",
    "stepsize  = 8  \n",
    "ativação = tahn  \n",
    "otimização = adam  \n",
    "batchsize = 128  \n",
    "(todos os modelos foram treinados com 100 epocas)  \n",
    "____________________________________________________"
   ]
  },
  {
   "cell_type": "code",
   "execution_count": 73,
   "metadata": {},
   "outputs": [],
   "source": [
    "train_predict=model.predict(X_train)\n",
    "test_predict=model.predict(X_test)"
   ]
  },
  {
   "cell_type": "code",
   "execution_count": 74,
   "metadata": {},
   "outputs": [],
   "source": [
    "MSE = mean_absolute_error(y_test, test_predict)"
   ]
  },
  {
   "cell_type": "code",
   "execution_count": 75,
   "metadata": {
    "scrolled": false
   },
   "outputs": [
    {
     "data": {
      "text/plain": [
       "Text(0, 0.5, 'Price')"
      ]
     },
     "execution_count": 75,
     "metadata": {},
     "output_type": "execute_result"
    },
    {
     "data": {
      "image/png": "[encoded data removed]",
      "text/plain": [
       "<Figure size 1008x432 with 1 Axes>"
      ]
     },
     "metadata": {
      "needs_background": "light"
     },
     "output_type": "display_data"
    }
   ],
   "source": [
    "plt.figure(figsize=(14,6))\n",
    "plt.plot(scaler.inverse_transform(y_test.reshape(-1,1)))\n",
    "plt.plot(scaler.inverse_transform(test_predict.reshape(-1,1)))\n",
    "plt.title(\"Comparison with MAE {0:0.10f}\".format(MSE))\n",
    "plt.legend([\"Y\", \"Prediction\"])\n",
    "plt.xlabel(\"Timeframe\")\n",
    "plt.ylabel(\"Price\")"
   ]
  },
  {
   "cell_type": "markdown",
   "metadata": {},
   "source": [
    "**--------------------------------------------------------------------------------------------------------------------------------------------------------------------------------------------------------------**"
   ]
  },
  {
   "cell_type": "markdown",
   "metadata": {},
   "source": [
    "Teste com mais Stacks"
   ]
  },
  {
   "cell_type": "code",
   "execution_count": 88,
   "metadata": {
    "colab": {
     "base_uri": "https://localhost:8080/",
     "height": 419
    },
    "id": "Hqrc0_-JBE1G",
    "outputId": "56747e21-ca3a-4fe7-edfb-d96cd5670acd"
   },
   "outputs": [
    {
     "name": "stdout",
     "output_type": "stream",
     "text": [
      "(1265, 8) (1265,)\n"
     ]
    }
   ],
   "source": [
    "stepsize = 8\n",
    "\n",
    "X = []\n",
    "y = []\n",
    "for i in range(stepsize, len(close_priceSC)):\n",
    "    X.append(close_priceSC[i-stepsize:i, 0])\n",
    "    y.append(close_priceSC[i,0])\n",
    "X, y = np.array(X), np.array(y)\n",
    "print(X.shape, y.shape)"
   ]
  },
  {
   "cell_type": "code",
   "execution_count": 89,
   "metadata": {},
   "outputs": [],
   "source": [
    "X_train = X[:1018 ,:]\n",
    "X_test = X[1018 :,:]\n",
    "\n",
    "y_train = y[:1018 ]\n",
    "y_test = y[1018 :]"
   ]
  },
  {
   "cell_type": "code",
   "execution_count": 90,
   "metadata": {},
   "outputs": [
    {
     "name": "stdout",
     "output_type": "stream",
     "text": [
      "X_train size: (1018, 8)\n",
      "y_train size: (1018,)\n",
      "X_test size: (247, 8)\n",
      "y_test size: (247,)\n"
     ]
    }
   ],
   "source": [
    "print(\"X_train size: {}\".format(X_train.shape))\n",
    "print(\"y_train size: {}\".format(y_train.shape))\n",
    "print(\"X_test size: {}\".format(X_test.shape))\n",
    "print(\"y_test size: {}\".format(y_test.shape))"
   ]
  },
  {
   "cell_type": "code",
   "execution_count": 91,
   "metadata": {
    "scrolled": true
   },
   "outputs": [
    {
     "name": "stdout",
     "output_type": "stream",
     "text": [
      "X_train size: (1018, 8, 1)\n",
      "y_train size: (1018,)\n",
      "X_test size: (247, 8, 1)\n",
      "y_test size: (247,)\n"
     ]
    }
   ],
   "source": [
    "X_train = X_train.reshape(-1,stepsize,1)\n",
    "X_test = X_test.reshape(-1,stepsize,1)\n",
    "\n",
    "print(\"X_train size: {}\".format(X_train.shape))\n",
    "print(\"y_train size: {}\".format(y_train.shape))\n",
    "print(\"X_test size: {}\".format(X_test.shape))\n",
    "print(\"y_test size: {}\".format(y_test.shape))"
   ]
  },
  {
   "cell_type": "code",
   "execution_count": 92,
   "metadata": {},
   "outputs": [],
   "source": [
    "model=Sequential()\n",
    "model.add(LSTM(50,return_sequences=True,input_shape=(X_train.shape[1],1)))\n",
    "model.add(LSTM(50,return_sequences=True))\n",
    "model.add(LSTM(50,return_sequences=True))\n",
    "model.add(LSTM(50))\n",
    "model.add(Dense(1))\n",
    "model.compile(loss='mean_squared_error',optimizer='adam')"
   ]
  },
  {
   "cell_type": "code",
   "execution_count": 93,
   "metadata": {},
   "outputs": [
    {
     "name": "stdout",
     "output_type": "stream",
     "text": [
      "Epoch 1/100\n",
      "32/32 [==============================] - 7s 11ms/step - loss: 0.0019\n",
      "Epoch 2/100\n",
      "32/32 [==============================] - 0s 11ms/step - loss: 1.1614e-04\n",
      "Epoch 3/100\n",
      "32/32 [==============================] - 0s 11ms/step - loss: 4.7881e-05\n",
      "Epoch 4/100\n",
      "32/32 [==============================] - 0s 11ms/step - loss: 4.3632e-05\n",
      "Epoch 5/100\n",
      "32/32 [==============================] - 0s 11ms/step - loss: 4.7914e-05\n",
      "Epoch 6/100\n",
      "32/32 [==============================] - 0s 11ms/step - loss: 5.6747e-05\n",
      "Epoch 7/100\n",
      "32/32 [==============================] - 0s 11ms/step - loss: 6.5345e-05\n",
      "Epoch 8/100\n",
      "32/32 [==============================] - 0s 11ms/step - loss: 6.4573e-05\n",
      "Epoch 9/100\n",
      "32/32 [==============================] - 0s 11ms/step - loss: 4.4955e-05\n",
      "Epoch 10/100\n",
      "32/32 [==============================] - 0s 11ms/step - loss: 5.1602e-05\n",
      "Epoch 11/100\n",
      "32/32 [==============================] - 0s 11ms/step - loss: 5.0833e-05\n",
      "Epoch 12/100\n",
      "32/32 [==============================] - 0s 12ms/step - loss: 6.1476e-05\n",
      "Epoch 13/100\n",
      "32/32 [==============================] - 0s 13ms/step - loss: 5.0210e-05\n",
      "Epoch 14/100\n",
      "32/32 [==============================] - 0s 14ms/step - loss: 5.6148e-05\n",
      "Epoch 15/100\n",
      "32/32 [==============================] - 0s 13ms/step - loss: 4.2604e-05\n",
      "Epoch 16/100\n",
      "32/32 [==============================] - 0s 11ms/step - loss: 5.0124e-05\n",
      "Epoch 17/100\n",
      "32/32 [==============================] - 0s 12ms/step - loss: 6.1485e-05\n",
      "Epoch 18/100\n",
      "32/32 [==============================] - 0s 11ms/step - loss: 6.0463e-05\n",
      "Epoch 19/100\n",
      "32/32 [==============================] - 0s 11ms/step - loss: 5.1823e-05\n",
      "Epoch 20/100\n",
      "32/32 [==============================] - 0s 11ms/step - loss: 4.1606e-05\n",
      "Epoch 21/100\n",
      "32/32 [==============================] - 0s 11ms/step - loss: 5.6133e-05\n",
      "Epoch 22/100\n",
      "32/32 [==============================] - ETA: 0s - loss: 4.8227e-0 - 0s 12ms/step - loss: 4.8865e-05\n",
      "Epoch 23/100\n",
      "32/32 [==============================] - 0s 13ms/step - loss: 4.9241e-05\n",
      "Epoch 24/100\n",
      "32/32 [==============================] - 0s 12ms/step - loss: 5.8353e-05\n",
      "Epoch 25/100\n",
      "32/32 [==============================] - 0s 14ms/step - loss: 6.0279e-05\n",
      "Epoch 26/100\n",
      "32/32 [==============================] - 0s 12ms/step - loss: 5.9513e-05\n",
      "Epoch 27/100\n",
      "32/32 [==============================] - 0s 13ms/step - loss: 5.8664e-05\n",
      "Epoch 28/100\n",
      "32/32 [==============================] - 0s 14ms/step - loss: 7.2695e-05\n",
      "Epoch 29/100\n",
      "32/32 [==============================] - 0s 14ms/step - loss: 4.1238e-05\n",
      "Epoch 30/100\n",
      "32/32 [==============================] - 0s 12ms/step - loss: 5.1085e-05\n",
      "Epoch 31/100\n",
      "32/32 [==============================] - 0s 14ms/step - loss: 7.3453e-05\n",
      "Epoch 32/100\n",
      "32/32 [==============================] - 0s 13ms/step - loss: 5.2754e-05\n",
      "Epoch 33/100\n",
      "32/32 [==============================] - 0s 12ms/step - loss: 4.1740e-05\n",
      "Epoch 34/100\n",
      "32/32 [==============================] - 0s 11ms/step - loss: 4.7987e-05\n",
      "Epoch 35/100\n",
      "32/32 [==============================] - 0s 11ms/step - loss: 4.4938e-05\n",
      "Epoch 36/100\n",
      "32/32 [==============================] - 0s 11ms/step - loss: 5.5085e-05\n",
      "Epoch 37/100\n",
      "32/32 [==============================] - 0s 12ms/step - loss: 3.9855e-05\n",
      "Epoch 38/100\n",
      "32/32 [==============================] - 0s 12ms/step - loss: 3.5880e-05\n",
      "Epoch 39/100\n",
      "32/32 [==============================] - 0s 13ms/step - loss: 3.4151e-05\n",
      "Epoch 40/100\n",
      "32/32 [==============================] - 0s 12ms/step - loss: 4.1515e-05\n",
      "Epoch 41/100\n",
      "32/32 [==============================] - 0s 12ms/step - loss: 5.0345e-05\n",
      "Epoch 42/100\n",
      "32/32 [==============================] - 0s 11ms/step - loss: 3.3340e-05\n",
      "Epoch 43/100\n",
      "32/32 [==============================] - 0s 10ms/step - loss: 4.4371e-05\n",
      "Epoch 44/100\n",
      "32/32 [==============================] - 0s 12ms/step - loss: 5.3793e-05\n",
      "Epoch 45/100\n",
      "32/32 [==============================] - 0s 11ms/step - loss: 4.9764e-05\n",
      "Epoch 46/100\n",
      "32/32 [==============================] - 0s 10ms/step - loss: 5.8279e-05\n",
      "Epoch 47/100\n",
      "32/32 [==============================] - 0s 10ms/step - loss: 5.9787e-05\n",
      "Epoch 48/100\n",
      "32/32 [==============================] - 0s 10ms/step - loss: 4.8796e-05\n",
      "Epoch 49/100\n",
      "32/32 [==============================] - 0s 10ms/step - loss: 5.8229e-05\n",
      "Epoch 50/100\n",
      "32/32 [==============================] - 0s 10ms/step - loss: 4.0813e-05\n",
      "Epoch 51/100\n",
      "32/32 [==============================] - 0s 10ms/step - loss: 3.5385e-05\n",
      "Epoch 52/100\n",
      "32/32 [==============================] - 0s 10ms/step - loss: 3.4667e-05\n",
      "Epoch 53/100\n",
      "32/32 [==============================] - 0s 12ms/step - loss: 2.8790e-05\n",
      "Epoch 54/100\n",
      "32/32 [==============================] - 0s 11ms/step - loss: 4.2377e-05\n",
      "Epoch 55/100\n",
      "32/32 [==============================] - 0s 12ms/step - loss: 4.7480e-05\n",
      "Epoch 56/100\n",
      "32/32 [==============================] - 0s 12ms/step - loss: 3.9468e-05\n",
      "Epoch 57/100\n",
      "32/32 [==============================] - 0s 11ms/step - loss: 5.2211e-05\n",
      "Epoch 58/100\n",
      "32/32 [==============================] - 0s 11ms/step - loss: 3.5661e-05\n",
      "Epoch 59/100\n",
      "32/32 [==============================] - 0s 11ms/step - loss: 4.7807e-05\n",
      "Epoch 60/100\n",
      "32/32 [==============================] - 0s 11ms/step - loss: 3.9611e-05\n",
      "Epoch 61/100\n",
      "32/32 [==============================] - 0s 14ms/step - loss: 3.3182e-05\n",
      "Epoch 62/100\n",
      "32/32 [==============================] - 0s 13ms/step - loss: 4.0628e-05\n",
      "Epoch 63/100\n",
      "32/32 [==============================] - 0s 12ms/step - loss: 3.0799e-05\n",
      "Epoch 64/100\n",
      "32/32 [==============================] - 0s 11ms/step - loss: 5.7220e-05\n",
      "Epoch 65/100\n",
      "32/32 [==============================] - 0s 14ms/step - loss: 2.9798e-05\n",
      "Epoch 66/100\n",
      "32/32 [==============================] - 0s 12ms/step - loss: 3.8293e-05\n",
      "Epoch 67/100\n",
      "32/32 [==============================] - 0s 12ms/step - loss: 3.7723e-05\n",
      "Epoch 68/100\n",
      "32/32 [==============================] - 0s 12ms/step - loss: 3.9439e-05\n",
      "Epoch 69/100\n",
      "32/32 [==============================] - 0s 13ms/step - loss: 4.4121e-05: 0s - loss: 4.505\n",
      "Epoch 70/100\n",
      "32/32 [==============================] - 0s 12ms/step - loss: 3.6470e-05\n",
      "Epoch 71/100\n",
      "32/32 [==============================] - 0s 13ms/step - loss: 4.0483e-05: 0s - loss: 4.09\n",
      "Epoch 72/100\n",
      "32/32 [==============================] - 0s 12ms/step - loss: 3.4441e-05: 0s - loss: 3.64\n",
      "Epoch 73/100\n",
      "32/32 [==============================] - ETA: 0s - loss: 3.6387e-0 - 0s 12ms/step - loss: 3.6558e-05\n",
      "Epoch 74/100\n",
      "32/32 [==============================] - 0s 12ms/step - loss: 4.0718e-05\n",
      "Epoch 75/100\n",
      "32/32 [==============================] - 0s 12ms/step - loss: 2.3201e-05\n",
      "Epoch 76/100\n",
      "32/32 [==============================] - 0s 11ms/step - loss: 2.5365e-05\n",
      "Epoch 77/100\n",
      "32/32 [==============================] - 0s 11ms/step - loss: 4.5937e-05: 0s - loss: 4.6331\n",
      "Epoch 78/100\n",
      "32/32 [==============================] - 0s 11ms/step - loss: 3.9836e-05\n",
      "Epoch 79/100\n",
      "32/32 [==============================] - 0s 11ms/step - loss: 2.6975e-05\n",
      "Epoch 80/100\n",
      "32/32 [==============================] - 0s 11ms/step - loss: 3.8192e-05\n",
      "Epoch 81/100\n",
      "32/32 [==============================] - 0s 11ms/step - loss: 3.3553e-05\n",
      "Epoch 82/100\n",
      "32/32 [==============================] - 0s 12ms/step - loss: 2.3856e-05: 0s - loss: 1.9689e\n",
      "Epoch 83/100\n",
      "32/32 [==============================] - 0s 11ms/step - loss: 2.2209e-05\n",
      "Epoch 84/100\n",
      "32/32 [==============================] - 0s 11ms/step - loss: 2.5589e-05\n",
      "Epoch 85/100\n",
      "32/32 [==============================] - 0s 11ms/step - loss: 2.7839e-05\n",
      "Epoch 86/100\n",
      "32/32 [==============================] - 0s 11ms/step - loss: 3.2079e-05\n",
      "Epoch 87/100\n",
      "32/32 [==============================] - 0s 13ms/step - loss: 3.5821e-05\n",
      "Epoch 88/100\n",
      "32/32 [==============================] - 0s 12ms/step - loss: 2.5453e-05\n",
      "Epoch 89/100\n",
      "32/32 [==============================] - 0s 12ms/step - loss: 2.4845e-05\n",
      "Epoch 90/100\n",
      "32/32 [==============================] - 0s 11ms/step - loss: 2.4821e-05\n",
      "Epoch 91/100\n",
      "32/32 [==============================] - 0s 12ms/step - loss: 2.5374e-05\n",
      "Epoch 92/100\n",
      "32/32 [==============================] - 0s 11ms/step - loss: 1.5231e-05\n",
      "Epoch 93/100\n",
      "32/32 [==============================] - 0s 11ms/step - loss: 2.0999e-05\n",
      "Epoch 94/100\n"
     ]
    },
    {
     "name": "stdout",
     "output_type": "stream",
     "text": [
      "32/32 [==============================] - 0s 11ms/step - loss: 2.3372e-05\n",
      "Epoch 95/100\n",
      "32/32 [==============================] - 0s 10ms/step - loss: 2.2824e-05\n",
      "Epoch 96/100\n",
      "32/32 [==============================] - 0s 11ms/step - loss: 2.0547e-05\n",
      "Epoch 97/100\n",
      "32/32 [==============================] - 0s 11ms/step - loss: 1.6984e-05\n",
      "Epoch 98/100\n",
      "32/32 [==============================] - 0s 11ms/step - loss: 2.6022e-05\n",
      "Epoch 99/100\n",
      "32/32 [==============================] - 0s 11ms/step - loss: 2.3061e-05\n",
      "Epoch 100/100\n",
      "32/32 [==============================] - 0s 11ms/step - loss: 2.1864e-05\n"
     ]
    },
    {
     "data": {
      "text/plain": [
       "<keras.callbacks.History at 0x24b27c78730>"
      ]
     },
     "execution_count": 93,
     "metadata": {},
     "output_type": "execute_result"
    }
   ],
   "source": [
    "model.fit(X_train, y_train, epochs=100, batch_size=32)"
   ]
  },
  {
   "cell_type": "markdown",
   "metadata": {},
   "source": [
    "____________________________________________________  \n",
    "\n",
    " --- Hiperparâmetros do Modelo ---  \n",
    "stepsize  = 8  \n",
    "ativação = tahn  \n",
    "otimização = adam  \n",
    "batchsize = 32  \n",
    "(todos os modelos foram treinados com 100 epocas)  \n",
    "____________________________________________________"
   ]
  },
  {
   "cell_type": "code",
   "execution_count": 94,
   "metadata": {},
   "outputs": [],
   "source": [
    "train_predict=model.predict(X_train)\n",
    "test_predict=model.predict(X_test)"
   ]
  },
  {
   "cell_type": "code",
   "execution_count": 95,
   "metadata": {},
   "outputs": [],
   "source": [
    "MSE = mean_absolute_error(y_test, test_predict)"
   ]
  },
  {
   "cell_type": "code",
   "execution_count": 96,
   "metadata": {
    "scrolled": true
   },
   "outputs": [
    {
     "data": {
      "text/plain": [
       "Text(0, 0.5, 'Price')"
      ]
     },
     "execution_count": 96,
     "metadata": {},
     "output_type": "execute_result"
    },
    {
     "data": {
      "image/png": "[encoded data removed]",
      "text/plain": [
       "<Figure size 1008x432 with 1 Axes>"
      ]
     },
     "metadata": {
      "needs_background": "light"
     },
     "output_type": "display_data"
    }
   ],
   "source": [
    "plt.figure(figsize=(14,6))\n",
    "plt.plot(scaler.inverse_transform(y_test.reshape(-1,1)))\n",
    "plt.plot(scaler.inverse_transform(test_predict.reshape(-1,1)))\n",
    "plt.title(\"Comparison with MAE {0:0.10f}\".format(MSE))\n",
    "plt.legend([\"Y\", \"Prediction\"])\n",
    "plt.xlabel(\"Timeframe\")\n",
    "plt.ylabel(\"Price\")"
   ]
  },
  {
   "cell_type": "code",
   "execution_count": null,
   "metadata": {},
   "outputs": [],
   "source": []
  }
 ],
 "metadata": {
  "colab": {
   "collapsed_sections": [],
   "name": "Predicting_BTC_with_LSTM.ipynb",
   "provenance": []
  },
  "kernelspec": {
   "display_name": "Python 3",
   "language": "python",
   "name": "python3"
  },
  "language_info": {
   "codemirror_mode": {
    "name": "ipython",
    "version": 3
   },
   "file_extension": ".py",
   "mimetype": "text/x-python",
   "name": "python",
   "nbconvert_exporter": "python",
   "pygments_lexer": "ipython3",
   "version": "3.8.8"
  }
 },
 "nbformat": 4,
 "nbformat_minor": 1
}
